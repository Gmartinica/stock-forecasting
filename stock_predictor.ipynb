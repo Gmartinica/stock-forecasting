{
  "nbformat": 4,
  "nbformat_minor": 0,
  "metadata": {
    "colab": {
      "provenance": [],
      "authorship_tag": "ABX9TyMIDwrb6008rwrHXrnw5CV5",
      "include_colab_link": true
    },
    "kernelspec": {
      "name": "python3",
      "display_name": "Python 3"
    },
    "language_info": {
      "name": "python"
    }
  },
  "cells": [
    {
      "cell_type": "markdown",
      "metadata": {
        "id": "view-in-github",
        "colab_type": "text"
      },
      "source": [
        "<a href=\"https://colab.research.google.com/github/Gmartinica/stock-forecasting/blob/main/stock_predictor.ipynb\" target=\"_parent\"><img src=\"https://colab.research.google.com/assets/colab-badge.svg\" alt=\"Open In Colab\"/></a>"
      ]
    },
    {
      "cell_type": "markdown",
      "source": [
        "# Data preprocessing (getting news data)\n"
      ],
      "metadata": {
        "id": "KuM0SyrvPl66"
      }
    },
    {
      "cell_type": "code",
      "source": [
        "import pandas as pd\n",
        "import numpy as np\n",
        "import matplotlib.pyplot as plt"
      ],
      "metadata": {
        "id": "neI1WdzNRuU7"
      },
      "execution_count": 2,
      "outputs": []
    },
    {
      "cell_type": "markdown",
      "source": [
        "Getting news data source: https://www.kaggle.com/datasets/rmisra/news-category-dataset"
      ],
      "metadata": {
        "id": "0Ve5WfE8Q1xz"
      }
    },
    {
      "cell_type": "code",
      "source": [
        "!gdown 1TkLOps0qxeKKqigID_GMB4xe9mWgsaKn"
      ],
      "metadata": {
        "colab": {
          "base_uri": "https://localhost:8080/"
        },
        "id": "ZY0t1PFYPqIG",
        "outputId": "1e8c6700-ec2c-4fee-d8a7-86f777d05d33"
      },
      "execution_count": 3,
      "outputs": [
        {
          "output_type": "stream",
          "name": "stdout",
          "text": [
            "Downloading...\n",
            "From: https://drive.google.com/uc?id=1TkLOps0qxeKKqigID_GMB4xe9mWgsaKn\n",
            "To: /content/huffpost_news.json\n",
            "100% 87.3M/87.3M [00:01<00:00, 72.6MB/s]\n"
          ]
        }
      ]
    },
    {
      "cell_type": "code",
      "source": [
        "with open('huffpost_news.json', encoding='utf-8') as inputfile:\n",
        "    huff_news = pd.read_json(inputfile, lines=True)"
      ],
      "metadata": {
        "id": "eh3PDs_URWQ7"
      },
      "execution_count": 4,
      "outputs": []
    },
    {
      "cell_type": "code",
      "source": [
        "display(huff_news)"
      ],
      "metadata": {
        "colab": {
          "base_uri": "https://localhost:8080/",
          "height": 419
        },
        "id": "3At_c9XfRsRi",
        "outputId": "a185a905-0211-4e2e-8dae-d2ec0579a155"
      },
      "execution_count": 5,
      "outputs": [
        {
          "output_type": "display_data",
          "data": {
            "text/plain": [
              "                                                     link  \\\n",
              "0       https://www.huffpost.com/entry/covid-boosters-...   \n",
              "1       https://www.huffpost.com/entry/american-airlin...   \n",
              "2       https://www.huffpost.com/entry/funniest-tweets...   \n",
              "3       https://www.huffpost.com/entry/funniest-parent...   \n",
              "4       https://www.huffpost.com/entry/amy-cooper-lose...   \n",
              "...                                                   ...   \n",
              "209522  https://www.huffingtonpost.com/entry/rim-ceo-t...   \n",
              "209523  https://www.huffingtonpost.com/entry/maria-sha...   \n",
              "209524  https://www.huffingtonpost.com/entry/super-bow...   \n",
              "209525  https://www.huffingtonpost.com/entry/aldon-smi...   \n",
              "209526  https://www.huffingtonpost.com/entry/dwight-ho...   \n",
              "\n",
              "                                                 headline   category  \\\n",
              "0       Over 4 Million Americans Roll Up Sleeves For O...  U.S. NEWS   \n",
              "1       American Airlines Flyer Charged, Banned For Li...  U.S. NEWS   \n",
              "2       23 Of The Funniest Tweets About Cats And Dogs ...     COMEDY   \n",
              "3       The Funniest Tweets From Parents This Week (Se...  PARENTING   \n",
              "4       Woman Who Called Cops On Black Bird-Watcher Lo...  U.S. NEWS   \n",
              "...                                                   ...        ...   \n",
              "209522  RIM CEO Thorsten Heins' 'Significant' Plans Fo...       TECH   \n",
              "209523  Maria Sharapova Stunned By Victoria Azarenka I...     SPORTS   \n",
              "209524  Giants Over Patriots, Jets Over Colts Among  M...     SPORTS   \n",
              "209525  Aldon Smith Arrested: 49ers Linebacker Busted ...     SPORTS   \n",
              "209526  Dwight Howard Rips Teammates After Magic Loss ...     SPORTS   \n",
              "\n",
              "                                        short_description  \\\n",
              "0       Health experts said it is too early to predict...   \n",
              "1       He was subdued by passengers and crew when he ...   \n",
              "2       \"Until you have a dog you don't understand wha...   \n",
              "3       \"Accidentally put grown-up toothpaste on my to...   \n",
              "4       Amy Cooper accused investment firm Franklin Te...   \n",
              "...                                                   ...   \n",
              "209522  Verizon Wireless and AT&T are already promotin...   \n",
              "209523  Afterward, Azarenka, more effusive with the pr...   \n",
              "209524  Leading up to Super Bowl XLVI, the most talked...   \n",
              "209525  CORRECTION: An earlier version of this story i...   \n",
              "209526  The five-time all-star center tore into his te...   \n",
              "\n",
              "                     authors       date  \n",
              "0       Carla K. Johnson, AP 2022-09-23  \n",
              "1             Mary Papenfuss 2022-09-23  \n",
              "2              Elyse Wanshel 2022-09-23  \n",
              "3           Caroline Bologna 2022-09-23  \n",
              "4             Nina Golgowski 2022-09-22  \n",
              "...                      ...        ...  \n",
              "209522      Reuters, Reuters 2012-01-28  \n",
              "209523                       2012-01-28  \n",
              "209524                       2012-01-28  \n",
              "209525                       2012-01-28  \n",
              "209526                       2012-01-28  \n",
              "\n",
              "[209527 rows x 6 columns]"
            ],
            "text/html": [
              "\n",
              "  <div id=\"df-264a6588-2ac5-4440-94a7-b864fb547fe0\">\n",
              "    <div class=\"colab-df-container\">\n",
              "      <div>\n",
              "<style scoped>\n",
              "    .dataframe tbody tr th:only-of-type {\n",
              "        vertical-align: middle;\n",
              "    }\n",
              "\n",
              "    .dataframe tbody tr th {\n",
              "        vertical-align: top;\n",
              "    }\n",
              "\n",
              "    .dataframe thead th {\n",
              "        text-align: right;\n",
              "    }\n",
              "</style>\n",
              "<table border=\"1\" class=\"dataframe\">\n",
              "  <thead>\n",
              "    <tr style=\"text-align: right;\">\n",
              "      <th></th>\n",
              "      <th>link</th>\n",
              "      <th>headline</th>\n",
              "      <th>category</th>\n",
              "      <th>short_description</th>\n",
              "      <th>authors</th>\n",
              "      <th>date</th>\n",
              "    </tr>\n",
              "  </thead>\n",
              "  <tbody>\n",
              "    <tr>\n",
              "      <th>0</th>\n",
              "      <td>https://www.huffpost.com/entry/covid-boosters-...</td>\n",
              "      <td>Over 4 Million Americans Roll Up Sleeves For O...</td>\n",
              "      <td>U.S. NEWS</td>\n",
              "      <td>Health experts said it is too early to predict...</td>\n",
              "      <td>Carla K. Johnson, AP</td>\n",
              "      <td>2022-09-23</td>\n",
              "    </tr>\n",
              "    <tr>\n",
              "      <th>1</th>\n",
              "      <td>https://www.huffpost.com/entry/american-airlin...</td>\n",
              "      <td>American Airlines Flyer Charged, Banned For Li...</td>\n",
              "      <td>U.S. NEWS</td>\n",
              "      <td>He was subdued by passengers and crew when he ...</td>\n",
              "      <td>Mary Papenfuss</td>\n",
              "      <td>2022-09-23</td>\n",
              "    </tr>\n",
              "    <tr>\n",
              "      <th>2</th>\n",
              "      <td>https://www.huffpost.com/entry/funniest-tweets...</td>\n",
              "      <td>23 Of The Funniest Tweets About Cats And Dogs ...</td>\n",
              "      <td>COMEDY</td>\n",
              "      <td>\"Until you have a dog you don't understand wha...</td>\n",
              "      <td>Elyse Wanshel</td>\n",
              "      <td>2022-09-23</td>\n",
              "    </tr>\n",
              "    <tr>\n",
              "      <th>3</th>\n",
              "      <td>https://www.huffpost.com/entry/funniest-parent...</td>\n",
              "      <td>The Funniest Tweets From Parents This Week (Se...</td>\n",
              "      <td>PARENTING</td>\n",
              "      <td>\"Accidentally put grown-up toothpaste on my to...</td>\n",
              "      <td>Caroline Bologna</td>\n",
              "      <td>2022-09-23</td>\n",
              "    </tr>\n",
              "    <tr>\n",
              "      <th>4</th>\n",
              "      <td>https://www.huffpost.com/entry/amy-cooper-lose...</td>\n",
              "      <td>Woman Who Called Cops On Black Bird-Watcher Lo...</td>\n",
              "      <td>U.S. NEWS</td>\n",
              "      <td>Amy Cooper accused investment firm Franklin Te...</td>\n",
              "      <td>Nina Golgowski</td>\n",
              "      <td>2022-09-22</td>\n",
              "    </tr>\n",
              "    <tr>\n",
              "      <th>...</th>\n",
              "      <td>...</td>\n",
              "      <td>...</td>\n",
              "      <td>...</td>\n",
              "      <td>...</td>\n",
              "      <td>...</td>\n",
              "      <td>...</td>\n",
              "    </tr>\n",
              "    <tr>\n",
              "      <th>209522</th>\n",
              "      <td>https://www.huffingtonpost.com/entry/rim-ceo-t...</td>\n",
              "      <td>RIM CEO Thorsten Heins' 'Significant' Plans Fo...</td>\n",
              "      <td>TECH</td>\n",
              "      <td>Verizon Wireless and AT&amp;T are already promotin...</td>\n",
              "      <td>Reuters, Reuters</td>\n",
              "      <td>2012-01-28</td>\n",
              "    </tr>\n",
              "    <tr>\n",
              "      <th>209523</th>\n",
              "      <td>https://www.huffingtonpost.com/entry/maria-sha...</td>\n",
              "      <td>Maria Sharapova Stunned By Victoria Azarenka I...</td>\n",
              "      <td>SPORTS</td>\n",
              "      <td>Afterward, Azarenka, more effusive with the pr...</td>\n",
              "      <td></td>\n",
              "      <td>2012-01-28</td>\n",
              "    </tr>\n",
              "    <tr>\n",
              "      <th>209524</th>\n",
              "      <td>https://www.huffingtonpost.com/entry/super-bow...</td>\n",
              "      <td>Giants Over Patriots, Jets Over Colts Among  M...</td>\n",
              "      <td>SPORTS</td>\n",
              "      <td>Leading up to Super Bowl XLVI, the most talked...</td>\n",
              "      <td></td>\n",
              "      <td>2012-01-28</td>\n",
              "    </tr>\n",
              "    <tr>\n",
              "      <th>209525</th>\n",
              "      <td>https://www.huffingtonpost.com/entry/aldon-smi...</td>\n",
              "      <td>Aldon Smith Arrested: 49ers Linebacker Busted ...</td>\n",
              "      <td>SPORTS</td>\n",
              "      <td>CORRECTION: An earlier version of this story i...</td>\n",
              "      <td></td>\n",
              "      <td>2012-01-28</td>\n",
              "    </tr>\n",
              "    <tr>\n",
              "      <th>209526</th>\n",
              "      <td>https://www.huffingtonpost.com/entry/dwight-ho...</td>\n",
              "      <td>Dwight Howard Rips Teammates After Magic Loss ...</td>\n",
              "      <td>SPORTS</td>\n",
              "      <td>The five-time all-star center tore into his te...</td>\n",
              "      <td></td>\n",
              "      <td>2012-01-28</td>\n",
              "    </tr>\n",
              "  </tbody>\n",
              "</table>\n",
              "<p>209527 rows × 6 columns</p>\n",
              "</div>\n",
              "      <button class=\"colab-df-convert\" onclick=\"convertToInteractive('df-264a6588-2ac5-4440-94a7-b864fb547fe0')\"\n",
              "              title=\"Convert this dataframe to an interactive table.\"\n",
              "              style=\"display:none;\">\n",
              "        \n",
              "  <svg xmlns=\"http://www.w3.org/2000/svg\" height=\"24px\"viewBox=\"0 0 24 24\"\n",
              "       width=\"24px\">\n",
              "    <path d=\"M0 0h24v24H0V0z\" fill=\"none\"/>\n",
              "    <path d=\"M18.56 5.44l.94 2.06.94-2.06 2.06-.94-2.06-.94-.94-2.06-.94 2.06-2.06.94zm-11 1L8.5 8.5l.94-2.06 2.06-.94-2.06-.94L8.5 2.5l-.94 2.06-2.06.94zm10 10l.94 2.06.94-2.06 2.06-.94-2.06-.94-.94-2.06-.94 2.06-2.06.94z\"/><path d=\"M17.41 7.96l-1.37-1.37c-.4-.4-.92-.59-1.43-.59-.52 0-1.04.2-1.43.59L10.3 9.45l-7.72 7.72c-.78.78-.78 2.05 0 2.83L4 21.41c.39.39.9.59 1.41.59.51 0 1.02-.2 1.41-.59l7.78-7.78 2.81-2.81c.8-.78.8-2.07 0-2.86zM5.41 20L4 18.59l7.72-7.72 1.47 1.35L5.41 20z\"/>\n",
              "  </svg>\n",
              "      </button>\n",
              "      \n",
              "  <style>\n",
              "    .colab-df-container {\n",
              "      display:flex;\n",
              "      flex-wrap:wrap;\n",
              "      gap: 12px;\n",
              "    }\n",
              "\n",
              "    .colab-df-convert {\n",
              "      background-color: #E8F0FE;\n",
              "      border: none;\n",
              "      border-radius: 50%;\n",
              "      cursor: pointer;\n",
              "      display: none;\n",
              "      fill: #1967D2;\n",
              "      height: 32px;\n",
              "      padding: 0 0 0 0;\n",
              "      width: 32px;\n",
              "    }\n",
              "\n",
              "    .colab-df-convert:hover {\n",
              "      background-color: #E2EBFA;\n",
              "      box-shadow: 0px 1px 2px rgba(60, 64, 67, 0.3), 0px 1px 3px 1px rgba(60, 64, 67, 0.15);\n",
              "      fill: #174EA6;\n",
              "    }\n",
              "\n",
              "    [theme=dark] .colab-df-convert {\n",
              "      background-color: #3B4455;\n",
              "      fill: #D2E3FC;\n",
              "    }\n",
              "\n",
              "    [theme=dark] .colab-df-convert:hover {\n",
              "      background-color: #434B5C;\n",
              "      box-shadow: 0px 1px 3px 1px rgba(0, 0, 0, 0.15);\n",
              "      filter: drop-shadow(0px 1px 2px rgba(0, 0, 0, 0.3));\n",
              "      fill: #FFFFFF;\n",
              "    }\n",
              "  </style>\n",
              "\n",
              "      <script>\n",
              "        const buttonEl =\n",
              "          document.querySelector('#df-264a6588-2ac5-4440-94a7-b864fb547fe0 button.colab-df-convert');\n",
              "        buttonEl.style.display =\n",
              "          google.colab.kernel.accessAllowed ? 'block' : 'none';\n",
              "\n",
              "        async function convertToInteractive(key) {\n",
              "          const element = document.querySelector('#df-264a6588-2ac5-4440-94a7-b864fb547fe0');\n",
              "          const dataTable =\n",
              "            await google.colab.kernel.invokeFunction('convertToInteractive',\n",
              "                                                     [key], {});\n",
              "          if (!dataTable) return;\n",
              "\n",
              "          const docLinkHtml = 'Like what you see? Visit the ' +\n",
              "            '<a target=\"_blank\" href=https://colab.research.google.com/notebooks/data_table.ipynb>data table notebook</a>'\n",
              "            + ' to learn more about interactive tables.';\n",
              "          element.innerHTML = '';\n",
              "          dataTable['output_type'] = 'display_data';\n",
              "          await google.colab.output.renderOutput(dataTable, element);\n",
              "          const docLink = document.createElement('div');\n",
              "          docLink.innerHTML = docLinkHtml;\n",
              "          element.appendChild(docLink);\n",
              "        }\n",
              "      </script>\n",
              "    </div>\n",
              "  </div>\n",
              "  "
            ]
          },
          "metadata": {}
        }
      ]
    },
    {
      "cell_type": "code",
      "source": [
        "# Clean up by filtering only news where category is US news and keep only headline, short_description and date rows\n",
        "huff_news_clean = huff_news.loc[huff_news['category'].isin([\"U.S. NEWS\", \"WORLD NEWS\"])]"
      ],
      "metadata": {
        "id": "VSwj7gZnRWYT"
      },
      "execution_count": 6,
      "outputs": []
    },
    {
      "cell_type": "code",
      "source": [
        "huff_news_clean = huff_news_clean.drop(['link', 'category', 'authors'], axis=1)"
      ],
      "metadata": {
        "id": "ADZyDPtVTvlv"
      },
      "execution_count": 7,
      "outputs": []
    },
    {
      "cell_type": "code",
      "source": [
        "huff_news_clean['date'] = pd.to_datetime(huff_news_clean['date'], utc=True)\n",
        "huff_news_clean['date'] = huff_news_clean['date'].dt.strftime('%Y-%m-%d')"
      ],
      "metadata": {
        "id": "mUc8mqHMyNZn"
      },
      "execution_count": 8,
      "outputs": []
    },
    {
      "cell_type": "code",
      "source": [
        "huff_news_clean = huff_news_clean.groupby('date').agg({'headline': lambda x: '\\n'.join(x), 'short_description': lambda x: '\\n'.join(x)}).reset_index()"
      ],
      "metadata": {
        "id": "tdTQwVatbT1N"
      },
      "execution_count": 9,
      "outputs": []
    },
    {
      "cell_type": "code",
      "source": [
        "display(huff_news_clean)"
      ],
      "metadata": {
        "colab": {
          "base_uri": "https://localhost:8080/",
          "height": 419
        },
        "id": "lpvSR_miopvO",
        "outputId": "f292b86e-6138-4528-9354-dfd531e51264"
      },
      "execution_count": 10,
      "outputs": [
        {
          "output_type": "display_data",
          "data": {
            "text/plain": [
              "            date                                           headline  \\\n",
              "0     2017-04-09  What You Need To Know About North Korea's Nucl...   \n",
              "1     2017-05-20  Trump’s Counter-Extremism Effort Should Addres...   \n",
              "2     2017-05-21  The Riyadh Summits: A Workshop For A Global Fr...   \n",
              "3     2017-05-22  Don't Be Fooled: Iran's Newly Elected Hassan R...   \n",
              "4     2017-05-23  #RoomForManchester Hashtag Helps Shelter Stran...   \n",
              "...          ...                                                ...   \n",
              "1209  2022-09-19  Hurricane Fiona Bears Down On Dominican Republ...   \n",
              "1210  2022-09-20  Russian Cosmonaut Valery Polyakov Who Broke Re...   \n",
              "1211  2022-09-21  Biden At UN To Call Russian War An Affront To ...   \n",
              "1212  2022-09-22  Woman Who Called Cops On Black Bird-Watcher Lo...   \n",
              "1213  2022-09-23  Over 4 Million Americans Roll Up Sleeves For O...   \n",
              "\n",
              "                                      short_description  \n",
              "0     Experts say the country's nuclear weapons test...  \n",
              "1     The president will have to address incitement ...  \n",
              "2     Donald Trump’s presidency is currently undergo...  \n",
              "3     Don’t be fooled.\\nGeorges Fahmi, European Univ...  \n",
              "4     \"When terrorism makes you question humanity, l...  \n",
              "...                                                 ...  \n",
              "1209  The storm knocked out the power grid and unlea...  \n",
              "1210  Polyakov's record-breaking trip to outer space...  \n",
              "1211  White House officials say the crux of the pres...  \n",
              "1212  Amy Cooper accused investment firm Franklin Te...  \n",
              "1213  Health experts said it is too early to predict...  \n",
              "\n",
              "[1214 rows x 3 columns]"
            ],
            "text/html": [
              "\n",
              "  <div id=\"df-d103da23-29e6-4fc5-a041-dddf4021b87f\">\n",
              "    <div class=\"colab-df-container\">\n",
              "      <div>\n",
              "<style scoped>\n",
              "    .dataframe tbody tr th:only-of-type {\n",
              "        vertical-align: middle;\n",
              "    }\n",
              "\n",
              "    .dataframe tbody tr th {\n",
              "        vertical-align: top;\n",
              "    }\n",
              "\n",
              "    .dataframe thead th {\n",
              "        text-align: right;\n",
              "    }\n",
              "</style>\n",
              "<table border=\"1\" class=\"dataframe\">\n",
              "  <thead>\n",
              "    <tr style=\"text-align: right;\">\n",
              "      <th></th>\n",
              "      <th>date</th>\n",
              "      <th>headline</th>\n",
              "      <th>short_description</th>\n",
              "    </tr>\n",
              "  </thead>\n",
              "  <tbody>\n",
              "    <tr>\n",
              "      <th>0</th>\n",
              "      <td>2017-04-09</td>\n",
              "      <td>What You Need To Know About North Korea's Nucl...</td>\n",
              "      <td>Experts say the country's nuclear weapons test...</td>\n",
              "    </tr>\n",
              "    <tr>\n",
              "      <th>1</th>\n",
              "      <td>2017-05-20</td>\n",
              "      <td>Trump’s Counter-Extremism Effort Should Addres...</td>\n",
              "      <td>The president will have to address incitement ...</td>\n",
              "    </tr>\n",
              "    <tr>\n",
              "      <th>2</th>\n",
              "      <td>2017-05-21</td>\n",
              "      <td>The Riyadh Summits: A Workshop For A Global Fr...</td>\n",
              "      <td>Donald Trump’s presidency is currently undergo...</td>\n",
              "    </tr>\n",
              "    <tr>\n",
              "      <th>3</th>\n",
              "      <td>2017-05-22</td>\n",
              "      <td>Don't Be Fooled: Iran's Newly Elected Hassan R...</td>\n",
              "      <td>Don’t be fooled.\\nGeorges Fahmi, European Univ...</td>\n",
              "    </tr>\n",
              "    <tr>\n",
              "      <th>4</th>\n",
              "      <td>2017-05-23</td>\n",
              "      <td>#RoomForManchester Hashtag Helps Shelter Stran...</td>\n",
              "      <td>\"When terrorism makes you question humanity, l...</td>\n",
              "    </tr>\n",
              "    <tr>\n",
              "      <th>...</th>\n",
              "      <td>...</td>\n",
              "      <td>...</td>\n",
              "      <td>...</td>\n",
              "    </tr>\n",
              "    <tr>\n",
              "      <th>1209</th>\n",
              "      <td>2022-09-19</td>\n",
              "      <td>Hurricane Fiona Bears Down On Dominican Republ...</td>\n",
              "      <td>The storm knocked out the power grid and unlea...</td>\n",
              "    </tr>\n",
              "    <tr>\n",
              "      <th>1210</th>\n",
              "      <td>2022-09-20</td>\n",
              "      <td>Russian Cosmonaut Valery Polyakov Who Broke Re...</td>\n",
              "      <td>Polyakov's record-breaking trip to outer space...</td>\n",
              "    </tr>\n",
              "    <tr>\n",
              "      <th>1211</th>\n",
              "      <td>2022-09-21</td>\n",
              "      <td>Biden At UN To Call Russian War An Affront To ...</td>\n",
              "      <td>White House officials say the crux of the pres...</td>\n",
              "    </tr>\n",
              "    <tr>\n",
              "      <th>1212</th>\n",
              "      <td>2022-09-22</td>\n",
              "      <td>Woman Who Called Cops On Black Bird-Watcher Lo...</td>\n",
              "      <td>Amy Cooper accused investment firm Franklin Te...</td>\n",
              "    </tr>\n",
              "    <tr>\n",
              "      <th>1213</th>\n",
              "      <td>2022-09-23</td>\n",
              "      <td>Over 4 Million Americans Roll Up Sleeves For O...</td>\n",
              "      <td>Health experts said it is too early to predict...</td>\n",
              "    </tr>\n",
              "  </tbody>\n",
              "</table>\n",
              "<p>1214 rows × 3 columns</p>\n",
              "</div>\n",
              "      <button class=\"colab-df-convert\" onclick=\"convertToInteractive('df-d103da23-29e6-4fc5-a041-dddf4021b87f')\"\n",
              "              title=\"Convert this dataframe to an interactive table.\"\n",
              "              style=\"display:none;\">\n",
              "        \n",
              "  <svg xmlns=\"http://www.w3.org/2000/svg\" height=\"24px\"viewBox=\"0 0 24 24\"\n",
              "       width=\"24px\">\n",
              "    <path d=\"M0 0h24v24H0V0z\" fill=\"none\"/>\n",
              "    <path d=\"M18.56 5.44l.94 2.06.94-2.06 2.06-.94-2.06-.94-.94-2.06-.94 2.06-2.06.94zm-11 1L8.5 8.5l.94-2.06 2.06-.94-2.06-.94L8.5 2.5l-.94 2.06-2.06.94zm10 10l.94 2.06.94-2.06 2.06-.94-2.06-.94-.94-2.06-.94 2.06-2.06.94z\"/><path d=\"M17.41 7.96l-1.37-1.37c-.4-.4-.92-.59-1.43-.59-.52 0-1.04.2-1.43.59L10.3 9.45l-7.72 7.72c-.78.78-.78 2.05 0 2.83L4 21.41c.39.39.9.59 1.41.59.51 0 1.02-.2 1.41-.59l7.78-7.78 2.81-2.81c.8-.78.8-2.07 0-2.86zM5.41 20L4 18.59l7.72-7.72 1.47 1.35L5.41 20z\"/>\n",
              "  </svg>\n",
              "      </button>\n",
              "      \n",
              "  <style>\n",
              "    .colab-df-container {\n",
              "      display:flex;\n",
              "      flex-wrap:wrap;\n",
              "      gap: 12px;\n",
              "    }\n",
              "\n",
              "    .colab-df-convert {\n",
              "      background-color: #E8F0FE;\n",
              "      border: none;\n",
              "      border-radius: 50%;\n",
              "      cursor: pointer;\n",
              "      display: none;\n",
              "      fill: #1967D2;\n",
              "      height: 32px;\n",
              "      padding: 0 0 0 0;\n",
              "      width: 32px;\n",
              "    }\n",
              "\n",
              "    .colab-df-convert:hover {\n",
              "      background-color: #E2EBFA;\n",
              "      box-shadow: 0px 1px 2px rgba(60, 64, 67, 0.3), 0px 1px 3px 1px rgba(60, 64, 67, 0.15);\n",
              "      fill: #174EA6;\n",
              "    }\n",
              "\n",
              "    [theme=dark] .colab-df-convert {\n",
              "      background-color: #3B4455;\n",
              "      fill: #D2E3FC;\n",
              "    }\n",
              "\n",
              "    [theme=dark] .colab-df-convert:hover {\n",
              "      background-color: #434B5C;\n",
              "      box-shadow: 0px 1px 3px 1px rgba(0, 0, 0, 0.15);\n",
              "      filter: drop-shadow(0px 1px 2px rgba(0, 0, 0, 0.3));\n",
              "      fill: #FFFFFF;\n",
              "    }\n",
              "  </style>\n",
              "\n",
              "      <script>\n",
              "        const buttonEl =\n",
              "          document.querySelector('#df-d103da23-29e6-4fc5-a041-dddf4021b87f button.colab-df-convert');\n",
              "        buttonEl.style.display =\n",
              "          google.colab.kernel.accessAllowed ? 'block' : 'none';\n",
              "\n",
              "        async function convertToInteractive(key) {\n",
              "          const element = document.querySelector('#df-d103da23-29e6-4fc5-a041-dddf4021b87f');\n",
              "          const dataTable =\n",
              "            await google.colab.kernel.invokeFunction('convertToInteractive',\n",
              "                                                     [key], {});\n",
              "          if (!dataTable) return;\n",
              "\n",
              "          const docLinkHtml = 'Like what you see? Visit the ' +\n",
              "            '<a target=\"_blank\" href=https://colab.research.google.com/notebooks/data_table.ipynb>data table notebook</a>'\n",
              "            + ' to learn more about interactive tables.';\n",
              "          element.innerHTML = '';\n",
              "          dataTable['output_type'] = 'display_data';\n",
              "          await google.colab.output.renderOutput(dataTable, element);\n",
              "          const docLink = document.createElement('div');\n",
              "          docLink.innerHTML = docLinkHtml;\n",
              "          element.appendChild(docLink);\n",
              "        }\n",
              "      </script>\n",
              "    </div>\n",
              "  </div>\n",
              "  "
            ]
          },
          "metadata": {}
        }
      ]
    },
    {
      "cell_type": "code",
      "source": [
        "!gdown 1gpIXF8aszwj2stBomkbNLds9O0zI8bH0"
      ],
      "metadata": {
        "colab": {
          "base_uri": "https://localhost:8080/"
        },
        "id": "dvDQRjXYZ4Nd",
        "outputId": "8341568e-65c6-493f-f2c5-329d5bf74f46"
      },
      "execution_count": 11,
      "outputs": [
        {
          "output_type": "stream",
          "name": "stdout",
          "text": [
            "Downloading...\n",
            "From: https://drive.google.com/uc?id=1gpIXF8aszwj2stBomkbNLds9O0zI8bH0\n",
            "To: /content/stock_news.csv\n",
            "100% 170M/170M [00:02<00:00, 61.4MB/s]\n"
          ]
        }
      ]
    },
    {
      "cell_type": "code",
      "source": [
        "with open('stock_news.csv', encoding='utf-8') as inputfile:\n",
        "    stock_df = pd.read_csv(inputfile)"
      ],
      "metadata": {
        "id": "Ck672MXZbxBZ"
      },
      "execution_count": 12,
      "outputs": []
    },
    {
      "cell_type": "code",
      "source": [
        "# errors coerce because there 2578 rows with wrong/missing values in the date column value \n",
        "stock_df['date'] = pd.to_datetime(stock_df['date'], errors='coerce')"
      ],
      "metadata": {
        "id": "yeMh_qU-d5B-"
      },
      "execution_count": 13,
      "outputs": []
    },
    {
      "cell_type": "code",
      "source": [
        "# Remove rows containing n/a in date because there 2578 rows with wrong/missing values in the date column value\n",
        "na_rows = stock_df[stock_df['date'].isna()]\n",
        "print(\"Number of rows with errors: \" + str(len(na_rows)))\n",
        "stock_df = stock_df.drop(na_rows.index)"
      ],
      "metadata": {
        "colab": {
          "base_uri": "https://localhost:8080/"
        },
        "id": "B6s1_WDVcQ_X",
        "outputId": "56d696c2-099d-4a15-fb46-d76e3a406eb3"
      },
      "execution_count": 14,
      "outputs": [
        {
          "output_type": "stream",
          "name": "stdout",
          "text": [
            "Number of rows with errors: 2578\n"
          ]
        }
      ]
    },
    {
      "cell_type": "code",
      "source": [
        "stock_df['date'] = pd.to_datetime(stock_df['date'], errors='coerce', utc=True)"
      ],
      "metadata": {
        "id": "cslCUOyMuOKD"
      },
      "execution_count": 15,
      "outputs": []
    },
    {
      "cell_type": "code",
      "source": [
        "# Change format to something like 2020-02-14\n",
        "stock_df['formatted_date'] = stock_df['date'].dt.strftime('%Y-%m-%d')"
      ],
      "metadata": {
        "id": "bMf_trISprPB"
      },
      "execution_count": 16,
      "outputs": []
    },
    {
      "cell_type": "code",
      "source": [
        "# Remove unnecesary columns\n",
        "stock_df_clean = stock_df.drop(['Unnamed: 0.1', 'Unnamed: 0', 'date', 'stock'], axis=1)"
      ],
      "metadata": {
        "id": "EkufmMibs_vm"
      },
      "execution_count": 17,
      "outputs": []
    },
    {
      "cell_type": "code",
      "source": [
        "stock_df_clean = stock_df_clean.rename(columns={'formatted_date': 'date'})"
      ],
      "metadata": {
        "id": "91zu2PNItRhj"
      },
      "execution_count": 18,
      "outputs": []
    },
    {
      "cell_type": "code",
      "source": [
        "len(stock_df_clean)"
      ],
      "metadata": {
        "colab": {
          "base_uri": "https://localhost:8080/"
        },
        "id": "nix3tXYHOKth",
        "outputId": "9e94368b-4174-4783-f2e4-a28072e3138a"
      },
      "execution_count": 19,
      "outputs": [
        {
          "output_type": "execute_result",
          "data": {
            "text/plain": [
              "1397891"
            ]
          },
          "metadata": {},
          "execution_count": 19
        }
      ]
    },
    {
      "cell_type": "code",
      "source": [
        "stock_cleaned_final = stock_df_clean.groupby('date')['title'].agg(lambda x: '\\n'.join(x)).reset_index()"
      ],
      "metadata": {
        "id": "dkWi__RZPMIZ"
      },
      "execution_count": 20,
      "outputs": []
    },
    {
      "cell_type": "code",
      "source": [
        "stock_cleaned_final"
      ],
      "metadata": {
        "colab": {
          "base_uri": "https://localhost:8080/",
          "height": 419
        },
        "id": "KJHQ4YcVVyyy",
        "outputId": "32fd3951-04d1-4a5c-9f76-c96b685c7c7e"
      },
      "execution_count": 21,
      "outputs": [
        {
          "output_type": "execute_result",
          "data": {
            "text/plain": [
              "            date                                              title\n",
              "0     2009-02-14                       How Treasuries and ETFs Work\n",
              "1     2009-04-27  Update on the Luxury Sector: 2nd Quarter 2009\\...\n",
              "2     2009-04-29                             Going Against the Herd\n",
              "3     2009-05-22  Charles Sizemore Radio Interview Saturday Morning\n",
              "4     2009-05-27  JVA perks to 39% gain, SMCG ready, MRM to cont...\n",
              "...          ...                                                ...\n",
              "3954  2020-06-07  Apple's Top Supplier Foxconn Launched New Recr...\n",
              "3955  2020-06-08  Shares of several retail and apparel companies...\n",
              "3956  2020-06-09  Why Apple's Stock Is Trading Higher Today\\nApp...\n",
              "3957  2020-06-10  Shares of retail & apparel companies are tradi...\n",
              "3958  2020-06-11  Johnson & Johnson To Start Coronavirus Vaccine...\n",
              "\n",
              "[3959 rows x 2 columns]"
            ],
            "text/html": [
              "\n",
              "  <div id=\"df-e16ec800-421d-48c3-ab29-d8a8c290fe62\">\n",
              "    <div class=\"colab-df-container\">\n",
              "      <div>\n",
              "<style scoped>\n",
              "    .dataframe tbody tr th:only-of-type {\n",
              "        vertical-align: middle;\n",
              "    }\n",
              "\n",
              "    .dataframe tbody tr th {\n",
              "        vertical-align: top;\n",
              "    }\n",
              "\n",
              "    .dataframe thead th {\n",
              "        text-align: right;\n",
              "    }\n",
              "</style>\n",
              "<table border=\"1\" class=\"dataframe\">\n",
              "  <thead>\n",
              "    <tr style=\"text-align: right;\">\n",
              "      <th></th>\n",
              "      <th>date</th>\n",
              "      <th>title</th>\n",
              "    </tr>\n",
              "  </thead>\n",
              "  <tbody>\n",
              "    <tr>\n",
              "      <th>0</th>\n",
              "      <td>2009-02-14</td>\n",
              "      <td>How Treasuries and ETFs Work</td>\n",
              "    </tr>\n",
              "    <tr>\n",
              "      <th>1</th>\n",
              "      <td>2009-04-27</td>\n",
              "      <td>Update on the Luxury Sector: 2nd Quarter 2009\\...</td>\n",
              "    </tr>\n",
              "    <tr>\n",
              "      <th>2</th>\n",
              "      <td>2009-04-29</td>\n",
              "      <td>Going Against the Herd</td>\n",
              "    </tr>\n",
              "    <tr>\n",
              "      <th>3</th>\n",
              "      <td>2009-05-22</td>\n",
              "      <td>Charles Sizemore Radio Interview Saturday Morning</td>\n",
              "    </tr>\n",
              "    <tr>\n",
              "      <th>4</th>\n",
              "      <td>2009-05-27</td>\n",
              "      <td>JVA perks to 39% gain, SMCG ready, MRM to cont...</td>\n",
              "    </tr>\n",
              "    <tr>\n",
              "      <th>...</th>\n",
              "      <td>...</td>\n",
              "      <td>...</td>\n",
              "    </tr>\n",
              "    <tr>\n",
              "      <th>3954</th>\n",
              "      <td>2020-06-07</td>\n",
              "      <td>Apple's Top Supplier Foxconn Launched New Recr...</td>\n",
              "    </tr>\n",
              "    <tr>\n",
              "      <th>3955</th>\n",
              "      <td>2020-06-08</td>\n",
              "      <td>Shares of several retail and apparel companies...</td>\n",
              "    </tr>\n",
              "    <tr>\n",
              "      <th>3956</th>\n",
              "      <td>2020-06-09</td>\n",
              "      <td>Why Apple's Stock Is Trading Higher Today\\nApp...</td>\n",
              "    </tr>\n",
              "    <tr>\n",
              "      <th>3957</th>\n",
              "      <td>2020-06-10</td>\n",
              "      <td>Shares of retail &amp; apparel companies are tradi...</td>\n",
              "    </tr>\n",
              "    <tr>\n",
              "      <th>3958</th>\n",
              "      <td>2020-06-11</td>\n",
              "      <td>Johnson &amp; Johnson To Start Coronavirus Vaccine...</td>\n",
              "    </tr>\n",
              "  </tbody>\n",
              "</table>\n",
              "<p>3959 rows × 2 columns</p>\n",
              "</div>\n",
              "      <button class=\"colab-df-convert\" onclick=\"convertToInteractive('df-e16ec800-421d-48c3-ab29-d8a8c290fe62')\"\n",
              "              title=\"Convert this dataframe to an interactive table.\"\n",
              "              style=\"display:none;\">\n",
              "        \n",
              "  <svg xmlns=\"http://www.w3.org/2000/svg\" height=\"24px\"viewBox=\"0 0 24 24\"\n",
              "       width=\"24px\">\n",
              "    <path d=\"M0 0h24v24H0V0z\" fill=\"none\"/>\n",
              "    <path d=\"M18.56 5.44l.94 2.06.94-2.06 2.06-.94-2.06-.94-.94-2.06-.94 2.06-2.06.94zm-11 1L8.5 8.5l.94-2.06 2.06-.94-2.06-.94L8.5 2.5l-.94 2.06-2.06.94zm10 10l.94 2.06.94-2.06 2.06-.94-2.06-.94-.94-2.06-.94 2.06-2.06.94z\"/><path d=\"M17.41 7.96l-1.37-1.37c-.4-.4-.92-.59-1.43-.59-.52 0-1.04.2-1.43.59L10.3 9.45l-7.72 7.72c-.78.78-.78 2.05 0 2.83L4 21.41c.39.39.9.59 1.41.59.51 0 1.02-.2 1.41-.59l7.78-7.78 2.81-2.81c.8-.78.8-2.07 0-2.86zM5.41 20L4 18.59l7.72-7.72 1.47 1.35L5.41 20z\"/>\n",
              "  </svg>\n",
              "      </button>\n",
              "      \n",
              "  <style>\n",
              "    .colab-df-container {\n",
              "      display:flex;\n",
              "      flex-wrap:wrap;\n",
              "      gap: 12px;\n",
              "    }\n",
              "\n",
              "    .colab-df-convert {\n",
              "      background-color: #E8F0FE;\n",
              "      border: none;\n",
              "      border-radius: 50%;\n",
              "      cursor: pointer;\n",
              "      display: none;\n",
              "      fill: #1967D2;\n",
              "      height: 32px;\n",
              "      padding: 0 0 0 0;\n",
              "      width: 32px;\n",
              "    }\n",
              "\n",
              "    .colab-df-convert:hover {\n",
              "      background-color: #E2EBFA;\n",
              "      box-shadow: 0px 1px 2px rgba(60, 64, 67, 0.3), 0px 1px 3px 1px rgba(60, 64, 67, 0.15);\n",
              "      fill: #174EA6;\n",
              "    }\n",
              "\n",
              "    [theme=dark] .colab-df-convert {\n",
              "      background-color: #3B4455;\n",
              "      fill: #D2E3FC;\n",
              "    }\n",
              "\n",
              "    [theme=dark] .colab-df-convert:hover {\n",
              "      background-color: #434B5C;\n",
              "      box-shadow: 0px 1px 3px 1px rgba(0, 0, 0, 0.15);\n",
              "      filter: drop-shadow(0px 1px 2px rgba(0, 0, 0, 0.3));\n",
              "      fill: #FFFFFF;\n",
              "    }\n",
              "  </style>\n",
              "\n",
              "      <script>\n",
              "        const buttonEl =\n",
              "          document.querySelector('#df-e16ec800-421d-48c3-ab29-d8a8c290fe62 button.colab-df-convert');\n",
              "        buttonEl.style.display =\n",
              "          google.colab.kernel.accessAllowed ? 'block' : 'none';\n",
              "\n",
              "        async function convertToInteractive(key) {\n",
              "          const element = document.querySelector('#df-e16ec800-421d-48c3-ab29-d8a8c290fe62');\n",
              "          const dataTable =\n",
              "            await google.colab.kernel.invokeFunction('convertToInteractive',\n",
              "                                                     [key], {});\n",
              "          if (!dataTable) return;\n",
              "\n",
              "          const docLinkHtml = 'Like what you see? Visit the ' +\n",
              "            '<a target=\"_blank\" href=https://colab.research.google.com/notebooks/data_table.ipynb>data table notebook</a>'\n",
              "            + ' to learn more about interactive tables.';\n",
              "          element.innerHTML = '';\n",
              "          dataTable['output_type'] = 'display_data';\n",
              "          await google.colab.output.renderOutput(dataTable, element);\n",
              "          const docLink = document.createElement('div');\n",
              "          docLink.innerHTML = docLinkHtml;\n",
              "          element.appendChild(docLink);\n",
              "        }\n",
              "      </script>\n",
              "    </div>\n",
              "  </div>\n",
              "  "
            ]
          },
          "metadata": {},
          "execution_count": 21
        }
      ]
    },
    {
      "cell_type": "code",
      "source": [
        "# Get final news column for sentiment analysis\n",
        "merged_news = pd.merge(huff_news_clean, stock_cleaned_final, on='date', how='outer')\n",
        "# Sort based on date\n",
        "merged_news = merged_news.sort_values('date')\n",
        "merged_news = merged_news.reset_index(drop=True)"
      ],
      "metadata": {
        "id": "huaOlWdgu8zi"
      },
      "execution_count": 22,
      "outputs": []
    },
    {
      "cell_type": "code",
      "source": [
        "# Start from 2012\n",
        "begin_date = merged_news[merged_news['date'] == '2012-01-01'].index[0]\n",
        "merged_news = merged_news.iloc[begin_date:]\n",
        "# replace NaN values with empty strings\n",
        "merged_news = merged_news.fillna('')\n",
        "merged_news['date'] = pd.to_datetime(merged_news['date'])\n",
        "merged_news.set_index('date', inplace=True)\n",
        "display(merged_news)\n"
      ],
      "metadata": {
        "colab": {
          "base_uri": "https://localhost:8080/",
          "height": 450
        },
        "id": "ohFjPWQSyklE",
        "outputId": "0731622c-7b0c-41d3-f60b-fa491fe3b14c"
      },
      "execution_count": 23,
      "outputs": [
        {
          "output_type": "display_data",
          "data": {
            "text/plain": [
              "                                                     headline  \\\n",
              "date                                                            \n",
              "2012-01-01                                                      \n",
              "2012-01-02                                                      \n",
              "2012-01-03                                                      \n",
              "2012-01-04                                                      \n",
              "2012-01-05                                                      \n",
              "...                                                       ...   \n",
              "2022-09-19  Hurricane Fiona Bears Down On Dominican Republ...   \n",
              "2022-09-20  Russian Cosmonaut Valery Polyakov Who Broke Re...   \n",
              "2022-09-21  Biden At UN To Call Russian War An Affront To ...   \n",
              "2022-09-22  Woman Who Called Cops On Black Bird-Watcher Lo...   \n",
              "2022-09-23  Over 4 Million Americans Roll Up Sleeves For O...   \n",
              "\n",
              "                                            short_description  \\\n",
              "date                                                            \n",
              "2012-01-01                                                      \n",
              "2012-01-02                                                      \n",
              "2012-01-03                                                      \n",
              "2012-01-04                                                      \n",
              "2012-01-05                                                      \n",
              "...                                                       ...   \n",
              "2022-09-19  The storm knocked out the power grid and unlea...   \n",
              "2022-09-20  Polyakov's record-breaking trip to outer space...   \n",
              "2022-09-21  White House officials say the crux of the pres...   \n",
              "2022-09-22  Amy Cooper accused investment firm Franklin Te...   \n",
              "2022-09-23  Health experts said it is too early to predict...   \n",
              "\n",
              "                                                        title  \n",
              "date                                                           \n",
              "2012-01-01  Is 2012 Going To Be a Repeat of 2011?\\nIs 2012...  \n",
              "2012-01-02  Earnings Expectations for the Week of January ...  \n",
              "2012-01-03  UPDATE: Deutsche Bank Initiates Coverage on Ad...  \n",
              "2012-01-04  JP Morgan Adds Agilent Technologies to Analyst...  \n",
              "2012-01-05  End-of-Day Market Summary for January 5, 2012\\...  \n",
              "...                                                       ...  \n",
              "2022-09-19                                                     \n",
              "2022-09-20                                                     \n",
              "2022-09-21                                                     \n",
              "2022-09-22                                                     \n",
              "2022-09-23                                                     \n",
              "\n",
              "[3514 rows x 3 columns]"
            ],
            "text/html": [
              "\n",
              "  <div id=\"df-9134869f-185e-45bd-bcee-ff71ce948c4a\">\n",
              "    <div class=\"colab-df-container\">\n",
              "      <div>\n",
              "<style scoped>\n",
              "    .dataframe tbody tr th:only-of-type {\n",
              "        vertical-align: middle;\n",
              "    }\n",
              "\n",
              "    .dataframe tbody tr th {\n",
              "        vertical-align: top;\n",
              "    }\n",
              "\n",
              "    .dataframe thead th {\n",
              "        text-align: right;\n",
              "    }\n",
              "</style>\n",
              "<table border=\"1\" class=\"dataframe\">\n",
              "  <thead>\n",
              "    <tr style=\"text-align: right;\">\n",
              "      <th></th>\n",
              "      <th>headline</th>\n",
              "      <th>short_description</th>\n",
              "      <th>title</th>\n",
              "    </tr>\n",
              "    <tr>\n",
              "      <th>date</th>\n",
              "      <th></th>\n",
              "      <th></th>\n",
              "      <th></th>\n",
              "    </tr>\n",
              "  </thead>\n",
              "  <tbody>\n",
              "    <tr>\n",
              "      <th>2012-01-01</th>\n",
              "      <td></td>\n",
              "      <td></td>\n",
              "      <td>Is 2012 Going To Be a Repeat of 2011?\\nIs 2012...</td>\n",
              "    </tr>\n",
              "    <tr>\n",
              "      <th>2012-01-02</th>\n",
              "      <td></td>\n",
              "      <td></td>\n",
              "      <td>Earnings Expectations for the Week of January ...</td>\n",
              "    </tr>\n",
              "    <tr>\n",
              "      <th>2012-01-03</th>\n",
              "      <td></td>\n",
              "      <td></td>\n",
              "      <td>UPDATE: Deutsche Bank Initiates Coverage on Ad...</td>\n",
              "    </tr>\n",
              "    <tr>\n",
              "      <th>2012-01-04</th>\n",
              "      <td></td>\n",
              "      <td></td>\n",
              "      <td>JP Morgan Adds Agilent Technologies to Analyst...</td>\n",
              "    </tr>\n",
              "    <tr>\n",
              "      <th>2012-01-05</th>\n",
              "      <td></td>\n",
              "      <td></td>\n",
              "      <td>End-of-Day Market Summary for January 5, 2012\\...</td>\n",
              "    </tr>\n",
              "    <tr>\n",
              "      <th>...</th>\n",
              "      <td>...</td>\n",
              "      <td>...</td>\n",
              "      <td>...</td>\n",
              "    </tr>\n",
              "    <tr>\n",
              "      <th>2022-09-19</th>\n",
              "      <td>Hurricane Fiona Bears Down On Dominican Republ...</td>\n",
              "      <td>The storm knocked out the power grid and unlea...</td>\n",
              "      <td></td>\n",
              "    </tr>\n",
              "    <tr>\n",
              "      <th>2022-09-20</th>\n",
              "      <td>Russian Cosmonaut Valery Polyakov Who Broke Re...</td>\n",
              "      <td>Polyakov's record-breaking trip to outer space...</td>\n",
              "      <td></td>\n",
              "    </tr>\n",
              "    <tr>\n",
              "      <th>2022-09-21</th>\n",
              "      <td>Biden At UN To Call Russian War An Affront To ...</td>\n",
              "      <td>White House officials say the crux of the pres...</td>\n",
              "      <td></td>\n",
              "    </tr>\n",
              "    <tr>\n",
              "      <th>2022-09-22</th>\n",
              "      <td>Woman Who Called Cops On Black Bird-Watcher Lo...</td>\n",
              "      <td>Amy Cooper accused investment firm Franklin Te...</td>\n",
              "      <td></td>\n",
              "    </tr>\n",
              "    <tr>\n",
              "      <th>2022-09-23</th>\n",
              "      <td>Over 4 Million Americans Roll Up Sleeves For O...</td>\n",
              "      <td>Health experts said it is too early to predict...</td>\n",
              "      <td></td>\n",
              "    </tr>\n",
              "  </tbody>\n",
              "</table>\n",
              "<p>3514 rows × 3 columns</p>\n",
              "</div>\n",
              "      <button class=\"colab-df-convert\" onclick=\"convertToInteractive('df-9134869f-185e-45bd-bcee-ff71ce948c4a')\"\n",
              "              title=\"Convert this dataframe to an interactive table.\"\n",
              "              style=\"display:none;\">\n",
              "        \n",
              "  <svg xmlns=\"http://www.w3.org/2000/svg\" height=\"24px\"viewBox=\"0 0 24 24\"\n",
              "       width=\"24px\">\n",
              "    <path d=\"M0 0h24v24H0V0z\" fill=\"none\"/>\n",
              "    <path d=\"M18.56 5.44l.94 2.06.94-2.06 2.06-.94-2.06-.94-.94-2.06-.94 2.06-2.06.94zm-11 1L8.5 8.5l.94-2.06 2.06-.94-2.06-.94L8.5 2.5l-.94 2.06-2.06.94zm10 10l.94 2.06.94-2.06 2.06-.94-2.06-.94-.94-2.06-.94 2.06-2.06.94z\"/><path d=\"M17.41 7.96l-1.37-1.37c-.4-.4-.92-.59-1.43-.59-.52 0-1.04.2-1.43.59L10.3 9.45l-7.72 7.72c-.78.78-.78 2.05 0 2.83L4 21.41c.39.39.9.59 1.41.59.51 0 1.02-.2 1.41-.59l7.78-7.78 2.81-2.81c.8-.78.8-2.07 0-2.86zM5.41 20L4 18.59l7.72-7.72 1.47 1.35L5.41 20z\"/>\n",
              "  </svg>\n",
              "      </button>\n",
              "      \n",
              "  <style>\n",
              "    .colab-df-container {\n",
              "      display:flex;\n",
              "      flex-wrap:wrap;\n",
              "      gap: 12px;\n",
              "    }\n",
              "\n",
              "    .colab-df-convert {\n",
              "      background-color: #E8F0FE;\n",
              "      border: none;\n",
              "      border-radius: 50%;\n",
              "      cursor: pointer;\n",
              "      display: none;\n",
              "      fill: #1967D2;\n",
              "      height: 32px;\n",
              "      padding: 0 0 0 0;\n",
              "      width: 32px;\n",
              "    }\n",
              "\n",
              "    .colab-df-convert:hover {\n",
              "      background-color: #E2EBFA;\n",
              "      box-shadow: 0px 1px 2px rgba(60, 64, 67, 0.3), 0px 1px 3px 1px rgba(60, 64, 67, 0.15);\n",
              "      fill: #174EA6;\n",
              "    }\n",
              "\n",
              "    [theme=dark] .colab-df-convert {\n",
              "      background-color: #3B4455;\n",
              "      fill: #D2E3FC;\n",
              "    }\n",
              "\n",
              "    [theme=dark] .colab-df-convert:hover {\n",
              "      background-color: #434B5C;\n",
              "      box-shadow: 0px 1px 3px 1px rgba(0, 0, 0, 0.15);\n",
              "      filter: drop-shadow(0px 1px 2px rgba(0, 0, 0, 0.3));\n",
              "      fill: #FFFFFF;\n",
              "    }\n",
              "  </style>\n",
              "\n",
              "      <script>\n",
              "        const buttonEl =\n",
              "          document.querySelector('#df-9134869f-185e-45bd-bcee-ff71ce948c4a button.colab-df-convert');\n",
              "        buttonEl.style.display =\n",
              "          google.colab.kernel.accessAllowed ? 'block' : 'none';\n",
              "\n",
              "        async function convertToInteractive(key) {\n",
              "          const element = document.querySelector('#df-9134869f-185e-45bd-bcee-ff71ce948c4a');\n",
              "          const dataTable =\n",
              "            await google.colab.kernel.invokeFunction('convertToInteractive',\n",
              "                                                     [key], {});\n",
              "          if (!dataTable) return;\n",
              "\n",
              "          const docLinkHtml = 'Like what you see? Visit the ' +\n",
              "            '<a target=\"_blank\" href=https://colab.research.google.com/notebooks/data_table.ipynb>data table notebook</a>'\n",
              "            + ' to learn more about interactive tables.';\n",
              "          element.innerHTML = '';\n",
              "          dataTable['output_type'] = 'display_data';\n",
              "          await google.colab.output.renderOutput(dataTable, element);\n",
              "          const docLink = document.createElement('div');\n",
              "          docLink.innerHTML = docLinkHtml;\n",
              "          element.appendChild(docLink);\n",
              "        }\n",
              "      </script>\n",
              "    </div>\n",
              "  </div>\n",
              "  "
            ]
          },
          "metadata": {}
        }
      ]
    },
    {
      "cell_type": "code",
      "source": [
        "# merged_news.to_csv('merged.csv', encoding = 'utf-8-sig') \n",
        "# from google.colab import files\n",
        "# files.download(\"merged.csv\")"
      ],
      "metadata": {
        "id": "ozGndgSSyvqM"
      },
      "execution_count": 24,
      "outputs": []
    },
    {
      "cell_type": "markdown",
      "source": [
        "## Natural language processing"
      ],
      "metadata": {
        "id": "HxhnNRzR1ONQ"
      }
    },
    {
      "cell_type": "code",
      "source": [
        "import nltk\n",
        "nltk.download('vader_lexicon')"
      ],
      "metadata": {
        "colab": {
          "base_uri": "https://localhost:8080/"
        },
        "id": "kdxvBnDD1Kji",
        "outputId": "a3f56c6e-17df-4572-caa7-e5d8998ad9fc"
      },
      "execution_count": 25,
      "outputs": [
        {
          "output_type": "stream",
          "name": "stderr",
          "text": [
            "[nltk_data] Downloading package vader_lexicon to /root/nltk_data...\n"
          ]
        },
        {
          "output_type": "execute_result",
          "data": {
            "text/plain": [
              "True"
            ]
          },
          "metadata": {},
          "execution_count": 25
        }
      ]
    },
    {
      "cell_type": "markdown",
      "source": [
        "The basic idea would be to go to each row in the dataframe and read the headline, short_description and title. Combine them to get one single sentence and perform sentiment analysis using NLTK VADER (Valence Aware Dictionary and sEntiment Reasoner).\n",
        "At the beginning I was thinking of using AFINN, but AFINN is just a list of words labeled as to how positive or negative they are and then it gets the average sentiment of a sentence. \n",
        "\n",
        "Vader, on the other hand takes into account the context of the sentence as well as structure. Moreover, it is trained on social media data which is by default short sentences similar to the sentences I have for my data. Lastly, it is more efficient and faster than AFINN."
      ],
      "metadata": {
        "id": "35fast_F_Ul_"
      }
    },
    {
      "cell_type": "markdown",
      "source": [],
      "metadata": {
        "id": "t6Wz9gn3D1zC"
      }
    },
    {
      "cell_type": "code",
      "source": [
        "from nltk.sentiment import SentimentIntensityAnalyzer\n",
        "\n",
        "# Initialize VADER sentiment intensity analyzer\n",
        "sia = SentimentIntensityAnalyzer()\n",
        "\n",
        "# Define function to pass through dataframe\n",
        "def calculate_sentiment_score(row, analyzer):\n",
        "    combined_text = f\"{row['headline']} {row['short_description']} {row['title']}\"\n",
        "    sentiment = analyzer.polarity_scores(combined_text)\n",
        "    score = 0\n",
        "    if sentiment['compound'] > 0.1:\n",
        "      score = 1\n",
        "    elif sentiment['compound'] < -0.1:\n",
        "      score = -1\n",
        "    # Map values as we get values like -0.9432 which can be simplified as we are\n",
        "    # not trying to predict sentiment scores, just a reference in our data\n",
        "    return score"
      ],
      "metadata": {
        "id": "4ZFxgtOaFo31"
      },
      "execution_count": 26,
      "outputs": []
    },
    {
      "cell_type": "code",
      "source": [
        "# Apply function to each row in the dataframe\n",
        "merged_news['sentiment_score'] = merged_news.apply(calculate_sentiment_score, analyzer=sia, axis=1)"
      ],
      "metadata": {
        "id": "MEsu3NT_FsqC"
      },
      "execution_count": 27,
      "outputs": []
    },
    {
      "cell_type": "code",
      "source": [
        "# from google.colab import files\n",
        "\n",
        "# merged_news[['sentiment_score', 'date']].to_csv('final.csv', encoding = 'utf-8-sig') \n",
        "# files.download(\"final.csv\")"
      ],
      "metadata": {
        "id": "sSBedE75SHOu"
      },
      "execution_count": 28,
      "outputs": []
    },
    {
      "cell_type": "code",
      "source": [
        "# Some values are missing so let's keep it daily and do forward filling\n",
        "merged_news = merged_news.resample('D').ffill()"
      ],
      "metadata": {
        "id": "Dq47h0-Klt1q"
      },
      "execution_count": 29,
      "outputs": []
    },
    {
      "cell_type": "markdown",
      "source": [
        "We can get an idea of how the sentiment news analysis looks over time, here is some code that takes the yearly average of the sentiment scores and plots it.\n",
        "As you will see interestingly, there is a sharp decline of positivity starting from end of 2019 and beginning of 2020, just when our friend COVID-19 entered the chat."
      ],
      "metadata": {
        "id": "dJR2ZDl8ccwJ"
      }
    },
    {
      "cell_type": "code",
      "source": [
        "yearly_sentiment = merged_news['sentiment_score'].resample('Y').mean()\n",
        "yearly_sentiment.index = yearly_sentiment.index.strftime('%Y')\n",
        "plt.plot(yearly_sentiment.index, yearly_sentiment.values)\n",
        "plt.title('Positivity rating of news over time')\n",
        "plt.xlabel('Year')\n",
        "plt.ylabel('Sentiment Score')\n",
        "plt.show()"
      ],
      "metadata": {
        "colab": {
          "base_uri": "https://localhost:8080/",
          "height": 472
        },
        "id": "gdyZPmJugmiE",
        "outputId": "503a899a-44ce-4303-8c17-62041237379d"
      },
      "execution_count": 30,
      "outputs": [
        {
          "output_type": "display_data",
          "data": {
            "text/plain": [
              "<Figure size 640x480 with 1 Axes>"
            ],
            "image/png": "[encoded data removed]"
          },
          "metadata": {}
        }
      ]
    },
    {
      "cell_type": "markdown",
      "source": [
        "# Macroeconomic indicators\n",
        "According to this research paper: https://www.sciencedirect.com/science/article/abs/pii/S0378426608001544 \n",
        "Macroeconomic indicators are important variables to take into account when predicting the stock market. More importantly, it defines that during bear markets (recessions) interest rates and yield spreads (difference between the yields of government bonds, with different maturities) are empirically the most important factors to consider and makes it easier to predict recessions in the stock market. Furthermore, other factors are also important during times other than recession. For example: GDP and Consumer Price Index (inflation rate). We will be analyzing these factors to take them into our model.\n",
        "\n",
        "I found some APIs to automatically extract this data from the US Bureau of Labor Statistics and the Federal Reserve Economic Data, both truthful and official resources for getting accurate historic economic data. However, that would involve sharing my API key and also a lot more code that is not necessarily relevant to the purpose of the project. As a result, I just did the process of extracting the GDP, inflation rate, interest rate, and yield curves during these times periods.\n",
        "Sources: \n",
        "https://fred.stlouisfed.org/series/CPIAUCSL\n",
        "https://www.bls.gov/cpi/"
      ],
      "metadata": {
        "id": "kU6q8-Scrgcv"
      }
    },
    {
      "cell_type": "code",
      "source": [
        "!gdown 1mvoxR7o6lfmg75vBUDN6rLoeUv--me0l\n",
        "!gdown 1COss6xkVysE5c9DPfhVDB4tEJxDoH8VU\n",
        "!gdown 1MBTrKo9djOstwcmeFVjdqSo9_78hpzll\n",
        "!gdown 1pfK7uDdtHHHlrClqEPDHtBcmluNZH-YN"
      ],
      "metadata": {
        "colab": {
          "base_uri": "https://localhost:8080/"
        },
        "id": "fwtHU8-HzBlM",
        "outputId": "f1c9cd69-f1fe-4891-9d19-e8fe917f51d9"
      },
      "execution_count": 31,
      "outputs": [
        {
          "output_type": "stream",
          "name": "stdout",
          "text": [
            "Downloading...\n",
            "From: https://drive.google.com/uc?id=1mvoxR7o6lfmg75vBUDN6rLoeUv--me0l\n",
            "To: /content/CPI.csv\n",
            "100% 2.46k/2.46k [00:00<00:00, 2.90MB/s]\n",
            "Downloading...\n",
            "From: https://drive.google.com/uc?id=1COss6xkVysE5c9DPfhVDB4tEJxDoH8VU\n",
            "To: /content/FEDFUNDS.csv\n",
            "100% 2.08k/2.08k [00:00<00:00, 1.65MB/s]\n",
            "Downloading...\n",
            "From: https://drive.google.com/uc?id=1MBTrKo9djOstwcmeFVjdqSo9_78hpzll\n",
            "To: /content/GDP.csv\n",
            "100% 945/945 [00:00<00:00, 710kB/s]\n",
            "Downloading...\n",
            "From: https://drive.google.com/uc?id=1pfK7uDdtHHHlrClqEPDHtBcmluNZH-YN\n",
            "To: /content/T10Y2Y.csv\n",
            "100% 44.4k/44.4k [00:00<00:00, 39.6MB/s]\n"
          ]
        }
      ]
    },
    {
      "cell_type": "code",
      "source": [
        "filenames = ['CPI.csv', 'FEDFUNDS.csv', 'T10Y2Y.csv', 'GDP.csv']\n",
        "macroecon_dataframes = []\n",
        "for filename in filenames: \n",
        "  with open(filename, encoding='utf-8') as inputfile:\n",
        "    df = pd.read_csv(inputfile)\n",
        "    macroecon_dataframes.append(df)"
      ],
      "metadata": {
        "id": "SO2zx9Qg2LLR"
      },
      "execution_count": 32,
      "outputs": []
    },
    {
      "cell_type": "code",
      "source": [
        "# Modify yield_spread because it contains some non numeric values\n",
        "macroecon_dataframes[2]['T10Y2Y'] = pd.to_numeric(macroecon_dataframes[2]['T10Y2Y'], errors='coerce')\n",
        "macroecon_dataframes[2] = macroecon_dataframes[2].fillna(method='ffill')\n",
        "\n",
        "macroecon_dataframes[2]"
      ],
      "metadata": {
        "colab": {
          "base_uri": "https://localhost:8080/",
          "height": 419
        },
        "id": "QiYhiRruaPA5",
        "outputId": "c31e2cf6-0b93-4630-fc68-97f81de0d480"
      },
      "execution_count": 33,
      "outputs": [
        {
          "output_type": "execute_result",
          "data": {
            "text/plain": [
              "            DATE  T10Y2Y\n",
              "0     2012-01-03    1.70\n",
              "1     2012-01-04    1.75\n",
              "2     2012-01-05    1.75\n",
              "3     2012-01-06    1.73\n",
              "4     2012-01-09    1.72\n",
              "...          ...     ...\n",
              "2794  2022-09-19   -0.46\n",
              "2795  2022-09-20   -0.39\n",
              "2796  2022-09-21   -0.51\n",
              "2797  2022-09-22   -0.41\n",
              "2798  2022-09-23   -0.51\n",
              "\n",
              "[2799 rows x 2 columns]"
            ],
            "text/html": [
              "\n",
              "  <div id=\"df-d86e4ab8-6b6d-43d3-a012-930421508061\">\n",
              "    <div class=\"colab-df-container\">\n",
              "      <div>\n",
              "<style scoped>\n",
              "    .dataframe tbody tr th:only-of-type {\n",
              "        vertical-align: middle;\n",
              "    }\n",
              "\n",
              "    .dataframe tbody tr th {\n",
              "        vertical-align: top;\n",
              "    }\n",
              "\n",
              "    .dataframe thead th {\n",
              "        text-align: right;\n",
              "    }\n",
              "</style>\n",
              "<table border=\"1\" class=\"dataframe\">\n",
              "  <thead>\n",
              "    <tr style=\"text-align: right;\">\n",
              "      <th></th>\n",
              "      <th>DATE</th>\n",
              "      <th>T10Y2Y</th>\n",
              "    </tr>\n",
              "  </thead>\n",
              "  <tbody>\n",
              "    <tr>\n",
              "      <th>0</th>\n",
              "      <td>2012-01-03</td>\n",
              "      <td>1.70</td>\n",
              "    </tr>\n",
              "    <tr>\n",
              "      <th>1</th>\n",
              "      <td>2012-01-04</td>\n",
              "      <td>1.75</td>\n",
              "    </tr>\n",
              "    <tr>\n",
              "      <th>2</th>\n",
              "      <td>2012-01-05</td>\n",
              "      <td>1.75</td>\n",
              "    </tr>\n",
              "    <tr>\n",
              "      <th>3</th>\n",
              "      <td>2012-01-06</td>\n",
              "      <td>1.73</td>\n",
              "    </tr>\n",
              "    <tr>\n",
              "      <th>4</th>\n",
              "      <td>2012-01-09</td>\n",
              "      <td>1.72</td>\n",
              "    </tr>\n",
              "    <tr>\n",
              "      <th>...</th>\n",
              "      <td>...</td>\n",
              "      <td>...</td>\n",
              "    </tr>\n",
              "    <tr>\n",
              "      <th>2794</th>\n",
              "      <td>2022-09-19</td>\n",
              "      <td>-0.46</td>\n",
              "    </tr>\n",
              "    <tr>\n",
              "      <th>2795</th>\n",
              "      <td>2022-09-20</td>\n",
              "      <td>-0.39</td>\n",
              "    </tr>\n",
              "    <tr>\n",
              "      <th>2796</th>\n",
              "      <td>2022-09-21</td>\n",
              "      <td>-0.51</td>\n",
              "    </tr>\n",
              "    <tr>\n",
              "      <th>2797</th>\n",
              "      <td>2022-09-22</td>\n",
              "      <td>-0.41</td>\n",
              "    </tr>\n",
              "    <tr>\n",
              "      <th>2798</th>\n",
              "      <td>2022-09-23</td>\n",
              "      <td>-0.51</td>\n",
              "    </tr>\n",
              "  </tbody>\n",
              "</table>\n",
              "<p>2799 rows × 2 columns</p>\n",
              "</div>\n",
              "      <button class=\"colab-df-convert\" onclick=\"convertToInteractive('df-d86e4ab8-6b6d-43d3-a012-930421508061')\"\n",
              "              title=\"Convert this dataframe to an interactive table.\"\n",
              "              style=\"display:none;\">\n",
              "        \n",
              "  <svg xmlns=\"http://www.w3.org/2000/svg\" height=\"24px\"viewBox=\"0 0 24 24\"\n",
              "       width=\"24px\">\n",
              "    <path d=\"M0 0h24v24H0V0z\" fill=\"none\"/>\n",
              "    <path d=\"M18.56 5.44l.94 2.06.94-2.06 2.06-.94-2.06-.94-.94-2.06-.94 2.06-2.06.94zm-11 1L8.5 8.5l.94-2.06 2.06-.94-2.06-.94L8.5 2.5l-.94 2.06-2.06.94zm10 10l.94 2.06.94-2.06 2.06-.94-2.06-.94-.94-2.06-.94 2.06-2.06.94z\"/><path d=\"M17.41 7.96l-1.37-1.37c-.4-.4-.92-.59-1.43-.59-.52 0-1.04.2-1.43.59L10.3 9.45l-7.72 7.72c-.78.78-.78 2.05 0 2.83L4 21.41c.39.39.9.59 1.41.59.51 0 1.02-.2 1.41-.59l7.78-7.78 2.81-2.81c.8-.78.8-2.07 0-2.86zM5.41 20L4 18.59l7.72-7.72 1.47 1.35L5.41 20z\"/>\n",
              "  </svg>\n",
              "      </button>\n",
              "      \n",
              "  <style>\n",
              "    .colab-df-container {\n",
              "      display:flex;\n",
              "      flex-wrap:wrap;\n",
              "      gap: 12px;\n",
              "    }\n",
              "\n",
              "    .colab-df-convert {\n",
              "      background-color: #E8F0FE;\n",
              "      border: none;\n",
              "      border-radius: 50%;\n",
              "      cursor: pointer;\n",
              "      display: none;\n",
              "      fill: #1967D2;\n",
              "      height: 32px;\n",
              "      padding: 0 0 0 0;\n",
              "      width: 32px;\n",
              "    }\n",
              "\n",
              "    .colab-df-convert:hover {\n",
              "      background-color: #E2EBFA;\n",
              "      box-shadow: 0px 1px 2px rgba(60, 64, 67, 0.3), 0px 1px 3px 1px rgba(60, 64, 67, 0.15);\n",
              "      fill: #174EA6;\n",
              "    }\n",
              "\n",
              "    [theme=dark] .colab-df-convert {\n",
              "      background-color: #3B4455;\n",
              "      fill: #D2E3FC;\n",
              "    }\n",
              "\n",
              "    [theme=dark] .colab-df-convert:hover {\n",
              "      background-color: #434B5C;\n",
              "      box-shadow: 0px 1px 3px 1px rgba(0, 0, 0, 0.15);\n",
              "      filter: drop-shadow(0px 1px 2px rgba(0, 0, 0, 0.3));\n",
              "      fill: #FFFFFF;\n",
              "    }\n",
              "  </style>\n",
              "\n",
              "      <script>\n",
              "        const buttonEl =\n",
              "          document.querySelector('#df-d86e4ab8-6b6d-43d3-a012-930421508061 button.colab-df-convert');\n",
              "        buttonEl.style.display =\n",
              "          google.colab.kernel.accessAllowed ? 'block' : 'none';\n",
              "\n",
              "        async function convertToInteractive(key) {\n",
              "          const element = document.querySelector('#df-d86e4ab8-6b6d-43d3-a012-930421508061');\n",
              "          const dataTable =\n",
              "            await google.colab.kernel.invokeFunction('convertToInteractive',\n",
              "                                                     [key], {});\n",
              "          if (!dataTable) return;\n",
              "\n",
              "          const docLinkHtml = 'Like what you see? Visit the ' +\n",
              "            '<a target=\"_blank\" href=https://colab.research.google.com/notebooks/data_table.ipynb>data table notebook</a>'\n",
              "            + ' to learn more about interactive tables.';\n",
              "          element.innerHTML = '';\n",
              "          dataTable['output_type'] = 'display_data';\n",
              "          await google.colab.output.renderOutput(dataTable, element);\n",
              "          const docLink = document.createElement('div');\n",
              "          docLink.innerHTML = docLinkHtml;\n",
              "          element.appendChild(docLink);\n",
              "        }\n",
              "      </script>\n",
              "    </div>\n",
              "  </div>\n",
              "  "
            ]
          },
          "metadata": {},
          "execution_count": 33
        }
      ]
    },
    {
      "cell_type": "markdown",
      "source": [
        "Since many of these values are not given daily but rather as monthly or quarterly averages, we need to convert them to daily. We can perform forward filling to fill the missing values in the daily timesteps."
      ],
      "metadata": {
        "id": "gCR0M7o1XiUo"
      }
    },
    {
      "cell_type": "code",
      "source": [
        "def forward_fill(df, name):\n",
        "  \"\"\"Given a dataframe with columns date and value, returns the forward fill of the values in daily format\"\"\"\n",
        "  # convert date column to datetime format and set it as index\n",
        "  df['DATE'] = pd.to_datetime(df['DATE'])\n",
        "  df.set_index('DATE', inplace=True)\n",
        "\n",
        "  # resample the data to daily frequency and forward fill the missing values\n",
        "  df = df.resample('D').ffill()\n",
        "\n",
        "  # # reset the index and rename the columns\n",
        "  df = df.reset_index()\n",
        "  df.rename(columns={ df.columns[0]: \"date\", df.columns[1]: name }, inplace = True)\n",
        "  return df"
      ],
      "metadata": {
        "id": "s4ANKsZE8BOc"
      },
      "execution_count": 34,
      "outputs": []
    },
    {
      "cell_type": "code",
      "source": [
        "column_names = [\"inflation_rate\", \"interest_rate\", \"yield_spread\", \"gdp\"]\n",
        "\n",
        "for i in range(len(column_names)):\n",
        "  macroecon_dataframes[i] = forward_fill(macroecon_dataframes[i], column_names[i])"
      ],
      "metadata": {
        "id": "Kj8UxuX3bqXO"
      },
      "execution_count": 35,
      "outputs": []
    },
    {
      "cell_type": "markdown",
      "source": [
        "# Downloading financial stock data\n",
        "Now that we have the sentiment analysis scores in the range +1 for positivity, 0 neutral and -1 for negativity, we can start downloading the stock data from the companies we are interested in. In our case, we are going to download the stock data from Yahoo Finance as it gives us historial data for free and also there is an easy to use API library which gives us easy access to it. "
      ],
      "metadata": {
        "id": "8bz0pmxFHbHS"
      }
    },
    {
      "cell_type": "code",
      "source": [
        "!pip install yfinance"
      ],
      "metadata": {
        "colab": {
          "base_uri": "https://localhost:8080/"
        },
        "id": "MUO8E68JJWSR",
        "outputId": "b1b297fd-85ea-4adc-ac58-a80756b4dc17"
      },
      "execution_count": 36,
      "outputs": [
        {
          "output_type": "stream",
          "name": "stdout",
          "text": [
            "Looking in indexes: https://pypi.org/simple, https://us-python.pkg.dev/colab-wheels/public/simple/\n",
            "Requirement already satisfied: yfinance in /usr/local/lib/python3.9/dist-packages (0.2.14)\n",
            "Requirement already satisfied: pandas>=1.3.0 in /usr/local/lib/python3.9/dist-packages (from yfinance) (1.4.4)\n",
            "Requirement already satisfied: multitasking>=0.0.7 in /usr/local/lib/python3.9/dist-packages (from yfinance) (0.0.11)\n",
            "Requirement already satisfied: numpy>=1.16.5 in /usr/local/lib/python3.9/dist-packages (from yfinance) (1.22.4)\n",
            "Requirement already satisfied: requests>=2.26 in /usr/local/lib/python3.9/dist-packages (from yfinance) (2.27.1)\n",
            "Requirement already satisfied: cryptography>=3.3.2 in /usr/local/lib/python3.9/dist-packages (from yfinance) (40.0.1)\n",
            "Requirement already satisfied: beautifulsoup4>=4.11.1 in /usr/local/lib/python3.9/dist-packages (from yfinance) (4.11.2)\n",
            "Requirement already satisfied: frozendict>=2.3.4 in /usr/local/lib/python3.9/dist-packages (from yfinance) (2.3.6)\n",
            "Requirement already satisfied: appdirs>=1.4.4 in /usr/local/lib/python3.9/dist-packages (from yfinance) (1.4.4)\n",
            "Requirement already satisfied: lxml>=4.9.1 in /usr/local/lib/python3.9/dist-packages (from yfinance) (4.9.2)\n",
            "Requirement already satisfied: pytz>=2022.5 in /usr/local/lib/python3.9/dist-packages (from yfinance) (2022.7.1)\n",
            "Requirement already satisfied: html5lib>=1.1 in /usr/local/lib/python3.9/dist-packages (from yfinance) (1.1)\n",
            "Requirement already satisfied: soupsieve>1.2 in /usr/local/lib/python3.9/dist-packages (from beautifulsoup4>=4.11.1->yfinance) (2.4)\n",
            "Requirement already satisfied: cffi>=1.12 in /usr/local/lib/python3.9/dist-packages (from cryptography>=3.3.2->yfinance) (1.15.1)\n",
            "Requirement already satisfied: six>=1.9 in /usr/local/lib/python3.9/dist-packages (from html5lib>=1.1->yfinance) (1.16.0)\n",
            "Requirement already satisfied: webencodings in /usr/local/lib/python3.9/dist-packages (from html5lib>=1.1->yfinance) (0.5.1)\n",
            "Requirement already satisfied: python-dateutil>=2.8.1 in /usr/local/lib/python3.9/dist-packages (from pandas>=1.3.0->yfinance) (2.8.2)\n",
            "Requirement already satisfied: charset-normalizer~=2.0.0 in /usr/local/lib/python3.9/dist-packages (from requests>=2.26->yfinance) (2.0.12)\n",
            "Requirement already satisfied: idna<4,>=2.5 in /usr/local/lib/python3.9/dist-packages (from requests>=2.26->yfinance) (3.4)\n",
            "Requirement already satisfied: certifi>=2017.4.17 in /usr/local/lib/python3.9/dist-packages (from requests>=2.26->yfinance) (2022.12.7)\n",
            "Requirement already satisfied: urllib3<1.27,>=1.21.1 in /usr/local/lib/python3.9/dist-packages (from requests>=2.26->yfinance) (1.26.15)\n",
            "Requirement already satisfied: pycparser in /usr/local/lib/python3.9/dist-packages (from cffi>=1.12->cryptography>=3.3.2->yfinance) (2.21)\n"
          ]
        }
      ]
    },
    {
      "cell_type": "code",
      "source": [
        "import yfinance as yf\n",
        "# Companies\n",
        "company_list = ['msft', 'pfe', 'wmt', 'ko', 'qcom', 'gs', 'nvda', 'amzn', 'nke', 'v']\n",
        "\n",
        "# For each company download the data in that date range and append to a list\n",
        "stock_list = []\n",
        "for company in company_list:\n",
        "    data = yf.download(company, start=\"2012-01-01\", end=\"2022-09-23\")\n",
        "    stock_list.append(data)"
      ],
      "metadata": {
        "colab": {
          "base_uri": "https://localhost:8080/"
        },
        "id": "b7wi0SqAO4La",
        "outputId": "2fc061cf-813f-4916-9e4c-1007c3ab3027"
      },
      "execution_count": 37,
      "outputs": [
        {
          "output_type": "stream",
          "name": "stdout",
          "text": [
            "[*********************100%***********************]  1 of 1 completed\n",
            "[*********************100%***********************]  1 of 1 completed\n",
            "[*********************100%***********************]  1 of 1 completed\n",
            "[*********************100%***********************]  1 of 1 completed\n",
            "[*********************100%***********************]  1 of 1 completed\n",
            "[*********************100%***********************]  1 of 1 completed\n",
            "[*********************100%***********************]  1 of 1 completed\n",
            "[*********************100%***********************]  1 of 1 completed\n",
            "[*********************100%***********************]  1 of 1 completed\n",
            "[*********************100%***********************]  1 of 1 completed\n"
          ]
        }
      ]
    },
    {
      "cell_type": "markdown",
      "source": [
        "## Mixing all the datasets together"
      ],
      "metadata": {
        "id": "rhkMsv-drfCr"
      }
    },
    {
      "cell_type": "code",
      "source": [
        "# Get sentiment score\n",
        "merged_news = merged_news.reset_index()\n"
      ],
      "metadata": {
        "id": "WlcBXaI0fu2C"
      },
      "execution_count": 38,
      "outputs": []
    },
    {
      "cell_type": "code",
      "source": [
        "dataset = merged_news.loc[:, ['date', 'sentiment_score']]\n",
        "for df in macroecon_dataframes:\n",
        "  dataset = pd.merge(dataset, df, on='date', how='outer')"
      ],
      "metadata": {
        "id": "mXdK8GUbjdn8"
      },
      "execution_count": 39,
      "outputs": []
    },
    {
      "cell_type": "code",
      "source": [
        "dataset['date'] = pd.to_datetime(dataset['date'])\n",
        "\n",
        "# sort the dataframe by date\n",
        "dataset = dataset.sort_values('date')\n",
        "\n",
        "# slice the dataframe between specific dates\n",
        "start_date = '2012-01-03'\n",
        "end_date = '2022-09-01'\n",
        "dataset = dataset.loc[(dataset['date'] >= start_date) & (dataset['date'] <= end_date)]\n"
      ],
      "metadata": {
        "id": "iZqN0TS2jhPH"
      },
      "execution_count": 40,
      "outputs": []
    },
    {
      "cell_type": "code",
      "source": [
        "dataset.set_index('date', inplace=True)"
      ],
      "metadata": {
        "id": "pYhZX4A3XiXP"
      },
      "execution_count": 41,
      "outputs": []
    },
    {
      "cell_type": "markdown",
      "source": [
        "# We can visualize macroeconomic variables "
      ],
      "metadata": {
        "id": "A_AS2OSToBx8"
      }
    },
    {
      "cell_type": "code",
      "source": [
        "fig, axs = plt.subplots(2, 2, figsize=(15, 10))\n",
        "plt.style.use('fivethirtyeight')\n",
        "# loop over the columns and plot the yearly sentiment\n",
        "for i, col in enumerate(column_names):\n",
        "    row = i // 2\n",
        "    column = i % 2\n",
        "    yearly_sentiment = dataset[col].resample('Y').mean()\n",
        "    yearly_sentiment.index = yearly_sentiment.index.strftime('%Y')\n",
        "    axs[row, column].plot(yearly_sentiment.index, yearly_sentiment.values, color='b')\n",
        "    axs[row, column].set_title(f'{col} over time')\n",
        "    axs[row, column].set_xlabel('Year')\n",
        "    axs[row, column].set_ylabel(f'{col}')\n",
        "\n",
        "# adjust the layout of the plots\n",
        "plt.tight_layout()\n",
        "\n",
        "# show the plots\n",
        "plt.show()"
      ],
      "metadata": {
        "colab": {
          "base_uri": "https://localhost:8080/",
          "height": 994
        },
        "id": "TtDEbktcX6gf",
        "outputId": "228ac602-efbe-4841-cd3f-dd50fb330bb3"
      },
      "execution_count": 42,
      "outputs": [
        {
          "output_type": "display_data",
          "data": {
            "text/plain": [
              "<Figure size 1500x1000 with 4 Axes>"
            ],
            "image/png": "[encoded data removed]"
          },
          "metadata": {}
        }
      ]
    },
    {
      "cell_type": "markdown",
      "source": [
        "# Actual machine learning. Set up model and start training and testing"
      ],
      "metadata": {
        "id": "8cjsOryq9Wzu"
      }
    },
    {
      "cell_type": "code",
      "source": [],
      "metadata": {
        "colab": {
          "base_uri": "https://localhost:8080/",
          "height": 450
        },
        "id": "P-70x1lX9bQc",
        "outputId": "6659ccad-dff8-42e4-c7ed-9ef48a5ad116"
      },
      "execution_count": 43,
      "outputs": [
        {
          "output_type": "execute_result",
          "data": {
            "text/plain": [
              "            sentiment_score  inflation_rate  interest_rate  yield_spread  \\\n",
              "date                                                                       \n",
              "2012-01-03              1.0         227.842           0.08          1.70   \n",
              "2012-01-04              1.0         227.842           0.08          1.75   \n",
              "2012-01-05              1.0         227.842           0.08          1.75   \n",
              "2012-01-06              1.0         227.842           0.08          1.73   \n",
              "2012-01-07              1.0         227.842           0.08          1.73   \n",
              "...                     ...             ...            ...           ...   \n",
              "2022-08-28             -1.0         295.320           2.33         -0.33   \n",
              "2022-08-29             -1.0         295.320           2.33         -0.30   \n",
              "2022-08-30             -1.0         295.320           2.33         -0.35   \n",
              "2022-08-31             -1.0         295.320           2.33         -0.30   \n",
              "2022-09-01              0.0         296.539           2.56         -0.25   \n",
              "\n",
              "                  gdp  \n",
              "date                   \n",
              "2012-01-03  16068.824  \n",
              "2012-01-04  16068.824  \n",
              "2012-01-05  16068.824  \n",
              "2012-01-06  16068.824  \n",
              "2012-01-07  16068.824  \n",
              "...               ...  \n",
              "2022-08-28  25723.941  \n",
              "2022-08-29  25723.941  \n",
              "2022-08-30  25723.941  \n",
              "2022-08-31  25723.941  \n",
              "2022-09-01  25723.941  \n",
              "\n",
              "[3895 rows x 5 columns]"
            ],
            "text/html": [
              "\n",
              "  <div id=\"df-2e6791a0-4d8a-47c1-b1cf-347186bed7c0\">\n",
              "    <div class=\"colab-df-container\">\n",
              "      <div>\n",
              "<style scoped>\n",
              "    .dataframe tbody tr th:only-of-type {\n",
              "        vertical-align: middle;\n",
              "    }\n",
              "\n",
              "    .dataframe tbody tr th {\n",
              "        vertical-align: top;\n",
              "    }\n",
              "\n",
              "    .dataframe thead th {\n",
              "        text-align: right;\n",
              "    }\n",
              "</style>\n",
              "<table border=\"1\" class=\"dataframe\">\n",
              "  <thead>\n",
              "    <tr style=\"text-align: right;\">\n",
              "      <th></th>\n",
              "      <th>sentiment_score</th>\n",
              "      <th>inflation_rate</th>\n",
              "      <th>interest_rate</th>\n",
              "      <th>yield_spread</th>\n",
              "      <th>gdp</th>\n",
              "    </tr>\n",
              "    <tr>\n",
              "      <th>date</th>\n",
              "      <th></th>\n",
              "      <th></th>\n",
              "      <th></th>\n",
              "      <th></th>\n",
              "      <th></th>\n",
              "    </tr>\n",
              "  </thead>\n",
              "  <tbody>\n",
              "    <tr>\n",
              "      <th>2012-01-03</th>\n",
              "      <td>1.0</td>\n",
              "      <td>227.842</td>\n",
              "      <td>0.08</td>\n",
              "      <td>1.70</td>\n",
              "      <td>16068.824</td>\n",
              "    </tr>\n",
              "    <tr>\n",
              "      <th>2012-01-04</th>\n",
              "      <td>1.0</td>\n",
              "      <td>227.842</td>\n",
              "      <td>0.08</td>\n",
              "      <td>1.75</td>\n",
              "      <td>16068.824</td>\n",
              "    </tr>\n",
              "    <tr>\n",
              "      <th>2012-01-05</th>\n",
              "      <td>1.0</td>\n",
              "      <td>227.842</td>\n",
              "      <td>0.08</td>\n",
              "      <td>1.75</td>\n",
              "      <td>16068.824</td>\n",
              "    </tr>\n",
              "    <tr>\n",
              "      <th>2012-01-06</th>\n",
              "      <td>1.0</td>\n",
              "      <td>227.842</td>\n",
              "      <td>0.08</td>\n",
              "      <td>1.73</td>\n",
              "      <td>16068.824</td>\n",
              "    </tr>\n",
              "    <tr>\n",
              "      <th>2012-01-07</th>\n",
              "      <td>1.0</td>\n",
              "      <td>227.842</td>\n",
              "      <td>0.08</td>\n",
              "      <td>1.73</td>\n",
              "      <td>16068.824</td>\n",
              "    </tr>\n",
              "    <tr>\n",
              "      <th>...</th>\n",
              "      <td>...</td>\n",
              "      <td>...</td>\n",
              "      <td>...</td>\n",
              "      <td>...</td>\n",
              "      <td>...</td>\n",
              "    </tr>\n",
              "    <tr>\n",
              "      <th>2022-08-28</th>\n",
              "      <td>-1.0</td>\n",
              "      <td>295.320</td>\n",
              "      <td>2.33</td>\n",
              "      <td>-0.33</td>\n",
              "      <td>25723.941</td>\n",
              "    </tr>\n",
              "    <tr>\n",
              "      <th>2022-08-29</th>\n",
              "      <td>-1.0</td>\n",
              "      <td>295.320</td>\n",
              "      <td>2.33</td>\n",
              "      <td>-0.30</td>\n",
              "      <td>25723.941</td>\n",
              "    </tr>\n",
              "    <tr>\n",
              "      <th>2022-08-30</th>\n",
              "      <td>-1.0</td>\n",
              "      <td>295.320</td>\n",
              "      <td>2.33</td>\n",
              "      <td>-0.35</td>\n",
              "      <td>25723.941</td>\n",
              "    </tr>\n",
              "    <tr>\n",
              "      <th>2022-08-31</th>\n",
              "      <td>-1.0</td>\n",
              "      <td>295.320</td>\n",
              "      <td>2.33</td>\n",
              "      <td>-0.30</td>\n",
              "      <td>25723.941</td>\n",
              "    </tr>\n",
              "    <tr>\n",
              "      <th>2022-09-01</th>\n",
              "      <td>0.0</td>\n",
              "      <td>296.539</td>\n",
              "      <td>2.56</td>\n",
              "      <td>-0.25</td>\n",
              "      <td>25723.941</td>\n",
              "    </tr>\n",
              "  </tbody>\n",
              "</table>\n",
              "<p>3895 rows × 5 columns</p>\n",
              "</div>\n",
              "      <button class=\"colab-df-convert\" onclick=\"convertToInteractive('df-2e6791a0-4d8a-47c1-b1cf-347186bed7c0')\"\n",
              "              title=\"Convert this dataframe to an interactive table.\"\n",
              "              style=\"display:none;\">\n",
              "        \n",
              "  <svg xmlns=\"http://www.w3.org/2000/svg\" height=\"24px\"viewBox=\"0 0 24 24\"\n",
              "       width=\"24px\">\n",
              "    <path d=\"M0 0h24v24H0V0z\" fill=\"none\"/>\n",
              "    <path d=\"M18.56 5.44l.94 2.06.94-2.06 2.06-.94-2.06-.94-.94-2.06-.94 2.06-2.06.94zm-11 1L8.5 8.5l.94-2.06 2.06-.94-2.06-.94L8.5 2.5l-.94 2.06-2.06.94zm10 10l.94 2.06.94-2.06 2.06-.94-2.06-.94-.94-2.06-.94 2.06-2.06.94z\"/><path d=\"M17.41 7.96l-1.37-1.37c-.4-.4-.92-.59-1.43-.59-.52 0-1.04.2-1.43.59L10.3 9.45l-7.72 7.72c-.78.78-.78 2.05 0 2.83L4 21.41c.39.39.9.59 1.41.59.51 0 1.02-.2 1.41-.59l7.78-7.78 2.81-2.81c.8-.78.8-2.07 0-2.86zM5.41 20L4 18.59l7.72-7.72 1.47 1.35L5.41 20z\"/>\n",
              "  </svg>\n",
              "      </button>\n",
              "      \n",
              "  <style>\n",
              "    .colab-df-container {\n",
              "      display:flex;\n",
              "      flex-wrap:wrap;\n",
              "      gap: 12px;\n",
              "    }\n",
              "\n",
              "    .colab-df-convert {\n",
              "      background-color: #E8F0FE;\n",
              "      border: none;\n",
              "      border-radius: 50%;\n",
              "      cursor: pointer;\n",
              "      display: none;\n",
              "      fill: #1967D2;\n",
              "      height: 32px;\n",
              "      padding: 0 0 0 0;\n",
              "      width: 32px;\n",
              "    }\n",
              "\n",
              "    .colab-df-convert:hover {\n",
              "      background-color: #E2EBFA;\n",
              "      box-shadow: 0px 1px 2px rgba(60, 64, 67, 0.3), 0px 1px 3px 1px rgba(60, 64, 67, 0.15);\n",
              "      fill: #174EA6;\n",
              "    }\n",
              "\n",
              "    [theme=dark] .colab-df-convert {\n",
              "      background-color: #3B4455;\n",
              "      fill: #D2E3FC;\n",
              "    }\n",
              "\n",
              "    [theme=dark] .colab-df-convert:hover {\n",
              "      background-color: #434B5C;\n",
              "      box-shadow: 0px 1px 3px 1px rgba(0, 0, 0, 0.15);\n",
              "      filter: drop-shadow(0px 1px 2px rgba(0, 0, 0, 0.3));\n",
              "      fill: #FFFFFF;\n",
              "    }\n",
              "  </style>\n",
              "\n",
              "      <script>\n",
              "        const buttonEl =\n",
              "          document.querySelector('#df-2e6791a0-4d8a-47c1-b1cf-347186bed7c0 button.colab-df-convert');\n",
              "        buttonEl.style.display =\n",
              "          google.colab.kernel.accessAllowed ? 'block' : 'none';\n",
              "\n",
              "        async function convertToInteractive(key) {\n",
              "          const element = document.querySelector('#df-2e6791a0-4d8a-47c1-b1cf-347186bed7c0');\n",
              "          const dataTable =\n",
              "            await google.colab.kernel.invokeFunction('convertToInteractive',\n",
              "                                                     [key], {});\n",
              "          if (!dataTable) return;\n",
              "\n",
              "          const docLinkHtml = 'Like what you see? Visit the ' +\n",
              "            '<a target=\"_blank\" href=https://colab.research.google.com/notebooks/data_table.ipynb>data table notebook</a>'\n",
              "            + ' to learn more about interactive tables.';\n",
              "          element.innerHTML = '';\n",
              "          dataTable['output_type'] = 'display_data';\n",
              "          await google.colab.output.renderOutput(dataTable, element);\n",
              "          const docLink = document.createElement('div');\n",
              "          docLink.innerHTML = docLinkHtml;\n",
              "          element.appendChild(docLink);\n",
              "        }\n",
              "      </script>\n",
              "    </div>\n",
              "  </div>\n",
              "  "
            ]
          },
          "metadata": {},
          "execution_count": 43
        }
      ]
    }
  ]
}