{
  "nbformat": 4,
  "nbformat_minor": 0,
  "metadata": {
    "colab": {
      "provenance": [],
      "authorship_tag": "ABX9TyOm016HYUac9yLE/orRnlS1"
    },
    "kernelspec": {
      "name": "python3",
      "display_name": "Python 3"
    },
    "language_info": {
      "name": "python"
    },
    "accelerator": "GPU",
    "gpuClass": "standard"
  },
  "cells": [
    {
      "cell_type": "markdown",
      "source": [
        "# Data preprocessing (getting news data)\n"
      ],
      "metadata": {
        "id": "KuM0SyrvPl66"
      }
    },
    {
      "cell_type": "code",
      "source": [
        "import pandas as pd\n",
        "import numpy as np\n",
        "import matplotlib.pyplot as plt"
      ],
      "metadata": {
        "id": "neI1WdzNRuU7"
      },
      "execution_count": 2,
      "outputs": []
    },
    {
      "cell_type": "markdown",
      "source": [
        "Getting news data source: https://www.kaggle.com/datasets/rmisra/news-category-dataset"
      ],
      "metadata": {
        "id": "0Ve5WfE8Q1xz"
      }
    },
    {
      "cell_type": "code",
      "source": [
        "!gdown 1TkLOps0qxeKKqigID_GMB4xe9mWgsaKn"
      ],
      "metadata": {
        "colab": {
          "base_uri": "https://localhost:8080/"
        },
        "id": "ZY0t1PFYPqIG",
        "outputId": "2941b3fa-0c74-40c3-8dd6-93d994195c7a"
      },
      "execution_count": 3,
      "outputs": [
        {
          "output_type": "stream",
          "name": "stdout",
          "text": [
            "Downloading...\n",
            "From: https://drive.google.com/uc?id=1TkLOps0qxeKKqigID_GMB4xe9mWgsaKn\n",
            "To: /content/huffpost_news.json\n",
            "100% 87.3M/87.3M [00:03<00:00, 24.1MB/s]\n"
          ]
        }
      ]
    },
    {
      "cell_type": "code",
      "source": [
        "with open('huffpost_news.json', encoding='utf-8') as inputfile:\n",
        "    huff_news = pd.read_json(inputfile, lines=True)"
      ],
      "metadata": {
        "id": "eh3PDs_URWQ7"
      },
      "execution_count": 4,
      "outputs": []
    },
    {
      "cell_type": "code",
      "source": [
        "display(huff_news)"
      ],
      "metadata": {
        "colab": {
          "base_uri": "https://localhost:8080/",
          "height": 419
        },
        "id": "3At_c9XfRsRi",
        "outputId": "427be1e9-8d2e-49d9-a44d-bbd9eabdfbc3"
      },
      "execution_count": 5,
      "outputs": [
        {
          "output_type": "display_data",
          "data": {
            "text/plain": [
              "                                                     link  \\\n",
              "0       https://www.huffpost.com/entry/covid-boosters-...   \n",
              "1       https://www.huffpost.com/entry/american-airlin...   \n",
              "2       https://www.huffpost.com/entry/funniest-tweets...   \n",
              "3       https://www.huffpost.com/entry/funniest-parent...   \n",
              "4       https://www.huffpost.com/entry/amy-cooper-lose...   \n",
              "...                                                   ...   \n",
              "209522  https://www.huffingtonpost.com/entry/rim-ceo-t...   \n",
              "209523  https://www.huffingtonpost.com/entry/maria-sha...   \n",
              "209524  https://www.huffingtonpost.com/entry/super-bow...   \n",
              "209525  https://www.huffingtonpost.com/entry/aldon-smi...   \n",
              "209526  https://www.huffingtonpost.com/entry/dwight-ho...   \n",
              "\n",
              "                                                 headline   category  \\\n",
              "0       Over 4 Million Americans Roll Up Sleeves For O...  U.S. NEWS   \n",
              "1       American Airlines Flyer Charged, Banned For Li...  U.S. NEWS   \n",
              "2       23 Of The Funniest Tweets About Cats And Dogs ...     COMEDY   \n",
              "3       The Funniest Tweets From Parents This Week (Se...  PARENTING   \n",
              "4       Woman Who Called Cops On Black Bird-Watcher Lo...  U.S. NEWS   \n",
              "...                                                   ...        ...   \n",
              "209522  RIM CEO Thorsten Heins' 'Significant' Plans Fo...       TECH   \n",
              "209523  Maria Sharapova Stunned By Victoria Azarenka I...     SPORTS   \n",
              "209524  Giants Over Patriots, Jets Over Colts Among  M...     SPORTS   \n",
              "209525  Aldon Smith Arrested: 49ers Linebacker Busted ...     SPORTS   \n",
              "209526  Dwight Howard Rips Teammates After Magic Loss ...     SPORTS   \n",
              "\n",
              "                                        short_description  \\\n",
              "0       Health experts said it is too early to predict...   \n",
              "1       He was subdued by passengers and crew when he ...   \n",
              "2       \"Until you have a dog you don't understand wha...   \n",
              "3       \"Accidentally put grown-up toothpaste on my to...   \n",
              "4       Amy Cooper accused investment firm Franklin Te...   \n",
              "...                                                   ...   \n",
              "209522  Verizon Wireless and AT&T are already promotin...   \n",
              "209523  Afterward, Azarenka, more effusive with the pr...   \n",
              "209524  Leading up to Super Bowl XLVI, the most talked...   \n",
              "209525  CORRECTION: An earlier version of this story i...   \n",
              "209526  The five-time all-star center tore into his te...   \n",
              "\n",
              "                     authors       date  \n",
              "0       Carla K. Johnson, AP 2022-09-23  \n",
              "1             Mary Papenfuss 2022-09-23  \n",
              "2              Elyse Wanshel 2022-09-23  \n",
              "3           Caroline Bologna 2022-09-23  \n",
              "4             Nina Golgowski 2022-09-22  \n",
              "...                      ...        ...  \n",
              "209522      Reuters, Reuters 2012-01-28  \n",
              "209523                       2012-01-28  \n",
              "209524                       2012-01-28  \n",
              "209525                       2012-01-28  \n",
              "209526                       2012-01-28  \n",
              "\n",
              "[209527 rows x 6 columns]"
            ],
            "text/html": [
              "\n",
              "  <div id=\"df-7bb4bf53-fb92-4c3c-9cd8-63b7c9e78862\">\n",
              "    <div class=\"colab-df-container\">\n",
              "      <div>\n",
              "<style scoped>\n",
              "    .dataframe tbody tr th:only-of-type {\n",
              "        vertical-align: middle;\n",
              "    }\n",
              "\n",
              "    .dataframe tbody tr th {\n",
              "        vertical-align: top;\n",
              "    }\n",
              "\n",
              "    .dataframe thead th {\n",
              "        text-align: right;\n",
              "    }\n",
              "</style>\n",
              "<table border=\"1\" class=\"dataframe\">\n",
              "  <thead>\n",
              "    <tr style=\"text-align: right;\">\n",
              "      <th></th>\n",
              "      <th>link</th>\n",
              "      <th>headline</th>\n",
              "      <th>category</th>\n",
              "      <th>short_description</th>\n",
              "      <th>authors</th>\n",
              "      <th>date</th>\n",
              "    </tr>\n",
              "  </thead>\n",
              "  <tbody>\n",
              "    <tr>\n",
              "      <th>0</th>\n",
              "      <td>https://www.huffpost.com/entry/covid-boosters-...</td>\n",
              "      <td>Over 4 Million Americans Roll Up Sleeves For O...</td>\n",
              "      <td>U.S. NEWS</td>\n",
              "      <td>Health experts said it is too early to predict...</td>\n",
              "      <td>Carla K. Johnson, AP</td>\n",
              "      <td>2022-09-23</td>\n",
              "    </tr>\n",
              "    <tr>\n",
              "      <th>1</th>\n",
              "      <td>https://www.huffpost.com/entry/american-airlin...</td>\n",
              "      <td>American Airlines Flyer Charged, Banned For Li...</td>\n",
              "      <td>U.S. NEWS</td>\n",
              "      <td>He was subdued by passengers and crew when he ...</td>\n",
              "      <td>Mary Papenfuss</td>\n",
              "      <td>2022-09-23</td>\n",
              "    </tr>\n",
              "    <tr>\n",
              "      <th>2</th>\n",
              "      <td>https://www.huffpost.com/entry/funniest-tweets...</td>\n",
              "      <td>23 Of The Funniest Tweets About Cats And Dogs ...</td>\n",
              "      <td>COMEDY</td>\n",
              "      <td>\"Until you have a dog you don't understand wha...</td>\n",
              "      <td>Elyse Wanshel</td>\n",
              "      <td>2022-09-23</td>\n",
              "    </tr>\n",
              "    <tr>\n",
              "      <th>3</th>\n",
              "      <td>https://www.huffpost.com/entry/funniest-parent...</td>\n",
              "      <td>The Funniest Tweets From Parents This Week (Se...</td>\n",
              "      <td>PARENTING</td>\n",
              "      <td>\"Accidentally put grown-up toothpaste on my to...</td>\n",
              "      <td>Caroline Bologna</td>\n",
              "      <td>2022-09-23</td>\n",
              "    </tr>\n",
              "    <tr>\n",
              "      <th>4</th>\n",
              "      <td>https://www.huffpost.com/entry/amy-cooper-lose...</td>\n",
              "      <td>Woman Who Called Cops On Black Bird-Watcher Lo...</td>\n",
              "      <td>U.S. NEWS</td>\n",
              "      <td>Amy Cooper accused investment firm Franklin Te...</td>\n",
              "      <td>Nina Golgowski</td>\n",
              "      <td>2022-09-22</td>\n",
              "    </tr>\n",
              "    <tr>\n",
              "      <th>...</th>\n",
              "      <td>...</td>\n",
              "      <td>...</td>\n",
              "      <td>...</td>\n",
              "      <td>...</td>\n",
              "      <td>...</td>\n",
              "      <td>...</td>\n",
              "    </tr>\n",
              "    <tr>\n",
              "      <th>209522</th>\n",
              "      <td>https://www.huffingtonpost.com/entry/rim-ceo-t...</td>\n",
              "      <td>RIM CEO Thorsten Heins' 'Significant' Plans Fo...</td>\n",
              "      <td>TECH</td>\n",
              "      <td>Verizon Wireless and AT&amp;T are already promotin...</td>\n",
              "      <td>Reuters, Reuters</td>\n",
              "      <td>2012-01-28</td>\n",
              "    </tr>\n",
              "    <tr>\n",
              "      <th>209523</th>\n",
              "      <td>https://www.huffingtonpost.com/entry/maria-sha...</td>\n",
              "      <td>Maria Sharapova Stunned By Victoria Azarenka I...</td>\n",
              "      <td>SPORTS</td>\n",
              "      <td>Afterward, Azarenka, more effusive with the pr...</td>\n",
              "      <td></td>\n",
              "      <td>2012-01-28</td>\n",
              "    </tr>\n",
              "    <tr>\n",
              "      <th>209524</th>\n",
              "      <td>https://www.huffingtonpost.com/entry/super-bow...</td>\n",
              "      <td>Giants Over Patriots, Jets Over Colts Among  M...</td>\n",
              "      <td>SPORTS</td>\n",
              "      <td>Leading up to Super Bowl XLVI, the most talked...</td>\n",
              "      <td></td>\n",
              "      <td>2012-01-28</td>\n",
              "    </tr>\n",
              "    <tr>\n",
              "      <th>209525</th>\n",
              "      <td>https://www.huffingtonpost.com/entry/aldon-smi...</td>\n",
              "      <td>Aldon Smith Arrested: 49ers Linebacker Busted ...</td>\n",
              "      <td>SPORTS</td>\n",
              "      <td>CORRECTION: An earlier version of this story i...</td>\n",
              "      <td></td>\n",
              "      <td>2012-01-28</td>\n",
              "    </tr>\n",
              "    <tr>\n",
              "      <th>209526</th>\n",
              "      <td>https://www.huffingtonpost.com/entry/dwight-ho...</td>\n",
              "      <td>Dwight Howard Rips Teammates After Magic Loss ...</td>\n",
              "      <td>SPORTS</td>\n",
              "      <td>The five-time all-star center tore into his te...</td>\n",
              "      <td></td>\n",
              "      <td>2012-01-28</td>\n",
              "    </tr>\n",
              "  </tbody>\n",
              "</table>\n",
              "<p>209527 rows × 6 columns</p>\n",
              "</div>\n",
              "      <button class=\"colab-df-convert\" onclick=\"convertToInteractive('df-7bb4bf53-fb92-4c3c-9cd8-63b7c9e78862')\"\n",
              "              title=\"Convert this dataframe to an interactive table.\"\n",
              "              style=\"display:none;\">\n",
              "        \n",
              "  <svg xmlns=\"http://www.w3.org/2000/svg\" height=\"24px\"viewBox=\"0 0 24 24\"\n",
              "       width=\"24px\">\n",
              "    <path d=\"M0 0h24v24H0V0z\" fill=\"none\"/>\n",
              "    <path d=\"M18.56 5.44l.94 2.06.94-2.06 2.06-.94-2.06-.94-.94-2.06-.94 2.06-2.06.94zm-11 1L8.5 8.5l.94-2.06 2.06-.94-2.06-.94L8.5 2.5l-.94 2.06-2.06.94zm10 10l.94 2.06.94-2.06 2.06-.94-2.06-.94-.94-2.06-.94 2.06-2.06.94z\"/><path d=\"M17.41 7.96l-1.37-1.37c-.4-.4-.92-.59-1.43-.59-.52 0-1.04.2-1.43.59L10.3 9.45l-7.72 7.72c-.78.78-.78 2.05 0 2.83L4 21.41c.39.39.9.59 1.41.59.51 0 1.02-.2 1.41-.59l7.78-7.78 2.81-2.81c.8-.78.8-2.07 0-2.86zM5.41 20L4 18.59l7.72-7.72 1.47 1.35L5.41 20z\"/>\n",
              "  </svg>\n",
              "      </button>\n",
              "      \n",
              "  <style>\n",
              "    .colab-df-container {\n",
              "      display:flex;\n",
              "      flex-wrap:wrap;\n",
              "      gap: 12px;\n",
              "    }\n",
              "\n",
              "    .colab-df-convert {\n",
              "      background-color: #E8F0FE;\n",
              "      border: none;\n",
              "      border-radius: 50%;\n",
              "      cursor: pointer;\n",
              "      display: none;\n",
              "      fill: #1967D2;\n",
              "      height: 32px;\n",
              "      padding: 0 0 0 0;\n",
              "      width: 32px;\n",
              "    }\n",
              "\n",
              "    .colab-df-convert:hover {\n",
              "      background-color: #E2EBFA;\n",
              "      box-shadow: 0px 1px 2px rgba(60, 64, 67, 0.3), 0px 1px 3px 1px rgba(60, 64, 67, 0.15);\n",
              "      fill: #174EA6;\n",
              "    }\n",
              "\n",
              "    [theme=dark] .colab-df-convert {\n",
              "      background-color: #3B4455;\n",
              "      fill: #D2E3FC;\n",
              "    }\n",
              "\n",
              "    [theme=dark] .colab-df-convert:hover {\n",
              "      background-color: #434B5C;\n",
              "      box-shadow: 0px 1px 3px 1px rgba(0, 0, 0, 0.15);\n",
              "      filter: drop-shadow(0px 1px 2px rgba(0, 0, 0, 0.3));\n",
              "      fill: #FFFFFF;\n",
              "    }\n",
              "  </style>\n",
              "\n",
              "      <script>\n",
              "        const buttonEl =\n",
              "          document.querySelector('#df-7bb4bf53-fb92-4c3c-9cd8-63b7c9e78862 button.colab-df-convert');\n",
              "        buttonEl.style.display =\n",
              "          google.colab.kernel.accessAllowed ? 'block' : 'none';\n",
              "\n",
              "        async function convertToInteractive(key) {\n",
              "          const element = document.querySelector('#df-7bb4bf53-fb92-4c3c-9cd8-63b7c9e78862');\n",
              "          const dataTable =\n",
              "            await google.colab.kernel.invokeFunction('convertToInteractive',\n",
              "                                                     [key], {});\n",
              "          if (!dataTable) return;\n",
              "\n",
              "          const docLinkHtml = 'Like what you see? Visit the ' +\n",
              "            '<a target=\"_blank\" href=https://colab.research.google.com/notebooks/data_table.ipynb>data table notebook</a>'\n",
              "            + ' to learn more about interactive tables.';\n",
              "          element.innerHTML = '';\n",
              "          dataTable['output_type'] = 'display_data';\n",
              "          await google.colab.output.renderOutput(dataTable, element);\n",
              "          const docLink = document.createElement('div');\n",
              "          docLink.innerHTML = docLinkHtml;\n",
              "          element.appendChild(docLink);\n",
              "        }\n",
              "      </script>\n",
              "    </div>\n",
              "  </div>\n",
              "  "
            ]
          },
          "metadata": {}
        }
      ]
    },
    {
      "cell_type": "code",
      "source": [
        "# Clean up by filtering only news where category is US news and keep only headline, short_description and date rows\n",
        "huff_news_clean = huff_news.loc[huff_news['category'].isin([\"U.S. NEWS\", \"WORLD NEWS\"])]"
      ],
      "metadata": {
        "id": "VSwj7gZnRWYT"
      },
      "execution_count": 6,
      "outputs": []
    },
    {
      "cell_type": "code",
      "source": [
        "huff_news_clean = huff_news_clean.drop(['link', 'category', 'authors'], axis=1)"
      ],
      "metadata": {
        "id": "ADZyDPtVTvlv"
      },
      "execution_count": 7,
      "outputs": []
    },
    {
      "cell_type": "code",
      "source": [
        "huff_news_clean['date'] = pd.to_datetime(huff_news_clean['date'], utc=True)\n",
        "huff_news_clean['date'] = huff_news_clean['date'].dt.strftime('%Y-%m-%d')"
      ],
      "metadata": {
        "id": "mUc8mqHMyNZn"
      },
      "execution_count": 8,
      "outputs": []
    },
    {
      "cell_type": "code",
      "source": [
        "huff_news_clean = huff_news_clean.groupby('date').agg({'headline': lambda x: '\\n'.join(x), 'short_description': lambda x: '\\n'.join(x)}).reset_index()"
      ],
      "metadata": {
        "id": "tdTQwVatbT1N"
      },
      "execution_count": 9,
      "outputs": []
    },
    {
      "cell_type": "code",
      "source": [
        "display(huff_news_clean)"
      ],
      "metadata": {
        "colab": {
          "base_uri": "https://localhost:8080/",
          "height": 419
        },
        "id": "lpvSR_miopvO",
        "outputId": "775ceb1d-fadc-4475-cc49-ba11d28f3896"
      },
      "execution_count": 10,
      "outputs": [
        {
          "output_type": "display_data",
          "data": {
            "text/plain": [
              "            date                                           headline  \\\n",
              "0     2017-04-09  What You Need To Know About North Korea's Nucl...   \n",
              "1     2017-05-20  Trump’s Counter-Extremism Effort Should Addres...   \n",
              "2     2017-05-21  The Riyadh Summits: A Workshop For A Global Fr...   \n",
              "3     2017-05-22  Don't Be Fooled: Iran's Newly Elected Hassan R...   \n",
              "4     2017-05-23  #RoomForManchester Hashtag Helps Shelter Stran...   \n",
              "...          ...                                                ...   \n",
              "1209  2022-09-19  Hurricane Fiona Bears Down On Dominican Republ...   \n",
              "1210  2022-09-20  Russian Cosmonaut Valery Polyakov Who Broke Re...   \n",
              "1211  2022-09-21  Biden At UN To Call Russian War An Affront To ...   \n",
              "1212  2022-09-22  Woman Who Called Cops On Black Bird-Watcher Lo...   \n",
              "1213  2022-09-23  Over 4 Million Americans Roll Up Sleeves For O...   \n",
              "\n",
              "                                      short_description  \n",
              "0     Experts say the country's nuclear weapons test...  \n",
              "1     The president will have to address incitement ...  \n",
              "2     Donald Trump’s presidency is currently undergo...  \n",
              "3     Don’t be fooled.\\nGeorges Fahmi, European Univ...  \n",
              "4     \"When terrorism makes you question humanity, l...  \n",
              "...                                                 ...  \n",
              "1209  The storm knocked out the power grid and unlea...  \n",
              "1210  Polyakov's record-breaking trip to outer space...  \n",
              "1211  White House officials say the crux of the pres...  \n",
              "1212  Amy Cooper accused investment firm Franklin Te...  \n",
              "1213  Health experts said it is too early to predict...  \n",
              "\n",
              "[1214 rows x 3 columns]"
            ],
            "text/html": [
              "\n",
              "  <div id=\"df-66298c12-d3b1-4286-b805-c57cdfd9beb2\">\n",
              "    <div class=\"colab-df-container\">\n",
              "      <div>\n",
              "<style scoped>\n",
              "    .dataframe tbody tr th:only-of-type {\n",
              "        vertical-align: middle;\n",
              "    }\n",
              "\n",
              "    .dataframe tbody tr th {\n",
              "        vertical-align: top;\n",
              "    }\n",
              "\n",
              "    .dataframe thead th {\n",
              "        text-align: right;\n",
              "    }\n",
              "</style>\n",
              "<table border=\"1\" class=\"dataframe\">\n",
              "  <thead>\n",
              "    <tr style=\"text-align: right;\">\n",
              "      <th></th>\n",
              "      <th>date</th>\n",
              "      <th>headline</th>\n",
              "      <th>short_description</th>\n",
              "    </tr>\n",
              "  </thead>\n",
              "  <tbody>\n",
              "    <tr>\n",
              "      <th>0</th>\n",
              "      <td>2017-04-09</td>\n",
              "      <td>What You Need To Know About North Korea's Nucl...</td>\n",
              "      <td>Experts say the country's nuclear weapons test...</td>\n",
              "    </tr>\n",
              "    <tr>\n",
              "      <th>1</th>\n",
              "      <td>2017-05-20</td>\n",
              "      <td>Trump’s Counter-Extremism Effort Should Addres...</td>\n",
              "      <td>The president will have to address incitement ...</td>\n",
              "    </tr>\n",
              "    <tr>\n",
              "      <th>2</th>\n",
              "      <td>2017-05-21</td>\n",
              "      <td>The Riyadh Summits: A Workshop For A Global Fr...</td>\n",
              "      <td>Donald Trump’s presidency is currently undergo...</td>\n",
              "    </tr>\n",
              "    <tr>\n",
              "      <th>3</th>\n",
              "      <td>2017-05-22</td>\n",
              "      <td>Don't Be Fooled: Iran's Newly Elected Hassan R...</td>\n",
              "      <td>Don’t be fooled.\\nGeorges Fahmi, European Univ...</td>\n",
              "    </tr>\n",
              "    <tr>\n",
              "      <th>4</th>\n",
              "      <td>2017-05-23</td>\n",
              "      <td>#RoomForManchester Hashtag Helps Shelter Stran...</td>\n",
              "      <td>\"When terrorism makes you question humanity, l...</td>\n",
              "    </tr>\n",
              "    <tr>\n",
              "      <th>...</th>\n",
              "      <td>...</td>\n",
              "      <td>...</td>\n",
              "      <td>...</td>\n",
              "    </tr>\n",
              "    <tr>\n",
              "      <th>1209</th>\n",
              "      <td>2022-09-19</td>\n",
              "      <td>Hurricane Fiona Bears Down On Dominican Republ...</td>\n",
              "      <td>The storm knocked out the power grid and unlea...</td>\n",
              "    </tr>\n",
              "    <tr>\n",
              "      <th>1210</th>\n",
              "      <td>2022-09-20</td>\n",
              "      <td>Russian Cosmonaut Valery Polyakov Who Broke Re...</td>\n",
              "      <td>Polyakov's record-breaking trip to outer space...</td>\n",
              "    </tr>\n",
              "    <tr>\n",
              "      <th>1211</th>\n",
              "      <td>2022-09-21</td>\n",
              "      <td>Biden At UN To Call Russian War An Affront To ...</td>\n",
              "      <td>White House officials say the crux of the pres...</td>\n",
              "    </tr>\n",
              "    <tr>\n",
              "      <th>1212</th>\n",
              "      <td>2022-09-22</td>\n",
              "      <td>Woman Who Called Cops On Black Bird-Watcher Lo...</td>\n",
              "      <td>Amy Cooper accused investment firm Franklin Te...</td>\n",
              "    </tr>\n",
              "    <tr>\n",
              "      <th>1213</th>\n",
              "      <td>2022-09-23</td>\n",
              "      <td>Over 4 Million Americans Roll Up Sleeves For O...</td>\n",
              "      <td>Health experts said it is too early to predict...</td>\n",
              "    </tr>\n",
              "  </tbody>\n",
              "</table>\n",
              "<p>1214 rows × 3 columns</p>\n",
              "</div>\n",
              "      <button class=\"colab-df-convert\" onclick=\"convertToInteractive('df-66298c12-d3b1-4286-b805-c57cdfd9beb2')\"\n",
              "              title=\"Convert this dataframe to an interactive table.\"\n",
              "              style=\"display:none;\">\n",
              "        \n",
              "  <svg xmlns=\"http://www.w3.org/2000/svg\" height=\"24px\"viewBox=\"0 0 24 24\"\n",
              "       width=\"24px\">\n",
              "    <path d=\"M0 0h24v24H0V0z\" fill=\"none\"/>\n",
              "    <path d=\"M18.56 5.44l.94 2.06.94-2.06 2.06-.94-2.06-.94-.94-2.06-.94 2.06-2.06.94zm-11 1L8.5 8.5l.94-2.06 2.06-.94-2.06-.94L8.5 2.5l-.94 2.06-2.06.94zm10 10l.94 2.06.94-2.06 2.06-.94-2.06-.94-.94-2.06-.94 2.06-2.06.94z\"/><path d=\"M17.41 7.96l-1.37-1.37c-.4-.4-.92-.59-1.43-.59-.52 0-1.04.2-1.43.59L10.3 9.45l-7.72 7.72c-.78.78-.78 2.05 0 2.83L4 21.41c.39.39.9.59 1.41.59.51 0 1.02-.2 1.41-.59l7.78-7.78 2.81-2.81c.8-.78.8-2.07 0-2.86zM5.41 20L4 18.59l7.72-7.72 1.47 1.35L5.41 20z\"/>\n",
              "  </svg>\n",
              "      </button>\n",
              "      \n",
              "  <style>\n",
              "    .colab-df-container {\n",
              "      display:flex;\n",
              "      flex-wrap:wrap;\n",
              "      gap: 12px;\n",
              "    }\n",
              "\n",
              "    .colab-df-convert {\n",
              "      background-color: #E8F0FE;\n",
              "      border: none;\n",
              "      border-radius: 50%;\n",
              "      cursor: pointer;\n",
              "      display: none;\n",
              "      fill: #1967D2;\n",
              "      height: 32px;\n",
              "      padding: 0 0 0 0;\n",
              "      width: 32px;\n",
              "    }\n",
              "\n",
              "    .colab-df-convert:hover {\n",
              "      background-color: #E2EBFA;\n",
              "      box-shadow: 0px 1px 2px rgba(60, 64, 67, 0.3), 0px 1px 3px 1px rgba(60, 64, 67, 0.15);\n",
              "      fill: #174EA6;\n",
              "    }\n",
              "\n",
              "    [theme=dark] .colab-df-convert {\n",
              "      background-color: #3B4455;\n",
              "      fill: #D2E3FC;\n",
              "    }\n",
              "\n",
              "    [theme=dark] .colab-df-convert:hover {\n",
              "      background-color: #434B5C;\n",
              "      box-shadow: 0px 1px 3px 1px rgba(0, 0, 0, 0.15);\n",
              "      filter: drop-shadow(0px 1px 2px rgba(0, 0, 0, 0.3));\n",
              "      fill: #FFFFFF;\n",
              "    }\n",
              "  </style>\n",
              "\n",
              "      <script>\n",
              "        const buttonEl =\n",
              "          document.querySelector('#df-66298c12-d3b1-4286-b805-c57cdfd9beb2 button.colab-df-convert');\n",
              "        buttonEl.style.display =\n",
              "          google.colab.kernel.accessAllowed ? 'block' : 'none';\n",
              "\n",
              "        async function convertToInteractive(key) {\n",
              "          const element = document.querySelector('#df-66298c12-d3b1-4286-b805-c57cdfd9beb2');\n",
              "          const dataTable =\n",
              "            await google.colab.kernel.invokeFunction('convertToInteractive',\n",
              "                                                     [key], {});\n",
              "          if (!dataTable) return;\n",
              "\n",
              "          const docLinkHtml = 'Like what you see? Visit the ' +\n",
              "            '<a target=\"_blank\" href=https://colab.research.google.com/notebooks/data_table.ipynb>data table notebook</a>'\n",
              "            + ' to learn more about interactive tables.';\n",
              "          element.innerHTML = '';\n",
              "          dataTable['output_type'] = 'display_data';\n",
              "          await google.colab.output.renderOutput(dataTable, element);\n",
              "          const docLink = document.createElement('div');\n",
              "          docLink.innerHTML = docLinkHtml;\n",
              "          element.appendChild(docLink);\n",
              "        }\n",
              "      </script>\n",
              "    </div>\n",
              "  </div>\n",
              "  "
            ]
          },
          "metadata": {}
        }
      ]
    },
    {
      "cell_type": "code",
      "source": [
        "!gdown 1gpIXF8aszwj2stBomkbNLds9O0zI8bH0"
      ],
      "metadata": {
        "colab": {
          "base_uri": "https://localhost:8080/"
        },
        "id": "dvDQRjXYZ4Nd",
        "outputId": "37dac0a4-58d1-4430-e5a8-7ff8330511cb"
      },
      "execution_count": 11,
      "outputs": [
        {
          "output_type": "stream",
          "name": "stdout",
          "text": [
            "Downloading...\n",
            "From: https://drive.google.com/uc?id=1gpIXF8aszwj2stBomkbNLds9O0zI8bH0\n",
            "To: /content/stock_news.csv\n",
            "100% 170M/170M [00:03<00:00, 53.7MB/s]\n"
          ]
        }
      ]
    },
    {
      "cell_type": "code",
      "source": [
        "with open('stock_news.csv', encoding='utf-8') as inputfile:\n",
        "    stock_df = pd.read_csv(inputfile)"
      ],
      "metadata": {
        "id": "Ck672MXZbxBZ"
      },
      "execution_count": 12,
      "outputs": []
    },
    {
      "cell_type": "code",
      "source": [
        "# errors coerce because there 2578 rows with wrong/missing values in the date column value \n",
        "stock_df['date'] = pd.to_datetime(stock_df['date'], errors='coerce')"
      ],
      "metadata": {
        "id": "yeMh_qU-d5B-"
      },
      "execution_count": 13,
      "outputs": []
    },
    {
      "cell_type": "code",
      "source": [
        "# Remove rows containing n/a in date because there 2578 rows with wrong/missing values in the date column value\n",
        "na_rows = stock_df[stock_df['date'].isna()]\n",
        "print(\"Number of rows with errors: \" + str(len(na_rows)))\n",
        "stock_df = stock_df.drop(na_rows.index)"
      ],
      "metadata": {
        "colab": {
          "base_uri": "https://localhost:8080/"
        },
        "id": "B6s1_WDVcQ_X",
        "outputId": "d3dda989-4c90-4a1b-9d8f-52d77e822de1"
      },
      "execution_count": 14,
      "outputs": [
        {
          "output_type": "stream",
          "name": "stdout",
          "text": [
            "Number of rows with errors: 2578\n"
          ]
        }
      ]
    },
    {
      "cell_type": "code",
      "source": [
        "stock_df['date'] = pd.to_datetime(stock_df['date'], errors='coerce', utc=True)"
      ],
      "metadata": {
        "id": "cslCUOyMuOKD"
      },
      "execution_count": 15,
      "outputs": []
    },
    {
      "cell_type": "code",
      "source": [
        "# Change format to something like 2020-02-14\n",
        "stock_df['formatted_date'] = stock_df['date'].dt.strftime('%Y-%m-%d')"
      ],
      "metadata": {
        "id": "bMf_trISprPB"
      },
      "execution_count": 16,
      "outputs": []
    },
    {
      "cell_type": "code",
      "source": [
        "# Remove unnecesary columns\n",
        "stock_df_clean = stock_df.drop(['Unnamed: 0.1', 'Unnamed: 0', 'date', 'stock'], axis=1)"
      ],
      "metadata": {
        "id": "EkufmMibs_vm"
      },
      "execution_count": 17,
      "outputs": []
    },
    {
      "cell_type": "code",
      "source": [
        "stock_df_clean = stock_df_clean.rename(columns={'formatted_date': 'date'})"
      ],
      "metadata": {
        "id": "91zu2PNItRhj"
      },
      "execution_count": 18,
      "outputs": []
    },
    {
      "cell_type": "code",
      "source": [
        "len(stock_df_clean)"
      ],
      "metadata": {
        "colab": {
          "base_uri": "https://localhost:8080/"
        },
        "id": "nix3tXYHOKth",
        "outputId": "43852d18-16b9-4c32-f600-b6fc0750a321"
      },
      "execution_count": 19,
      "outputs": [
        {
          "output_type": "execute_result",
          "data": {
            "text/plain": [
              "1397891"
            ]
          },
          "metadata": {},
          "execution_count": 19
        }
      ]
    },
    {
      "cell_type": "code",
      "source": [
        "stock_cleaned_final = stock_df_clean.groupby('date')['title'].agg(lambda x: '\\n'.join(x)).reset_index()"
      ],
      "metadata": {
        "id": "dkWi__RZPMIZ"
      },
      "execution_count": 20,
      "outputs": []
    },
    {
      "cell_type": "code",
      "source": [
        "stock_cleaned_final"
      ],
      "metadata": {
        "colab": {
          "base_uri": "https://localhost:8080/",
          "height": 419
        },
        "id": "KJHQ4YcVVyyy",
        "outputId": "0b1275d3-fc3d-412f-8684-745ec6925381"
      },
      "execution_count": 21,
      "outputs": [
        {
          "output_type": "execute_result",
          "data": {
            "text/plain": [
              "            date                                              title\n",
              "0     2009-02-14                       How Treasuries and ETFs Work\n",
              "1     2009-04-27  Update on the Luxury Sector: 2nd Quarter 2009\\...\n",
              "2     2009-04-29                             Going Against the Herd\n",
              "3     2009-05-22  Charles Sizemore Radio Interview Saturday Morning\n",
              "4     2009-05-27  JVA perks to 39% gain, SMCG ready, MRM to cont...\n",
              "...          ...                                                ...\n",
              "3954  2020-06-07  Apple's Top Supplier Foxconn Launched New Recr...\n",
              "3955  2020-06-08  Shares of several retail and apparel companies...\n",
              "3956  2020-06-09  Why Apple's Stock Is Trading Higher Today\\nApp...\n",
              "3957  2020-06-10  Shares of retail & apparel companies are tradi...\n",
              "3958  2020-06-11  Johnson & Johnson To Start Coronavirus Vaccine...\n",
              "\n",
              "[3959 rows x 2 columns]"
            ],
            "text/html": [
              "\n",
              "  <div id=\"df-172c46fb-0b61-4393-ad90-3027ed758453\">\n",
              "    <div class=\"colab-df-container\">\n",
              "      <div>\n",
              "<style scoped>\n",
              "    .dataframe tbody tr th:only-of-type {\n",
              "        vertical-align: middle;\n",
              "    }\n",
              "\n",
              "    .dataframe tbody tr th {\n",
              "        vertical-align: top;\n",
              "    }\n",
              "\n",
              "    .dataframe thead th {\n",
              "        text-align: right;\n",
              "    }\n",
              "</style>\n",
              "<table border=\"1\" class=\"dataframe\">\n",
              "  <thead>\n",
              "    <tr style=\"text-align: right;\">\n",
              "      <th></th>\n",
              "      <th>date</th>\n",
              "      <th>title</th>\n",
              "    </tr>\n",
              "  </thead>\n",
              "  <tbody>\n",
              "    <tr>\n",
              "      <th>0</th>\n",
              "      <td>2009-02-14</td>\n",
              "      <td>How Treasuries and ETFs Work</td>\n",
              "    </tr>\n",
              "    <tr>\n",
              "      <th>1</th>\n",
              "      <td>2009-04-27</td>\n",
              "      <td>Update on the Luxury Sector: 2nd Quarter 2009\\...</td>\n",
              "    </tr>\n",
              "    <tr>\n",
              "      <th>2</th>\n",
              "      <td>2009-04-29</td>\n",
              "      <td>Going Against the Herd</td>\n",
              "    </tr>\n",
              "    <tr>\n",
              "      <th>3</th>\n",
              "      <td>2009-05-22</td>\n",
              "      <td>Charles Sizemore Radio Interview Saturday Morning</td>\n",
              "    </tr>\n",
              "    <tr>\n",
              "      <th>4</th>\n",
              "      <td>2009-05-27</td>\n",
              "      <td>JVA perks to 39% gain, SMCG ready, MRM to cont...</td>\n",
              "    </tr>\n",
              "    <tr>\n",
              "      <th>...</th>\n",
              "      <td>...</td>\n",
              "      <td>...</td>\n",
              "    </tr>\n",
              "    <tr>\n",
              "      <th>3954</th>\n",
              "      <td>2020-06-07</td>\n",
              "      <td>Apple's Top Supplier Foxconn Launched New Recr...</td>\n",
              "    </tr>\n",
              "    <tr>\n",
              "      <th>3955</th>\n",
              "      <td>2020-06-08</td>\n",
              "      <td>Shares of several retail and apparel companies...</td>\n",
              "    </tr>\n",
              "    <tr>\n",
              "      <th>3956</th>\n",
              "      <td>2020-06-09</td>\n",
              "      <td>Why Apple's Stock Is Trading Higher Today\\nApp...</td>\n",
              "    </tr>\n",
              "    <tr>\n",
              "      <th>3957</th>\n",
              "      <td>2020-06-10</td>\n",
              "      <td>Shares of retail &amp; apparel companies are tradi...</td>\n",
              "    </tr>\n",
              "    <tr>\n",
              "      <th>3958</th>\n",
              "      <td>2020-06-11</td>\n",
              "      <td>Johnson &amp; Johnson To Start Coronavirus Vaccine...</td>\n",
              "    </tr>\n",
              "  </tbody>\n",
              "</table>\n",
              "<p>3959 rows × 2 columns</p>\n",
              "</div>\n",
              "      <button class=\"colab-df-convert\" onclick=\"convertToInteractive('df-172c46fb-0b61-4393-ad90-3027ed758453')\"\n",
              "              title=\"Convert this dataframe to an interactive table.\"\n",
              "              style=\"display:none;\">\n",
              "        \n",
              "  <svg xmlns=\"http://www.w3.org/2000/svg\" height=\"24px\"viewBox=\"0 0 24 24\"\n",
              "       width=\"24px\">\n",
              "    <path d=\"M0 0h24v24H0V0z\" fill=\"none\"/>\n",
              "    <path d=\"M18.56 5.44l.94 2.06.94-2.06 2.06-.94-2.06-.94-.94-2.06-.94 2.06-2.06.94zm-11 1L8.5 8.5l.94-2.06 2.06-.94-2.06-.94L8.5 2.5l-.94 2.06-2.06.94zm10 10l.94 2.06.94-2.06 2.06-.94-2.06-.94-.94-2.06-.94 2.06-2.06.94z\"/><path d=\"M17.41 7.96l-1.37-1.37c-.4-.4-.92-.59-1.43-.59-.52 0-1.04.2-1.43.59L10.3 9.45l-7.72 7.72c-.78.78-.78 2.05 0 2.83L4 21.41c.39.39.9.59 1.41.59.51 0 1.02-.2 1.41-.59l7.78-7.78 2.81-2.81c.8-.78.8-2.07 0-2.86zM5.41 20L4 18.59l7.72-7.72 1.47 1.35L5.41 20z\"/>\n",
              "  </svg>\n",
              "      </button>\n",
              "      \n",
              "  <style>\n",
              "    .colab-df-container {\n",
              "      display:flex;\n",
              "      flex-wrap:wrap;\n",
              "      gap: 12px;\n",
              "    }\n",
              "\n",
              "    .colab-df-convert {\n",
              "      background-color: #E8F0FE;\n",
              "      border: none;\n",
              "      border-radius: 50%;\n",
              "      cursor: pointer;\n",
              "      display: none;\n",
              "      fill: #1967D2;\n",
              "      height: 32px;\n",
              "      padding: 0 0 0 0;\n",
              "      width: 32px;\n",
              "    }\n",
              "\n",
              "    .colab-df-convert:hover {\n",
              "      background-color: #E2EBFA;\n",
              "      box-shadow: 0px 1px 2px rgba(60, 64, 67, 0.3), 0px 1px 3px 1px rgba(60, 64, 67, 0.15);\n",
              "      fill: #174EA6;\n",
              "    }\n",
              "\n",
              "    [theme=dark] .colab-df-convert {\n",
              "      background-color: #3B4455;\n",
              "      fill: #D2E3FC;\n",
              "    }\n",
              "\n",
              "    [theme=dark] .colab-df-convert:hover {\n",
              "      background-color: #434B5C;\n",
              "      box-shadow: 0px 1px 3px 1px rgba(0, 0, 0, 0.15);\n",
              "      filter: drop-shadow(0px 1px 2px rgba(0, 0, 0, 0.3));\n",
              "      fill: #FFFFFF;\n",
              "    }\n",
              "  </style>\n",
              "\n",
              "      <script>\n",
              "        const buttonEl =\n",
              "          document.querySelector('#df-172c46fb-0b61-4393-ad90-3027ed758453 button.colab-df-convert');\n",
              "        buttonEl.style.display =\n",
              "          google.colab.kernel.accessAllowed ? 'block' : 'none';\n",
              "\n",
              "        async function convertToInteractive(key) {\n",
              "          const element = document.querySelector('#df-172c46fb-0b61-4393-ad90-3027ed758453');\n",
              "          const dataTable =\n",
              "            await google.colab.kernel.invokeFunction('convertToInteractive',\n",
              "                                                     [key], {});\n",
              "          if (!dataTable) return;\n",
              "\n",
              "          const docLinkHtml = 'Like what you see? Visit the ' +\n",
              "            '<a target=\"_blank\" href=https://colab.research.google.com/notebooks/data_table.ipynb>data table notebook</a>'\n",
              "            + ' to learn more about interactive tables.';\n",
              "          element.innerHTML = '';\n",
              "          dataTable['output_type'] = 'display_data';\n",
              "          await google.colab.output.renderOutput(dataTable, element);\n",
              "          const docLink = document.createElement('div');\n",
              "          docLink.innerHTML = docLinkHtml;\n",
              "          element.appendChild(docLink);\n",
              "        }\n",
              "      </script>\n",
              "    </div>\n",
              "  </div>\n",
              "  "
            ]
          },
          "metadata": {},
          "execution_count": 21
        }
      ]
    },
    {
      "cell_type": "code",
      "source": [
        "# Get final news column for sentiment analysis\n",
        "merged_news = pd.merge(huff_news_clean, stock_cleaned_final, on='date', how='outer')\n",
        "# Sort based on date\n",
        "merged_news = merged_news.sort_values('date')\n",
        "merged_news = merged_news.reset_index(drop=True)"
      ],
      "metadata": {
        "id": "huaOlWdgu8zi"
      },
      "execution_count": 22,
      "outputs": []
    },
    {
      "cell_type": "code",
      "source": [
        "# Start from 2012\n",
        "begin_date = merged_news[merged_news['date'] == '2012-01-01'].index[0]\n",
        "merged_news = merged_news.iloc[begin_date:]\n",
        "# replace NaN values with empty strings\n",
        "merged_news = merged_news.fillna('')\n",
        "merged_news['date'] = pd.to_datetime(merged_news['date'])\n",
        "merged_news.set_index('date', inplace=True)\n",
        "display(merged_news)\n"
      ],
      "metadata": {
        "colab": {
          "base_uri": "https://localhost:8080/",
          "height": 450
        },
        "id": "ohFjPWQSyklE",
        "outputId": "e345dd69-6dde-4fbb-a5f6-bbee0802e5c2"
      },
      "execution_count": 23,
      "outputs": [
        {
          "output_type": "display_data",
          "data": {
            "text/plain": [
              "                                                     headline  \\\n",
              "date                                                            \n",
              "2012-01-01                                                      \n",
              "2012-01-02                                                      \n",
              "2012-01-03                                                      \n",
              "2012-01-04                                                      \n",
              "2012-01-05                                                      \n",
              "...                                                       ...   \n",
              "2022-09-19  Hurricane Fiona Bears Down On Dominican Republ...   \n",
              "2022-09-20  Russian Cosmonaut Valery Polyakov Who Broke Re...   \n",
              "2022-09-21  Biden At UN To Call Russian War An Affront To ...   \n",
              "2022-09-22  Woman Who Called Cops On Black Bird-Watcher Lo...   \n",
              "2022-09-23  Over 4 Million Americans Roll Up Sleeves For O...   \n",
              "\n",
              "                                            short_description  \\\n",
              "date                                                            \n",
              "2012-01-01                                                      \n",
              "2012-01-02                                                      \n",
              "2012-01-03                                                      \n",
              "2012-01-04                                                      \n",
              "2012-01-05                                                      \n",
              "...                                                       ...   \n",
              "2022-09-19  The storm knocked out the power grid and unlea...   \n",
              "2022-09-20  Polyakov's record-breaking trip to outer space...   \n",
              "2022-09-21  White House officials say the crux of the pres...   \n",
              "2022-09-22  Amy Cooper accused investment firm Franklin Te...   \n",
              "2022-09-23  Health experts said it is too early to predict...   \n",
              "\n",
              "                                                        title  \n",
              "date                                                           \n",
              "2012-01-01  Is 2012 Going To Be a Repeat of 2011?\\nIs 2012...  \n",
              "2012-01-02  Earnings Expectations for the Week of January ...  \n",
              "2012-01-03  UPDATE: Deutsche Bank Initiates Coverage on Ad...  \n",
              "2012-01-04  JP Morgan Adds Agilent Technologies to Analyst...  \n",
              "2012-01-05  End-of-Day Market Summary for January 5, 2012\\...  \n",
              "...                                                       ...  \n",
              "2022-09-19                                                     \n",
              "2022-09-20                                                     \n",
              "2022-09-21                                                     \n",
              "2022-09-22                                                     \n",
              "2022-09-23                                                     \n",
              "\n",
              "[3514 rows x 3 columns]"
            ],
            "text/html": [
              "\n",
              "  <div id=\"df-a2bcbc07-9277-44ae-984b-5dc657e1c58f\">\n",
              "    <div class=\"colab-df-container\">\n",
              "      <div>\n",
              "<style scoped>\n",
              "    .dataframe tbody tr th:only-of-type {\n",
              "        vertical-align: middle;\n",
              "    }\n",
              "\n",
              "    .dataframe tbody tr th {\n",
              "        vertical-align: top;\n",
              "    }\n",
              "\n",
              "    .dataframe thead th {\n",
              "        text-align: right;\n",
              "    }\n",
              "</style>\n",
              "<table border=\"1\" class=\"dataframe\">\n",
              "  <thead>\n",
              "    <tr style=\"text-align: right;\">\n",
              "      <th></th>\n",
              "      <th>headline</th>\n",
              "      <th>short_description</th>\n",
              "      <th>title</th>\n",
              "    </tr>\n",
              "    <tr>\n",
              "      <th>date</th>\n",
              "      <th></th>\n",
              "      <th></th>\n",
              "      <th></th>\n",
              "    </tr>\n",
              "  </thead>\n",
              "  <tbody>\n",
              "    <tr>\n",
              "      <th>2012-01-01</th>\n",
              "      <td></td>\n",
              "      <td></td>\n",
              "      <td>Is 2012 Going To Be a Repeat of 2011?\\nIs 2012...</td>\n",
              "    </tr>\n",
              "    <tr>\n",
              "      <th>2012-01-02</th>\n",
              "      <td></td>\n",
              "      <td></td>\n",
              "      <td>Earnings Expectations for the Week of January ...</td>\n",
              "    </tr>\n",
              "    <tr>\n",
              "      <th>2012-01-03</th>\n",
              "      <td></td>\n",
              "      <td></td>\n",
              "      <td>UPDATE: Deutsche Bank Initiates Coverage on Ad...</td>\n",
              "    </tr>\n",
              "    <tr>\n",
              "      <th>2012-01-04</th>\n",
              "      <td></td>\n",
              "      <td></td>\n",
              "      <td>JP Morgan Adds Agilent Technologies to Analyst...</td>\n",
              "    </tr>\n",
              "    <tr>\n",
              "      <th>2012-01-05</th>\n",
              "      <td></td>\n",
              "      <td></td>\n",
              "      <td>End-of-Day Market Summary for January 5, 2012\\...</td>\n",
              "    </tr>\n",
              "    <tr>\n",
              "      <th>...</th>\n",
              "      <td>...</td>\n",
              "      <td>...</td>\n",
              "      <td>...</td>\n",
              "    </tr>\n",
              "    <tr>\n",
              "      <th>2022-09-19</th>\n",
              "      <td>Hurricane Fiona Bears Down On Dominican Republ...</td>\n",
              "      <td>The storm knocked out the power grid and unlea...</td>\n",
              "      <td></td>\n",
              "    </tr>\n",
              "    <tr>\n",
              "      <th>2022-09-20</th>\n",
              "      <td>Russian Cosmonaut Valery Polyakov Who Broke Re...</td>\n",
              "      <td>Polyakov's record-breaking trip to outer space...</td>\n",
              "      <td></td>\n",
              "    </tr>\n",
              "    <tr>\n",
              "      <th>2022-09-21</th>\n",
              "      <td>Biden At UN To Call Russian War An Affront To ...</td>\n",
              "      <td>White House officials say the crux of the pres...</td>\n",
              "      <td></td>\n",
              "    </tr>\n",
              "    <tr>\n",
              "      <th>2022-09-22</th>\n",
              "      <td>Woman Who Called Cops On Black Bird-Watcher Lo...</td>\n",
              "      <td>Amy Cooper accused investment firm Franklin Te...</td>\n",
              "      <td></td>\n",
              "    </tr>\n",
              "    <tr>\n",
              "      <th>2022-09-23</th>\n",
              "      <td>Over 4 Million Americans Roll Up Sleeves For O...</td>\n",
              "      <td>Health experts said it is too early to predict...</td>\n",
              "      <td></td>\n",
              "    </tr>\n",
              "  </tbody>\n",
              "</table>\n",
              "<p>3514 rows × 3 columns</p>\n",
              "</div>\n",
              "      <button class=\"colab-df-convert\" onclick=\"convertToInteractive('df-a2bcbc07-9277-44ae-984b-5dc657e1c58f')\"\n",
              "              title=\"Convert this dataframe to an interactive table.\"\n",
              "              style=\"display:none;\">\n",
              "        \n",
              "  <svg xmlns=\"http://www.w3.org/2000/svg\" height=\"24px\"viewBox=\"0 0 24 24\"\n",
              "       width=\"24px\">\n",
              "    <path d=\"M0 0h24v24H0V0z\" fill=\"none\"/>\n",
              "    <path d=\"M18.56 5.44l.94 2.06.94-2.06 2.06-.94-2.06-.94-.94-2.06-.94 2.06-2.06.94zm-11 1L8.5 8.5l.94-2.06 2.06-.94-2.06-.94L8.5 2.5l-.94 2.06-2.06.94zm10 10l.94 2.06.94-2.06 2.06-.94-2.06-.94-.94-2.06-.94 2.06-2.06.94z\"/><path d=\"M17.41 7.96l-1.37-1.37c-.4-.4-.92-.59-1.43-.59-.52 0-1.04.2-1.43.59L10.3 9.45l-7.72 7.72c-.78.78-.78 2.05 0 2.83L4 21.41c.39.39.9.59 1.41.59.51 0 1.02-.2 1.41-.59l7.78-7.78 2.81-2.81c.8-.78.8-2.07 0-2.86zM5.41 20L4 18.59l7.72-7.72 1.47 1.35L5.41 20z\"/>\n",
              "  </svg>\n",
              "      </button>\n",
              "      \n",
              "  <style>\n",
              "    .colab-df-container {\n",
              "      display:flex;\n",
              "      flex-wrap:wrap;\n",
              "      gap: 12px;\n",
              "    }\n",
              "\n",
              "    .colab-df-convert {\n",
              "      background-color: #E8F0FE;\n",
              "      border: none;\n",
              "      border-radius: 50%;\n",
              "      cursor: pointer;\n",
              "      display: none;\n",
              "      fill: #1967D2;\n",
              "      height: 32px;\n",
              "      padding: 0 0 0 0;\n",
              "      width: 32px;\n",
              "    }\n",
              "\n",
              "    .colab-df-convert:hover {\n",
              "      background-color: #E2EBFA;\n",
              "      box-shadow: 0px 1px 2px rgba(60, 64, 67, 0.3), 0px 1px 3px 1px rgba(60, 64, 67, 0.15);\n",
              "      fill: #174EA6;\n",
              "    }\n",
              "\n",
              "    [theme=dark] .colab-df-convert {\n",
              "      background-color: #3B4455;\n",
              "      fill: #D2E3FC;\n",
              "    }\n",
              "\n",
              "    [theme=dark] .colab-df-convert:hover {\n",
              "      background-color: #434B5C;\n",
              "      box-shadow: 0px 1px 3px 1px rgba(0, 0, 0, 0.15);\n",
              "      filter: drop-shadow(0px 1px 2px rgba(0, 0, 0, 0.3));\n",
              "      fill: #FFFFFF;\n",
              "    }\n",
              "  </style>\n",
              "\n",
              "      <script>\n",
              "        const buttonEl =\n",
              "          document.querySelector('#df-a2bcbc07-9277-44ae-984b-5dc657e1c58f button.colab-df-convert');\n",
              "        buttonEl.style.display =\n",
              "          google.colab.kernel.accessAllowed ? 'block' : 'none';\n",
              "\n",
              "        async function convertToInteractive(key) {\n",
              "          const element = document.querySelector('#df-a2bcbc07-9277-44ae-984b-5dc657e1c58f');\n",
              "          const dataTable =\n",
              "            await google.colab.kernel.invokeFunction('convertToInteractive',\n",
              "                                                     [key], {});\n",
              "          if (!dataTable) return;\n",
              "\n",
              "          const docLinkHtml = 'Like what you see? Visit the ' +\n",
              "            '<a target=\"_blank\" href=https://colab.research.google.com/notebooks/data_table.ipynb>data table notebook</a>'\n",
              "            + ' to learn more about interactive tables.';\n",
              "          element.innerHTML = '';\n",
              "          dataTable['output_type'] = 'display_data';\n",
              "          await google.colab.output.renderOutput(dataTable, element);\n",
              "          const docLink = document.createElement('div');\n",
              "          docLink.innerHTML = docLinkHtml;\n",
              "          element.appendChild(docLink);\n",
              "        }\n",
              "      </script>\n",
              "    </div>\n",
              "  </div>\n",
              "  "
            ]
          },
          "metadata": {}
        }
      ]
    },
    {
      "cell_type": "code",
      "source": [
        "# merged_news.to_csv('merged.csv', encoding = 'utf-8-sig') \n",
        "# from google.colab import files\n",
        "# files.download(\"merged.csv\")"
      ],
      "metadata": {
        "id": "ozGndgSSyvqM"
      },
      "execution_count": 24,
      "outputs": []
    },
    {
      "cell_type": "markdown",
      "source": [
        "## Natural language processing"
      ],
      "metadata": {
        "id": "HxhnNRzR1ONQ"
      }
    },
    {
      "cell_type": "code",
      "source": [
        "import nltk\n",
        "nltk.download('vader_lexicon')"
      ],
      "metadata": {
        "colab": {
          "base_uri": "https://localhost:8080/"
        },
        "id": "kdxvBnDD1Kji",
        "outputId": "ca55b9a0-dd38-4bdf-feb0-3d134f4f22cc"
      },
      "execution_count": 25,
      "outputs": [
        {
          "output_type": "stream",
          "name": "stderr",
          "text": [
            "[nltk_data] Downloading package vader_lexicon to /root/nltk_data...\n"
          ]
        },
        {
          "output_type": "execute_result",
          "data": {
            "text/plain": [
              "True"
            ]
          },
          "metadata": {},
          "execution_count": 25
        }
      ]
    },
    {
      "cell_type": "markdown",
      "source": [
        "The basic idea would be to go to each row in the dataframe and read the headline, short_description and title. Combine them to get one single sentence and perform sentiment analysis using NLTK VADER (Valence Aware Dictionary and sEntiment Reasoner).\n",
        "At the beginning I was thinking of using AFINN, but AFINN is just a list of words labeled as to how positive or negative they are and then it gets the average sentiment of a sentence. \n",
        "\n",
        "Vader, on the other hand takes into account the context of the sentence as well as structure. Moreover, it is trained on social media data which is by default short sentences similar to the sentences I have for my data. Lastly, it is more efficient and faster than AFINN."
      ],
      "metadata": {
        "id": "35fast_F_Ul_"
      }
    },
    {
      "cell_type": "markdown",
      "source": [],
      "metadata": {
        "id": "t6Wz9gn3D1zC"
      }
    },
    {
      "cell_type": "code",
      "source": [
        "from nltk.sentiment import SentimentIntensityAnalyzer\n",
        "\n",
        "# Initialize VADER sentiment intensity analyzer\n",
        "sia = SentimentIntensityAnalyzer()\n",
        "\n",
        "# Define function to pass through dataframe\n",
        "def calculate_sentiment_score(row, analyzer):\n",
        "    combined_text = f\"{row['headline']} {row['short_description']} {row['title']}\"\n",
        "    sentiment = analyzer.polarity_scores(combined_text)\n",
        "    score = 0\n",
        "    if sentiment['compound'] > 0.1:\n",
        "      score = 1\n",
        "    elif sentiment['compound'] < -0.1:\n",
        "      score = -1\n",
        "    # Map values as we get values like -0.9432 which can be simplified as we are\n",
        "    # not trying to predict sentiment scores, just a reference in our data\n",
        "    return score"
      ],
      "metadata": {
        "id": "4ZFxgtOaFo31"
      },
      "execution_count": 26,
      "outputs": []
    },
    {
      "cell_type": "code",
      "source": [
        "# Apply function to each row in the dataframe\n",
        "merged_news['sentiment_score'] = merged_news.apply(calculate_sentiment_score, analyzer=sia, axis=1)"
      ],
      "metadata": {
        "id": "MEsu3NT_FsqC"
      },
      "execution_count": 27,
      "outputs": []
    },
    {
      "cell_type": "code",
      "source": [
        "# from google.colab import files\n",
        "\n",
        "# merged_news[['sentiment_score', 'date']].to_csv('final.csv', encoding = 'utf-8-sig') \n",
        "# files.download(\"final.csv\")"
      ],
      "metadata": {
        "id": "sSBedE75SHOu"
      },
      "execution_count": 28,
      "outputs": []
    },
    {
      "cell_type": "code",
      "source": [
        "# Some values are missing so let's keep it daily and do forward filling\n",
        "merged_news = merged_news.resample('D').ffill()"
      ],
      "metadata": {
        "id": "Dq47h0-Klt1q"
      },
      "execution_count": 29,
      "outputs": []
    },
    {
      "cell_type": "markdown",
      "source": [
        "We can get an idea of how the sentiment news analysis looks over time, here is some code that takes the yearly average of the sentiment scores and plots it.\n",
        "As you will see interestingly, there is a sharp decline of positivity starting from end of 2019 and beginning of 2020, just when our friend COVID-19 entered the chat."
      ],
      "metadata": {
        "id": "dJR2ZDl8ccwJ"
      }
    },
    {
      "cell_type": "code",
      "source": [
        "yearly_sentiment = merged_news['sentiment_score'].resample('Y').mean()\n",
        "yearly_sentiment.index = yearly_sentiment.index.strftime('%Y')\n",
        "plt.plot(yearly_sentiment.index, yearly_sentiment.values)\n",
        "plt.title('Positivity rating of news over time')\n",
        "plt.xlabel('Year')\n",
        "plt.ylabel('Sentiment Score')\n",
        "plt.show()"
      ],
      "metadata": {
        "colab": {
          "base_uri": "https://localhost:8080/",
          "height": 472
        },
        "id": "gdyZPmJugmiE",
        "outputId": "8544092a-c33c-4da4-f33c-3710165ee92f"
      },
      "execution_count": 30,
      "outputs": [
        {
          "output_type": "display_data",
          "data": {
            "text/plain": [
              "<Figure size 640x480 with 1 Axes>"
            ],
            "image/png": "[encoded data removed]"
          },
          "metadata": {}
        }
      ]
    },
    {
      "cell_type": "markdown",
      "source": [
        "# Macroeconomic indicators\n",
        "According to this research paper: https://www.sciencedirect.com/science/article/abs/pii/S0378426608001544 \n",
        "Macroeconomic indicators are important variables to take into account when predicting the stock market. More importantly, it defines that during bear markets (recessions) interest rates and yield spreads (difference between the yields of government bonds, with different maturities) are empirically the most important factors to consider and makes it easier to predict recessions in the stock market. Furthermore, other factors are also important during times other than recession. For example: GDP and Consumer Price Index (inflation rate). We will be analyzing these factors to take them into our model.\n",
        "\n",
        "I found some APIs to automatically extract this data from the US Bureau of Labor Statistics and the Federal Reserve Economic Data, both truthful and official resources for getting accurate historic economic data. However, that would involve sharing my API key and also a lot more code that is not necessarily relevant to the purpose of the project. As a result, I just did the process of extracting the GDP, inflation rate, interest rate, and yield curves during these times periods.\n",
        "Sources: \n",
        "https://fred.stlouisfed.org/series/CPIAUCSL\n",
        "https://www.bls.gov/cpi/"
      ],
      "metadata": {
        "id": "kU6q8-Scrgcv"
      }
    },
    {
      "cell_type": "code",
      "source": [
        "!gdown 1mvoxR7o6lfmg75vBUDN6rLoeUv--me0l\n",
        "!gdown 1COss6xkVysE5c9DPfhVDB4tEJxDoH8VU\n",
        "!gdown 1MBTrKo9djOstwcmeFVjdqSo9_78hpzll\n",
        "!gdown 1pfK7uDdtHHHlrClqEPDHtBcmluNZH-YN"
      ],
      "metadata": {
        "colab": {
          "base_uri": "https://localhost:8080/"
        },
        "id": "fwtHU8-HzBlM",
        "outputId": "0d2e2bbf-fd5d-4d26-a6dd-1e5136a3e3fb"
      },
      "execution_count": 31,
      "outputs": [
        {
          "output_type": "stream",
          "name": "stdout",
          "text": [
            "Downloading...\n",
            "From: https://drive.google.com/uc?id=1mvoxR7o6lfmg75vBUDN6rLoeUv--me0l\n",
            "To: /content/CPI.csv\n",
            "100% 2.46k/2.46k [00:00<00:00, 5.39MB/s]\n",
            "Downloading...\n",
            "From: https://drive.google.com/uc?id=1COss6xkVysE5c9DPfhVDB4tEJxDoH8VU\n",
            "To: /content/FEDFUNDS.csv\n",
            "100% 2.08k/2.08k [00:00<00:00, 4.42MB/s]\n",
            "Downloading...\n",
            "From: https://drive.google.com/uc?id=1MBTrKo9djOstwcmeFVjdqSo9_78hpzll\n",
            "To: /content/GDP.csv\n",
            "100% 945/945 [00:00<00:00, 2.07MB/s]\n",
            "Downloading...\n",
            "From: https://drive.google.com/uc?id=1pfK7uDdtHHHlrClqEPDHtBcmluNZH-YN\n",
            "To: /content/T10Y2Y.csv\n",
            "100% 44.4k/44.4k [00:00<00:00, 50.3MB/s]\n"
          ]
        }
      ]
    },
    {
      "cell_type": "code",
      "source": [
        "filenames = ['CPI.csv', 'FEDFUNDS.csv', 'T10Y2Y.csv', 'GDP.csv']\n",
        "macroecon_dataframes = []\n",
        "for filename in filenames: \n",
        "  with open(filename, encoding='utf-8') as inputfile:\n",
        "    df = pd.read_csv(inputfile)\n",
        "    macroecon_dataframes.append(df)"
      ],
      "metadata": {
        "id": "SO2zx9Qg2LLR"
      },
      "execution_count": 32,
      "outputs": []
    },
    {
      "cell_type": "code",
      "source": [
        "# Modify yield_spread because it contains some non numeric values\n",
        "macroecon_dataframes[2]['T10Y2Y'] = pd.to_numeric(macroecon_dataframes[2]['T10Y2Y'], errors='coerce')\n",
        "macroecon_dataframes[2] = macroecon_dataframes[2].fillna(method='ffill')\n",
        "\n",
        "macroecon_dataframes[2]"
      ],
      "metadata": {
        "colab": {
          "base_uri": "https://localhost:8080/",
          "height": 419
        },
        "id": "QiYhiRruaPA5",
        "outputId": "f8f288f2-8da7-43ce-86c9-f17f54696432"
      },
      "execution_count": 33,
      "outputs": [
        {
          "output_type": "execute_result",
          "data": {
            "text/plain": [
              "            DATE  T10Y2Y\n",
              "0     2012-01-03    1.70\n",
              "1     2012-01-04    1.75\n",
              "2     2012-01-05    1.75\n",
              "3     2012-01-06    1.73\n",
              "4     2012-01-09    1.72\n",
              "...          ...     ...\n",
              "2794  2022-09-19   -0.46\n",
              "2795  2022-09-20   -0.39\n",
              "2796  2022-09-21   -0.51\n",
              "2797  2022-09-22   -0.41\n",
              "2798  2022-09-23   -0.51\n",
              "\n",
              "[2799 rows x 2 columns]"
            ],
            "text/html": [
              "\n",
              "  <div id=\"df-0c3ece35-cd49-4307-a4fb-274cf27781bc\">\n",
              "    <div class=\"colab-df-container\">\n",
              "      <div>\n",
              "<style scoped>\n",
              "    .dataframe tbody tr th:only-of-type {\n",
              "        vertical-align: middle;\n",
              "    }\n",
              "\n",
              "    .dataframe tbody tr th {\n",
              "        vertical-align: top;\n",
              "    }\n",
              "\n",
              "    .dataframe thead th {\n",
              "        text-align: right;\n",
              "    }\n",
              "</style>\n",
              "<table border=\"1\" class=\"dataframe\">\n",
              "  <thead>\n",
              "    <tr style=\"text-align: right;\">\n",
              "      <th></th>\n",
              "      <th>DATE</th>\n",
              "      <th>T10Y2Y</th>\n",
              "    </tr>\n",
              "  </thead>\n",
              "  <tbody>\n",
              "    <tr>\n",
              "      <th>0</th>\n",
              "      <td>2012-01-03</td>\n",
              "      <td>1.70</td>\n",
              "    </tr>\n",
              "    <tr>\n",
              "      <th>1</th>\n",
              "      <td>2012-01-04</td>\n",
              "      <td>1.75</td>\n",
              "    </tr>\n",
              "    <tr>\n",
              "      <th>2</th>\n",
              "      <td>2012-01-05</td>\n",
              "      <td>1.75</td>\n",
              "    </tr>\n",
              "    <tr>\n",
              "      <th>3</th>\n",
              "      <td>2012-01-06</td>\n",
              "      <td>1.73</td>\n",
              "    </tr>\n",
              "    <tr>\n",
              "      <th>4</th>\n",
              "      <td>2012-01-09</td>\n",
              "      <td>1.72</td>\n",
              "    </tr>\n",
              "    <tr>\n",
              "      <th>...</th>\n",
              "      <td>...</td>\n",
              "      <td>...</td>\n",
              "    </tr>\n",
              "    <tr>\n",
              "      <th>2794</th>\n",
              "      <td>2022-09-19</td>\n",
              "      <td>-0.46</td>\n",
              "    </tr>\n",
              "    <tr>\n",
              "      <th>2795</th>\n",
              "      <td>2022-09-20</td>\n",
              "      <td>-0.39</td>\n",
              "    </tr>\n",
              "    <tr>\n",
              "      <th>2796</th>\n",
              "      <td>2022-09-21</td>\n",
              "      <td>-0.51</td>\n",
              "    </tr>\n",
              "    <tr>\n",
              "      <th>2797</th>\n",
              "      <td>2022-09-22</td>\n",
              "      <td>-0.41</td>\n",
              "    </tr>\n",
              "    <tr>\n",
              "      <th>2798</th>\n",
              "      <td>2022-09-23</td>\n",
              "      <td>-0.51</td>\n",
              "    </tr>\n",
              "  </tbody>\n",
              "</table>\n",
              "<p>2799 rows × 2 columns</p>\n",
              "</div>\n",
              "      <button class=\"colab-df-convert\" onclick=\"convertToInteractive('df-0c3ece35-cd49-4307-a4fb-274cf27781bc')\"\n",
              "              title=\"Convert this dataframe to an interactive table.\"\n",
              "              style=\"display:none;\">\n",
              "        \n",
              "  <svg xmlns=\"http://www.w3.org/2000/svg\" height=\"24px\"viewBox=\"0 0 24 24\"\n",
              "       width=\"24px\">\n",
              "    <path d=\"M0 0h24v24H0V0z\" fill=\"none\"/>\n",
              "    <path d=\"M18.56 5.44l.94 2.06.94-2.06 2.06-.94-2.06-.94-.94-2.06-.94 2.06-2.06.94zm-11 1L8.5 8.5l.94-2.06 2.06-.94-2.06-.94L8.5 2.5l-.94 2.06-2.06.94zm10 10l.94 2.06.94-2.06 2.06-.94-2.06-.94-.94-2.06-.94 2.06-2.06.94z\"/><path d=\"M17.41 7.96l-1.37-1.37c-.4-.4-.92-.59-1.43-.59-.52 0-1.04.2-1.43.59L10.3 9.45l-7.72 7.72c-.78.78-.78 2.05 0 2.83L4 21.41c.39.39.9.59 1.41.59.51 0 1.02-.2 1.41-.59l7.78-7.78 2.81-2.81c.8-.78.8-2.07 0-2.86zM5.41 20L4 18.59l7.72-7.72 1.47 1.35L5.41 20z\"/>\n",
              "  </svg>\n",
              "      </button>\n",
              "      \n",
              "  <style>\n",
              "    .colab-df-container {\n",
              "      display:flex;\n",
              "      flex-wrap:wrap;\n",
              "      gap: 12px;\n",
              "    }\n",
              "\n",
              "    .colab-df-convert {\n",
              "      background-color: #E8F0FE;\n",
              "      border: none;\n",
              "      border-radius: 50%;\n",
              "      cursor: pointer;\n",
              "      display: none;\n",
              "      fill: #1967D2;\n",
              "      height: 32px;\n",
              "      padding: 0 0 0 0;\n",
              "      width: 32px;\n",
              "    }\n",
              "\n",
              "    .colab-df-convert:hover {\n",
              "      background-color: #E2EBFA;\n",
              "      box-shadow: 0px 1px 2px rgba(60, 64, 67, 0.3), 0px 1px 3px 1px rgba(60, 64, 67, 0.15);\n",
              "      fill: #174EA6;\n",
              "    }\n",
              "\n",
              "    [theme=dark] .colab-df-convert {\n",
              "      background-color: #3B4455;\n",
              "      fill: #D2E3FC;\n",
              "    }\n",
              "\n",
              "    [theme=dark] .colab-df-convert:hover {\n",
              "      background-color: #434B5C;\n",
              "      box-shadow: 0px 1px 3px 1px rgba(0, 0, 0, 0.15);\n",
              "      filter: drop-shadow(0px 1px 2px rgba(0, 0, 0, 0.3));\n",
              "      fill: #FFFFFF;\n",
              "    }\n",
              "  </style>\n",
              "\n",
              "      <script>\n",
              "        const buttonEl =\n",
              "          document.querySelector('#df-0c3ece35-cd49-4307-a4fb-274cf27781bc button.colab-df-convert');\n",
              "        buttonEl.style.display =\n",
              "          google.colab.kernel.accessAllowed ? 'block' : 'none';\n",
              "\n",
              "        async function convertToInteractive(key) {\n",
              "          const element = document.querySelector('#df-0c3ece35-cd49-4307-a4fb-274cf27781bc');\n",
              "          const dataTable =\n",
              "            await google.colab.kernel.invokeFunction('convertToInteractive',\n",
              "                                                     [key], {});\n",
              "          if (!dataTable) return;\n",
              "\n",
              "          const docLinkHtml = 'Like what you see? Visit the ' +\n",
              "            '<a target=\"_blank\" href=https://colab.research.google.com/notebooks/data_table.ipynb>data table notebook</a>'\n",
              "            + ' to learn more about interactive tables.';\n",
              "          element.innerHTML = '';\n",
              "          dataTable['output_type'] = 'display_data';\n",
              "          await google.colab.output.renderOutput(dataTable, element);\n",
              "          const docLink = document.createElement('div');\n",
              "          docLink.innerHTML = docLinkHtml;\n",
              "          element.appendChild(docLink);\n",
              "        }\n",
              "      </script>\n",
              "    </div>\n",
              "  </div>\n",
              "  "
            ]
          },
          "metadata": {},
          "execution_count": 33
        }
      ]
    },
    {
      "cell_type": "markdown",
      "source": [
        "Since many of these values are not given daily but rather as monthly or quarterly averages, we need to convert them to daily. We can perform forward filling to fill the missing values in the daily timesteps."
      ],
      "metadata": {
        "id": "gCR0M7o1XiUo"
      }
    },
    {
      "cell_type": "code",
      "source": [
        "def forward_fill(df, name):\n",
        "  \"\"\"Given a dataframe with columns date and value, returns the forward fill of the values in daily format\"\"\"\n",
        "  # convert date column to datetime format and set it as index\n",
        "  df['DATE'] = pd.to_datetime(df['DATE'])\n",
        "  df.set_index('DATE', inplace=True)\n",
        "\n",
        "  # resample the data to daily frequency and forward fill the missing values\n",
        "  df = df.resample('D').ffill()\n",
        "\n",
        "  # # reset the index and rename the columns\n",
        "  df = df.reset_index()\n",
        "  df.rename(columns={ df.columns[0]: \"date\", df.columns[1]: name }, inplace = True)\n",
        "  return df"
      ],
      "metadata": {
        "id": "s4ANKsZE8BOc"
      },
      "execution_count": 34,
      "outputs": []
    },
    {
      "cell_type": "code",
      "source": [
        "column_names = [\"inflation_rate\", \"interest_rate\", \"yield_spread\", \"gdp\"]\n",
        "\n",
        "for i in range(len(column_names)):\n",
        "  macroecon_dataframes[i] = forward_fill(macroecon_dataframes[i], column_names[i])"
      ],
      "metadata": {
        "id": "Kj8UxuX3bqXO"
      },
      "execution_count": 35,
      "outputs": []
    },
    {
      "cell_type": "markdown",
      "source": [
        "# Downloading financial stock data\n",
        "Now that we have the sentiment analysis scores in the range +1 for positivity, 0 neutral and -1 for negativity, we can start downloading the stock data from the companies we are interested in. In our case, we are going to download the stock data from Yahoo Finance as it gives us historial data for free and also there is an easy to use API library which gives us easy access to it. "
      ],
      "metadata": {
        "id": "8bz0pmxFHbHS"
      }
    },
    {
      "cell_type": "code",
      "source": [
        "!pip install yfinance"
      ],
      "metadata": {
        "colab": {
          "base_uri": "https://localhost:8080/"
        },
        "id": "MUO8E68JJWSR",
        "outputId": "101e76e4-a935-4b1e-db73-700303c9aaca"
      },
      "execution_count": 36,
      "outputs": [
        {
          "output_type": "stream",
          "name": "stdout",
          "text": [
            "Looking in indexes: https://pypi.org/simple, https://us-python.pkg.dev/colab-wheels/public/simple/\n",
            "Requirement already satisfied: yfinance in /usr/local/lib/python3.9/dist-packages (0.2.18)\n",
            "Requirement already satisfied: lxml>=4.9.1 in /usr/local/lib/python3.9/dist-packages (from yfinance) (4.9.2)\n",
            "Requirement already satisfied: numpy>=1.16.5 in /usr/local/lib/python3.9/dist-packages (from yfinance) (1.22.4)\n",
            "Requirement already satisfied: multitasking>=0.0.7 in /usr/local/lib/python3.9/dist-packages (from yfinance) (0.0.11)\n",
            "Requirement already satisfied: html5lib>=1.1 in /usr/local/lib/python3.9/dist-packages (from yfinance) (1.1)\n",
            "Requirement already satisfied: beautifulsoup4>=4.11.1 in /usr/local/lib/python3.9/dist-packages (from yfinance) (4.11.2)\n",
            "Requirement already satisfied: pandas>=1.3.0 in /usr/local/lib/python3.9/dist-packages (from yfinance) (1.5.3)\n",
            "Requirement already satisfied: frozendict>=2.3.4 in /usr/local/lib/python3.9/dist-packages (from yfinance) (2.3.7)\n",
            "Requirement already satisfied: cryptography>=3.3.2 in /usr/local/lib/python3.9/dist-packages (from yfinance) (40.0.2)\n",
            "Requirement already satisfied: pytz>=2022.5 in /usr/local/lib/python3.9/dist-packages (from yfinance) (2022.7.1)\n",
            "Requirement already satisfied: requests>=2.26 in /usr/local/lib/python3.9/dist-packages (from yfinance) (2.27.1)\n",
            "Requirement already satisfied: appdirs>=1.4.4 in /usr/local/lib/python3.9/dist-packages (from yfinance) (1.4.4)\n",
            "Requirement already satisfied: soupsieve>1.2 in /usr/local/lib/python3.9/dist-packages (from beautifulsoup4>=4.11.1->yfinance) (2.4.1)\n",
            "Requirement already satisfied: cffi>=1.12 in /usr/local/lib/python3.9/dist-packages (from cryptography>=3.3.2->yfinance) (1.15.1)\n",
            "Requirement already satisfied: webencodings in /usr/local/lib/python3.9/dist-packages (from html5lib>=1.1->yfinance) (0.5.1)\n",
            "Requirement already satisfied: six>=1.9 in /usr/local/lib/python3.9/dist-packages (from html5lib>=1.1->yfinance) (1.16.0)\n",
            "Requirement already satisfied: python-dateutil>=2.8.1 in /usr/local/lib/python3.9/dist-packages (from pandas>=1.3.0->yfinance) (2.8.2)\n",
            "Requirement already satisfied: idna<4,>=2.5 in /usr/local/lib/python3.9/dist-packages (from requests>=2.26->yfinance) (3.4)\n",
            "Requirement already satisfied: charset-normalizer~=2.0.0 in /usr/local/lib/python3.9/dist-packages (from requests>=2.26->yfinance) (2.0.12)\n",
            "Requirement already satisfied: urllib3<1.27,>=1.21.1 in /usr/local/lib/python3.9/dist-packages (from requests>=2.26->yfinance) (1.26.15)\n",
            "Requirement already satisfied: certifi>=2017.4.17 in /usr/local/lib/python3.9/dist-packages (from requests>=2.26->yfinance) (2022.12.7)\n",
            "Requirement already satisfied: pycparser in /usr/local/lib/python3.9/dist-packages (from cffi>=1.12->cryptography>=3.3.2->yfinance) (2.21)\n"
          ]
        }
      ]
    },
    {
      "cell_type": "code",
      "source": [
        "import yfinance as yf\n",
        "# Companies\n",
        "company_list = ['msft', 'pfe', 'wmt', 'ko', 'qcom', 'gs', 'nvda', 'amzn', 'nke', 'v']\n",
        "\n",
        "# For each company download the data in that date range and append to a list\n",
        "stock_list = []\n",
        "for company in company_list:\n",
        "    data = yf.download(company, start=\"2012-01-03\", end=\"2022-08-31\")\n",
        "    stock_list.append(data)"
      ],
      "metadata": {
        "colab": {
          "base_uri": "https://localhost:8080/"
        },
        "id": "b7wi0SqAO4La",
        "outputId": "3f77ed26-d5c4-4fe0-876c-ea79fb0dd0d9"
      },
      "execution_count": 37,
      "outputs": [
        {
          "output_type": "stream",
          "name": "stdout",
          "text": [
            "[*********************100%***********************]  1 of 1 completed\n",
            "[*********************100%***********************]  1 of 1 completed\n",
            "[*********************100%***********************]  1 of 1 completed\n",
            "[*********************100%***********************]  1 of 1 completed\n",
            "[*********************100%***********************]  1 of 1 completed\n",
            "[*********************100%***********************]  1 of 1 completed\n",
            "[*********************100%***********************]  1 of 1 completed\n",
            "[*********************100%***********************]  1 of 1 completed\n",
            "[*********************100%***********************]  1 of 1 completed\n",
            "[*********************100%***********************]  1 of 1 completed\n"
          ]
        }
      ]
    },
    {
      "cell_type": "markdown",
      "source": [
        "## Mixing all the datasets together"
      ],
      "metadata": {
        "id": "rhkMsv-drfCr"
      }
    },
    {
      "cell_type": "code",
      "source": [
        "# Get sentiment score\n",
        "merged_news = merged_news.reset_index()\n"
      ],
      "metadata": {
        "id": "WlcBXaI0fu2C"
      },
      "execution_count": 38,
      "outputs": []
    },
    {
      "cell_type": "code",
      "source": [
        "dataset = merged_news.loc[:, ['date', 'sentiment_score']]\n",
        "for df in macroecon_dataframes:\n",
        "  dataset = pd.merge(dataset, df, on='date', how='outer')"
      ],
      "metadata": {
        "id": "mXdK8GUbjdn8"
      },
      "execution_count": 39,
      "outputs": []
    },
    {
      "cell_type": "code",
      "source": [
        "dataset['date'] = pd.to_datetime(dataset['date'])\n",
        "\n",
        "# sort the dataframe by date\n",
        "dataset = dataset.sort_values('date')\n",
        "\n",
        "# slice the dataframe between specific dates\n",
        "start_date = '2012-01-03'\n",
        "end_date = '2022-08-31'\n",
        "dataset = dataset.loc[(dataset['date'] >= start_date) & (dataset['date'] <= end_date)]"
      ],
      "metadata": {
        "id": "iZqN0TS2jhPH"
      },
      "execution_count": 40,
      "outputs": []
    },
    {
      "cell_type": "code",
      "source": [
        "\n"
      ],
      "metadata": {
        "id": "mUs86lrvqSxy"
      },
      "execution_count": 40,
      "outputs": []
    },
    {
      "cell_type": "code",
      "source": [
        "dataset.set_index('date', inplace=True)"
      ],
      "metadata": {
        "id": "pYhZX4A3XiXP"
      },
      "execution_count": 41,
      "outputs": []
    },
    {
      "cell_type": "markdown",
      "source": [
        "# We can visualize macroeconomic variables "
      ],
      "metadata": {
        "id": "A_AS2OSToBx8"
      }
    },
    {
      "cell_type": "code",
      "source": [
        "fig, axs = plt.subplots(2, 2, figsize=(15, 10))\n",
        "plt.style.use('fivethirtyeight')\n",
        "# loop over the columns and plot the yearly sentiment\n",
        "for i, col in enumerate(column_names):\n",
        "    row = i // 2\n",
        "    column = i % 2\n",
        "    yearly_sentiment = dataset[col].resample('Y').mean()\n",
        "    yearly_sentiment.index = yearly_sentiment.index.strftime('%Y')\n",
        "    axs[row, column].plot(yearly_sentiment.index, yearly_sentiment.values, color='b')\n",
        "    axs[row, column].set_title(f'{col} over time')\n",
        "    axs[row, column].set_xlabel('Year')\n",
        "    axs[row, column].set_ylabel(f'{col}')\n",
        "\n",
        "# adjust the layout of the plots\n",
        "plt.tight_layout()\n",
        "\n",
        "# show the plots\n",
        "plt.show()\n",
        "\n"
      ],
      "metadata": {
        "colab": {
          "base_uri": "https://localhost:8080/",
          "height": 994
        },
        "id": "TtDEbktcX6gf",
        "outputId": "350d24c7-4a31-4eab-e79f-dee6441a41e7"
      },
      "execution_count": 42,
      "outputs": [
        {
          "output_type": "display_data",
          "data": {
            "text/plain": [
              "<Figure size 1500x1000 with 4 Axes>"
            ],
            "image/png": "[encoded data removed]"
          },
          "metadata": {}
        }
      ]
    },
    {
      "cell_type": "code",
      "source": [
        "dataset.reset_index(inplace=True)\n",
        "for i in range(len(stock_list)):\n",
        "  stock_list[i].reset_index(inplace=True) \n",
        "  stock_list[i].rename(columns={\"Date\": \"date\"}, inplace=True)"
      ],
      "metadata": {
        "id": "lZde_SdarpuW"
      },
      "execution_count": 43,
      "outputs": []
    },
    {
      "cell_type": "code",
      "source": [
        "\n",
        "data = []\n",
        "# Merge this dataset for each company\n",
        "for i in range(len(stock_list)):\n",
        "  merged = stock_list[i].merge(dataset, on='date', how='left')\n",
        "  data.append(merged)"
      ],
      "metadata": {
        "id": "bY4zI8bFrX6e"
      },
      "execution_count": 44,
      "outputs": []
    },
    {
      "cell_type": "markdown",
      "source": [
        "# Actual machine learning. Set up model and start training and testing"
      ],
      "metadata": {
        "id": "8cjsOryq9Wzu"
      }
    },
    {
      "cell_type": "code",
      "source": [
        "!pip install lightning"
      ],
      "metadata": {
        "colab": {
          "base_uri": "https://localhost:8080/"
        },
        "id": "P-70x1lX9bQc",
        "outputId": "97b82f59-192a-4fd9-a841-fafb5c1fbda8"
      },
      "execution_count": 45,
      "outputs": [
        {
          "output_type": "stream",
          "name": "stdout",
          "text": [
            "Looking in indexes: https://pypi.org/simple, https://us-python.pkg.dev/colab-wheels/public/simple/\n",
            "Collecting lightning\n",
            "  Downloading lightning-2.0.1.post0-py3-none-any.whl (1.8 MB)\n",
            "\u001b[2K     \u001b[90m━━━━━━━━━━━━━━━━━━━━━━━━━━━━━━━━━━━━━━━━\u001b[0m \u001b[32m1.8/1.8 MB\u001b[0m \u001b[31m46.6 MB/s\u001b[0m eta \u001b[36m0:00:00\u001b[0m\n",
            "\u001b[?25hRequirement already satisfied: traitlets<7.0,>=5.3.0 in /usr/local/lib/python3.9/dist-packages (from lightning) (5.7.1)\n",
            "Collecting pytorch-lightning\n",
            "  Downloading pytorch_lightning-2.0.1.post0-py3-none-any.whl (718 kB)\n",
            "\u001b[2K     \u001b[90m━━━━━━━━━━━━━━━━━━━━━━━━━━━━━━━━━━━━━━\u001b[0m \u001b[32m718.6/718.6 kB\u001b[0m \u001b[31m56.7 MB/s\u001b[0m eta \u001b[36m0:00:00\u001b[0m\n",
            "\u001b[?25hCollecting fastapi<0.89.0\n",
            "  Downloading fastapi-0.88.0-py3-none-any.whl (55 kB)\n",
            "\u001b[2K     \u001b[90m━━━━━━━━━━━━━━━━━━━━━━━━━━━━━━━━━━━━━━━━\u001b[0m \u001b[32m55.5/55.5 kB\u001b[0m \u001b[31m8.7 MB/s\u001b[0m eta \u001b[36m0:00:00\u001b[0m\n",
            "\u001b[?25hRequirement already satisfied: PyYAML<8.0 in /usr/local/lib/python3.9/dist-packages (from lightning) (6.0)\n",
            "Collecting inquirer<5.0,>=2.10.0\n",
            "  Downloading inquirer-3.1.3-py3-none-any.whl (18 kB)\n",
            "Requirement already satisfied: numpy<3.0,>=1.17.2 in /usr/local/lib/python3.9/dist-packages (from lightning) (1.22.4)\n",
            "Requirement already satisfied: rich<15.0,>=12.3.0 in /usr/local/lib/python3.9/dist-packages (from lightning) (13.3.4)\n",
            "Requirement already satisfied: websocket-client<3.0 in /usr/local/lib/python3.9/dist-packages (from lightning) (1.5.1)\n",
            "Requirement already satisfied: click<10.0 in /usr/local/lib/python3.9/dist-packages (from lightning) (8.1.3)\n",
            "Requirement already satisfied: torch<4.0,>=1.11.0 in /usr/local/lib/python3.9/dist-packages (from lightning) (2.0.0+cu118)\n",
            "Collecting arrow<3.0,>=1.2.0\n",
            "  Downloading arrow-1.2.3-py3-none-any.whl (66 kB)\n",
            "\u001b[2K     \u001b[90m━━━━━━━━━━━━━━━━━━━━━━━━━━━━━━━━━━━━━━━━\u001b[0m \u001b[32m66.4/66.4 kB\u001b[0m \u001b[31m9.2 MB/s\u001b[0m eta \u001b[36m0:00:00\u001b[0m\n",
            "\u001b[?25hCollecting websockets<12.0\n",
            "  Downloading websockets-11.0.2-cp39-cp39-manylinux_2_5_x86_64.manylinux1_x86_64.manylinux_2_17_x86_64.manylinux2014_x86_64.whl (129 kB)\n",
            "\u001b[2K     \u001b[90m━━━━━━━━━━━━━━━━━━━━━━━━━━━━━━━━━━━━━━\u001b[0m \u001b[32m129.7/129.7 kB\u001b[0m \u001b[31m17.6 MB/s\u001b[0m eta \u001b[36m0:00:00\u001b[0m\n",
            "\u001b[?25hCollecting lightning-cloud>=0.5.31\n",
            "  Downloading lightning_cloud-0.5.33-py3-none-any.whl (553 kB)\n",
            "\u001b[2K     \u001b[90m━━━━━━━━━━━━━━━━━━━━━━━━━━━━━━━━━━━━━━\u001b[0m \u001b[32m553.5/553.5 kB\u001b[0m \u001b[31m55.5 MB/s\u001b[0m eta \u001b[36m0:00:00\u001b[0m\n",
            "\u001b[?25hCollecting starlette<2.0\n",
            "  Downloading starlette-0.26.1-py3-none-any.whl (66 kB)\n",
            "\u001b[2K     \u001b[90m━━━━━━━━━━━━━━━━━━━━━━━━━━━━━━━━━━━━━━━━\u001b[0m \u001b[32m66.9/66.9 kB\u001b[0m \u001b[31m9.0 MB/s\u001b[0m eta \u001b[36m0:00:00\u001b[0m\n",
            "\u001b[?25hCollecting starsessions<2.0,>=1.2.1\n",
            "  Downloading starsessions-1.3.0-py3-none-any.whl (10 kB)\n",
            "Requirement already satisfied: beautifulsoup4<6.0,>=4.8.0 in /usr/local/lib/python3.9/dist-packages (from lightning) (4.11.2)\n",
            "Collecting torchmetrics<2.0,>=0.7.0\n",
            "  Downloading torchmetrics-0.11.4-py3-none-any.whl (519 kB)\n",
            "\u001b[2K     \u001b[90m━━━━━━━━━━━━━━━━━━━━━━━━━━━━━━━━━━━━━━\u001b[0m \u001b[32m519.2/519.2 kB\u001b[0m \u001b[31m43.8 MB/s\u001b[0m eta \u001b[36m0:00:00\u001b[0m\n",
            "\u001b[?25hRequirement already satisfied: packaging in /usr/local/lib/python3.9/dist-packages (from lightning) (23.1)\n",
            "Collecting deepdiff<8.0,>=5.7.0\n",
            "  Downloading deepdiff-6.3.0-py3-none-any.whl (69 kB)\n",
            "\u001b[2K     \u001b[90m━━━━━━━━━━━━━━━━━━━━━━━━━━━━━━━━━━━━━━━━\u001b[0m \u001b[32m69.7/69.7 kB\u001b[0m \u001b[31m9.7 MB/s\u001b[0m eta \u001b[36m0:00:00\u001b[0m\n",
            "\u001b[?25hRequirement already satisfied: psutil<7.0 in /usr/local/lib/python3.9/dist-packages (from lightning) (5.9.5)\n",
            "Collecting croniter<1.4.0,>=1.3.0\n",
            "  Downloading croniter-1.3.14-py2.py3-none-any.whl (18 kB)\n",
            "Collecting uvicorn<2.0\n",
            "  Downloading uvicorn-0.21.1-py3-none-any.whl (57 kB)\n",
            "\u001b[2K     \u001b[90m━━━━━━━━━━━━━━━━━━━━━━━━━━━━━━━━━━━━━━━━\u001b[0m \u001b[32m57.8/57.8 kB\u001b[0m \u001b[31m3.3 MB/s\u001b[0m eta \u001b[36m0:00:00\u001b[0m\n",
            "\u001b[?25hCollecting lightning-utilities<2.0,>=0.7.0\n",
            "  Downloading lightning_utilities-0.8.0-py3-none-any.whl (20 kB)\n",
            "Collecting dateutils<2.0\n",
            "  Downloading dateutils-0.6.12-py2.py3-none-any.whl (5.7 kB)\n",
            "Requirement already satisfied: pydantic<3.0 in /usr/local/lib/python3.9/dist-packages (from lightning) (1.10.7)\n",
            "Requirement already satisfied: urllib3<3.0 in /usr/local/lib/python3.9/dist-packages (from lightning) (1.26.15)\n",
            "Requirement already satisfied: tqdm<6.0,>=4.57.0 in /usr/local/lib/python3.9/dist-packages (from lightning) (4.65.0)\n",
            "Requirement already satisfied: requests<4.0 in /usr/local/lib/python3.9/dist-packages (from lightning) (2.27.1)\n",
            "Requirement already satisfied: Jinja2<5.0 in /usr/local/lib/python3.9/dist-packages (from lightning) (3.1.2)\n",
            "Requirement already satisfied: fsspec[http]<2025.0,>2021.06.0 in /usr/local/lib/python3.9/dist-packages (from lightning) (2023.4.0)\n",
            "Requirement already satisfied: typing-extensions<6.0,>=4.0.0 in /usr/local/lib/python3.9/dist-packages (from lightning) (4.5.0)\n",
            "Requirement already satisfied: python-dateutil>=2.7.0 in /usr/local/lib/python3.9/dist-packages (from arrow<3.0,>=1.2.0->lightning) (2.8.2)\n",
            "Requirement already satisfied: soupsieve>1.2 in /usr/local/lib/python3.9/dist-packages (from beautifulsoup4<6.0,>=4.8.0->lightning) (2.4.1)\n",
            "Requirement already satisfied: pytz in /usr/local/lib/python3.9/dist-packages (from dateutils<2.0->lightning) (2022.7.1)\n",
            "Collecting ordered-set<4.2.0,>=4.0.2\n",
            "  Downloading ordered_set-4.1.0-py3-none-any.whl (7.6 kB)\n",
            "Collecting starlette<2.0\n",
            "  Downloading starlette-0.22.0-py3-none-any.whl (64 kB)\n",
            "\u001b[2K     \u001b[90m━━━━━━━━━━━━━━━━━━━━━━━━━━━━━━━━━━━━━━━━\u001b[0m \u001b[32m64.3/64.3 kB\u001b[0m \u001b[31m4.1 MB/s\u001b[0m eta \u001b[36m0:00:00\u001b[0m\n",
            "\u001b[?25hRequirement already satisfied: anyio<5,>=3.4.0 in /usr/local/lib/python3.9/dist-packages (from starlette<2.0->lightning) (3.6.2)\n",
            "Collecting aiohttp!=4.0.0a0,!=4.0.0a1\n",
            "  Downloading aiohttp-3.8.4-cp39-cp39-manylinux_2_17_x86_64.manylinux2014_x86_64.whl (1.0 MB)\n",
            "\u001b[2K     \u001b[90m━━━━━━━━━━━━━━━━━━━━━━━━━━━━━━━━━━━━━━━━\u001b[0m \u001b[32m1.0/1.0 MB\u001b[0m \u001b[31m48.4 MB/s\u001b[0m eta \u001b[36m0:00:00\u001b[0m\n",
            "\u001b[?25hCollecting blessed>=1.19.0\n",
            "  Downloading blessed-1.20.0-py2.py3-none-any.whl (58 kB)\n",
            "\u001b[2K     \u001b[90m━━━━━━━━━━━━━━━━━━━━━━━━━━━━━━━━━━━━━━━━\u001b[0m \u001b[32m58.4/58.4 kB\u001b[0m \u001b[31m7.6 MB/s\u001b[0m eta \u001b[36m0:00:00\u001b[0m\n",
            "\u001b[?25hCollecting readchar>=3.0.6\n",
            "  Downloading readchar-4.0.5-py3-none-any.whl (8.5 kB)\n",
            "Collecting python-editor>=1.0.4\n",
            "  Downloading python_editor-1.0.4-py3-none-any.whl (4.9 kB)\n",
            "Requirement already satisfied: MarkupSafe>=2.0 in /usr/local/lib/python3.9/dist-packages (from Jinja2<5.0->lightning) (2.1.2)\n",
            "Requirement already satisfied: six in /usr/local/lib/python3.9/dist-packages (from lightning-cloud>=0.5.31->lightning) (1.16.0)\n",
            "Collecting pyjwt\n",
            "  Downloading PyJWT-2.6.0-py3-none-any.whl (20 kB)\n",
            "Collecting python-multipart\n",
            "  Downloading python_multipart-0.0.6-py3-none-any.whl (45 kB)\n",
            "\u001b[2K     \u001b[90m━━━━━━━━━━━━━━━━━━━━━━━━━━━━━━━━━━━━━━━━\u001b[0m \u001b[32m45.7/45.7 kB\u001b[0m \u001b[31m5.4 MB/s\u001b[0m eta \u001b[36m0:00:00\u001b[0m\n",
            "\u001b[?25hRequirement already satisfied: idna<4,>=2.5 in /usr/local/lib/python3.9/dist-packages (from requests<4.0->lightning) (3.4)\n",
            "Requirement already satisfied: charset-normalizer~=2.0.0 in /usr/local/lib/python3.9/dist-packages (from requests<4.0->lightning) (2.0.12)\n",
            "Requirement already satisfied: certifi>=2017.4.17 in /usr/local/lib/python3.9/dist-packages (from requests<4.0->lightning) (2022.12.7)\n",
            "Requirement already satisfied: markdown-it-py<3.0.0,>=2.2.0 in /usr/local/lib/python3.9/dist-packages (from rich<15.0,>=12.3.0->lightning) (2.2.0)\n",
            "Requirement already satisfied: pygments<3.0.0,>=2.13.0 in /usr/local/lib/python3.9/dist-packages (from rich<15.0,>=12.3.0->lightning) (2.14.0)\n",
            "Requirement already satisfied: itsdangerous<3.0.0,>=2.0.1 in /usr/local/lib/python3.9/dist-packages (from starsessions<2.0,>=1.2.1->lightning) (2.1.2)\n",
            "Requirement already satisfied: filelock in /usr/local/lib/python3.9/dist-packages (from torch<4.0,>=1.11.0->lightning) (3.11.0)\n",
            "Requirement already satisfied: networkx in /usr/local/lib/python3.9/dist-packages (from torch<4.0,>=1.11.0->lightning) (3.1)\n",
            "Requirement already satisfied: triton==2.0.0 in /usr/local/lib/python3.9/dist-packages (from torch<4.0,>=1.11.0->lightning) (2.0.0)\n",
            "Requirement already satisfied: sympy in /usr/local/lib/python3.9/dist-packages (from torch<4.0,>=1.11.0->lightning) (1.11.1)\n",
            "Requirement already satisfied: lit in /usr/local/lib/python3.9/dist-packages (from triton==2.0.0->torch<4.0,>=1.11.0->lightning) (16.0.1)\n",
            "Requirement already satisfied: cmake in /usr/local/lib/python3.9/dist-packages (from triton==2.0.0->torch<4.0,>=1.11.0->lightning) (3.25.2)\n",
            "Collecting h11>=0.8\n",
            "  Downloading h11-0.14.0-py3-none-any.whl (58 kB)\n",
            "\u001b[2K     \u001b[90m━━━━━━━━━━━━━━━━━━━━━━━━━━━━━━━━━━━━━━━━\u001b[0m \u001b[32m58.3/58.3 kB\u001b[0m \u001b[31m7.7 MB/s\u001b[0m eta \u001b[36m0:00:00\u001b[0m\n",
            "\u001b[?25hRequirement already satisfied: attrs>=17.3.0 in /usr/local/lib/python3.9/dist-packages (from aiohttp!=4.0.0a0,!=4.0.0a1->fsspec[http]<2025.0,>2021.06.0->lightning) (23.1.0)\n",
            "Collecting aiosignal>=1.1.2\n",
            "  Downloading aiosignal-1.3.1-py3-none-any.whl (7.6 kB)\n",
            "Collecting frozenlist>=1.1.1\n",
            "  Downloading frozenlist-1.3.3-cp39-cp39-manylinux_2_5_x86_64.manylinux1_x86_64.manylinux_2_17_x86_64.manylinux2014_x86_64.whl (158 kB)\n",
            "\u001b[2K     \u001b[90m━━━━━━━━━━━━━━━━━━━━━━━━━━━━━━━━━━━━━━\u001b[0m \u001b[32m158.8/158.8 kB\u001b[0m \u001b[31m20.9 MB/s\u001b[0m eta \u001b[36m0:00:00\u001b[0m\n",
            "\u001b[?25hCollecting multidict<7.0,>=4.5\n",
            "  Downloading multidict-6.0.4-cp39-cp39-manylinux_2_17_x86_64.manylinux2014_x86_64.whl (114 kB)\n",
            "\u001b[2K     \u001b[90m━━━━━━━━━━━━━━━━━━━━━━━━━━━━━━━━━━━━━━\u001b[0m \u001b[32m114.2/114.2 kB\u001b[0m \u001b[31m14.1 MB/s\u001b[0m eta \u001b[36m0:00:00\u001b[0m\n",
            "\u001b[?25hCollecting async-timeout<5.0,>=4.0.0a3\n",
            "  Downloading async_timeout-4.0.2-py3-none-any.whl (5.8 kB)\n",
            "Collecting yarl<2.0,>=1.0\n",
            "  Downloading yarl-1.8.2-cp39-cp39-manylinux_2_17_x86_64.manylinux2014_x86_64.whl (264 kB)\n",
            "\u001b[2K     \u001b[90m━━━━━━━━━━━━━━━━━━━━━━━━━━━━━━━━━━━━━━\u001b[0m \u001b[32m264.6/264.6 kB\u001b[0m \u001b[31m27.5 MB/s\u001b[0m eta \u001b[36m0:00:00\u001b[0m\n",
            "\u001b[?25hRequirement already satisfied: sniffio>=1.1 in /usr/local/lib/python3.9/dist-packages (from anyio<5,>=3.4.0->starlette<2.0->lightning) (1.3.0)\n",
            "Requirement already satisfied: wcwidth>=0.1.4 in /usr/local/lib/python3.9/dist-packages (from blessed>=1.19.0->inquirer<5.0,>=2.10.0->lightning) (0.2.6)\n",
            "Requirement already satisfied: mdurl~=0.1 in /usr/local/lib/python3.9/dist-packages (from markdown-it-py<3.0.0,>=2.2.0->rich<15.0,>=12.3.0->lightning) (0.1.2)\n",
            "Requirement already satisfied: setuptools>=41.0 in /usr/local/lib/python3.9/dist-packages (from readchar>=3.0.6->inquirer<5.0,>=2.10.0->lightning) (67.6.1)\n",
            "Requirement already satisfied: mpmath>=0.19 in /usr/local/lib/python3.9/dist-packages (from sympy->torch<4.0,>=1.11.0->lightning) (1.3.0)\n",
            "Installing collected packages: python-editor, websockets, readchar, python-multipart, pyjwt, ordered-set, multidict, lightning-utilities, h11, frozenlist, blessed, async-timeout, yarl, uvicorn, starlette, inquirer, deepdiff, dateutils, croniter, arrow, aiosignal, starsessions, fastapi, aiohttp, lightning-cloud, torchmetrics, pytorch-lightning, lightning\n",
            "Successfully installed aiohttp-3.8.4 aiosignal-1.3.1 arrow-1.2.3 async-timeout-4.0.2 blessed-1.20.0 croniter-1.3.14 dateutils-0.6.12 deepdiff-6.3.0 fastapi-0.88.0 frozenlist-1.3.3 h11-0.14.0 inquirer-3.1.3 lightning-2.0.1.post0 lightning-cloud-0.5.33 lightning-utilities-0.8.0 multidict-6.0.4 ordered-set-4.1.0 pyjwt-2.6.0 python-editor-1.0.4 python-multipart-0.0.6 pytorch-lightning-2.0.1.post0 readchar-4.0.5 starlette-0.22.0 starsessions-1.3.0 torchmetrics-0.11.4 uvicorn-0.21.1 websockets-11.0.2 yarl-1.8.2\n"
          ]
        }
      ]
    },
    {
      "cell_type": "code",
      "source": [
        "import torch\n",
        "import torch.nn as nn\n",
        "import lightning as L\n",
        "from torch.utils.tensorboard import SummaryWriter\n",
        "import torch.optim as optim\n",
        "from torch.utils.data import Dataset, DataLoader\n",
        "from sklearn.preprocessing import MinMaxScaler\n",
        "from pytorch_lightning import Trainer\n",
        "from pytorch_lightning.loggers import TensorBoardLogger"
      ],
      "metadata": {
        "id": "QUVCk5_ceuc3"
      },
      "execution_count": 46,
      "outputs": []
    },
    {
      "cell_type": "code",
      "source": [
        "# Lets start with one company \n",
        "X = data[0].drop(columns=['date', 'Close'])\n",
        "y = data[0]['Close']"
      ],
      "metadata": {
        "id": "QT-c4cUfe5xE"
      },
      "execution_count": 47,
      "outputs": []
    },
    {
      "cell_type": "code",
      "source": [
        "# Split data sequentially\n",
        "split_ratio = 0.7\n",
        "split_index = int(len(X) * split_ratio)\n",
        "X_train = X[:split_index]\n",
        "X_test = X[split_index:]\n",
        "y_train = y[:split_index]\n",
        "y_test = y[split_index:]"
      ],
      "metadata": {
        "id": "P6PjyJfxxxLd"
      },
      "execution_count": 48,
      "outputs": []
    },
    {
      "cell_type": "code",
      "source": [
        "X_train"
      ],
      "metadata": {
        "colab": {
          "base_uri": "https://localhost:8080/",
          "height": 419
        },
        "id": "Y3rMWlWM6mGM",
        "outputId": "ea29a403-ee2e-4c3c-e297-7c2766344700"
      },
      "execution_count": 49,
      "outputs": [
        {
          "output_type": "execute_result",
          "data": {
            "text/plain": [
              "            Open        High         Low   Adj Close    Volume  \\\n",
              "0      26.549999   26.959999   26.389999   21.413063  64731500   \n",
              "1      26.820000   27.469999   26.780001   21.916992  80516100   \n",
              "2      27.379999   27.730000   27.290001   22.140970  56081400   \n",
              "3      27.530001   28.190001   27.530001   22.484926  99455500   \n",
              "4      28.049999   28.100000   27.719999   22.188963  59706800   \n",
              "...          ...         ...         ...         ...       ...   \n",
              "1873  132.259995  133.789993  131.639999  127.583412  17821700   \n",
              "1874  132.630005  133.729996  132.529999  127.968758  14517800   \n",
              "1875  134.190002  135.240005  133.570007  130.193848  25934500   \n",
              "1876  135.000000  135.929993  133.809998  130.704376  23744400   \n",
              "1877  137.449997  137.660004  135.720001  131.918045  33042600   \n",
              "\n",
              "      sentiment_score  inflation_rate  interest_rate  yield_spread        gdp  \n",
              "0                 1.0         227.842           0.08          1.70  16068.824  \n",
              "1                 1.0         227.842           0.08          1.75  16068.824  \n",
              "2                 1.0         227.842           0.08          1.75  16068.824  \n",
              "3                 1.0         227.842           0.08          1.73  16068.824  \n",
              "4                 1.0         227.842           0.08          1.72  16068.824  \n",
              "...               ...             ...            ...           ...        ...  \n",
              "1873             -1.0         255.159           2.38          0.25  21272.448  \n",
              "1874              1.0         255.159           2.38          0.23  21272.448  \n",
              "1875              1.0         255.159           2.38          0.20  21272.448  \n",
              "1876              1.0         255.159           2.38          0.29  21272.448  \n",
              "1877              1.0         255.159           2.38          0.29  21272.448  \n",
              "\n",
              "[1878 rows x 10 columns]"
            ],
            "text/html": [
              "\n",
              "  <div id=\"df-98c10507-60bd-4ad2-a185-e70d6c8f5166\">\n",
              "    <div class=\"colab-df-container\">\n",
              "      <div>\n",
              "<style scoped>\n",
              "    .dataframe tbody tr th:only-of-type {\n",
              "        vertical-align: middle;\n",
              "    }\n",
              "\n",
              "    .dataframe tbody tr th {\n",
              "        vertical-align: top;\n",
              "    }\n",
              "\n",
              "    .dataframe thead th {\n",
              "        text-align: right;\n",
              "    }\n",
              "</style>\n",
              "<table border=\"1\" class=\"dataframe\">\n",
              "  <thead>\n",
              "    <tr style=\"text-align: right;\">\n",
              "      <th></th>\n",
              "      <th>Open</th>\n",
              "      <th>High</th>\n",
              "      <th>Low</th>\n",
              "      <th>Adj Close</th>\n",
              "      <th>Volume</th>\n",
              "      <th>sentiment_score</th>\n",
              "      <th>inflation_rate</th>\n",
              "      <th>interest_rate</th>\n",
              "      <th>yield_spread</th>\n",
              "      <th>gdp</th>\n",
              "    </tr>\n",
              "  </thead>\n",
              "  <tbody>\n",
              "    <tr>\n",
              "      <th>0</th>\n",
              "      <td>26.549999</td>\n",
              "      <td>26.959999</td>\n",
              "      <td>26.389999</td>\n",
              "      <td>21.413063</td>\n",
              "      <td>64731500</td>\n",
              "      <td>1.0</td>\n",
              "      <td>227.842</td>\n",
              "      <td>0.08</td>\n",
              "      <td>1.70</td>\n",
              "      <td>16068.824</td>\n",
              "    </tr>\n",
              "    <tr>\n",
              "      <th>1</th>\n",
              "      <td>26.820000</td>\n",
              "      <td>27.469999</td>\n",
              "      <td>26.780001</td>\n",
              "      <td>21.916992</td>\n",
              "      <td>80516100</td>\n",
              "      <td>1.0</td>\n",
              "      <td>227.842</td>\n",
              "      <td>0.08</td>\n",
              "      <td>1.75</td>\n",
              "      <td>16068.824</td>\n",
              "    </tr>\n",
              "    <tr>\n",
              "      <th>2</th>\n",
              "      <td>27.379999</td>\n",
              "      <td>27.730000</td>\n",
              "      <td>27.290001</td>\n",
              "      <td>22.140970</td>\n",
              "      <td>56081400</td>\n",
              "      <td>1.0</td>\n",
              "      <td>227.842</td>\n",
              "      <td>0.08</td>\n",
              "      <td>1.75</td>\n",
              "      <td>16068.824</td>\n",
              "    </tr>\n",
              "    <tr>\n",
              "      <th>3</th>\n",
              "      <td>27.530001</td>\n",
              "      <td>28.190001</td>\n",
              "      <td>27.530001</td>\n",
              "      <td>22.484926</td>\n",
              "      <td>99455500</td>\n",
              "      <td>1.0</td>\n",
              "      <td>227.842</td>\n",
              "      <td>0.08</td>\n",
              "      <td>1.73</td>\n",
              "      <td>16068.824</td>\n",
              "    </tr>\n",
              "    <tr>\n",
              "      <th>4</th>\n",
              "      <td>28.049999</td>\n",
              "      <td>28.100000</td>\n",
              "      <td>27.719999</td>\n",
              "      <td>22.188963</td>\n",
              "      <td>59706800</td>\n",
              "      <td>1.0</td>\n",
              "      <td>227.842</td>\n",
              "      <td>0.08</td>\n",
              "      <td>1.72</td>\n",
              "      <td>16068.824</td>\n",
              "    </tr>\n",
              "    <tr>\n",
              "      <th>...</th>\n",
              "      <td>...</td>\n",
              "      <td>...</td>\n",
              "      <td>...</td>\n",
              "      <td>...</td>\n",
              "      <td>...</td>\n",
              "      <td>...</td>\n",
              "      <td>...</td>\n",
              "      <td>...</td>\n",
              "      <td>...</td>\n",
              "      <td>...</td>\n",
              "    </tr>\n",
              "    <tr>\n",
              "      <th>1873</th>\n",
              "      <td>132.259995</td>\n",
              "      <td>133.789993</td>\n",
              "      <td>131.639999</td>\n",
              "      <td>127.583412</td>\n",
              "      <td>17821700</td>\n",
              "      <td>-1.0</td>\n",
              "      <td>255.159</td>\n",
              "      <td>2.38</td>\n",
              "      <td>0.25</td>\n",
              "      <td>21272.448</td>\n",
              "    </tr>\n",
              "    <tr>\n",
              "      <th>1874</th>\n",
              "      <td>132.630005</td>\n",
              "      <td>133.729996</td>\n",
              "      <td>132.529999</td>\n",
              "      <td>127.968758</td>\n",
              "      <td>14517800</td>\n",
              "      <td>1.0</td>\n",
              "      <td>255.159</td>\n",
              "      <td>2.38</td>\n",
              "      <td>0.23</td>\n",
              "      <td>21272.448</td>\n",
              "    </tr>\n",
              "    <tr>\n",
              "      <th>1875</th>\n",
              "      <td>134.190002</td>\n",
              "      <td>135.240005</td>\n",
              "      <td>133.570007</td>\n",
              "      <td>130.193848</td>\n",
              "      <td>25934500</td>\n",
              "      <td>1.0</td>\n",
              "      <td>255.159</td>\n",
              "      <td>2.38</td>\n",
              "      <td>0.20</td>\n",
              "      <td>21272.448</td>\n",
              "    </tr>\n",
              "    <tr>\n",
              "      <th>1876</th>\n",
              "      <td>135.000000</td>\n",
              "      <td>135.929993</td>\n",
              "      <td>133.809998</td>\n",
              "      <td>130.704376</td>\n",
              "      <td>23744400</td>\n",
              "      <td>1.0</td>\n",
              "      <td>255.159</td>\n",
              "      <td>2.38</td>\n",
              "      <td>0.29</td>\n",
              "      <td>21272.448</td>\n",
              "    </tr>\n",
              "    <tr>\n",
              "      <th>1877</th>\n",
              "      <td>137.449997</td>\n",
              "      <td>137.660004</td>\n",
              "      <td>135.720001</td>\n",
              "      <td>131.918045</td>\n",
              "      <td>33042600</td>\n",
              "      <td>1.0</td>\n",
              "      <td>255.159</td>\n",
              "      <td>2.38</td>\n",
              "      <td>0.29</td>\n",
              "      <td>21272.448</td>\n",
              "    </tr>\n",
              "  </tbody>\n",
              "</table>\n",
              "<p>1878 rows × 10 columns</p>\n",
              "</div>\n",
              "      <button class=\"colab-df-convert\" onclick=\"convertToInteractive('df-98c10507-60bd-4ad2-a185-e70d6c8f5166')\"\n",
              "              title=\"Convert this dataframe to an interactive table.\"\n",
              "              style=\"display:none;\">\n",
              "        \n",
              "  <svg xmlns=\"http://www.w3.org/2000/svg\" height=\"24px\"viewBox=\"0 0 24 24\"\n",
              "       width=\"24px\">\n",
              "    <path d=\"M0 0h24v24H0V0z\" fill=\"none\"/>\n",
              "    <path d=\"M18.56 5.44l.94 2.06.94-2.06 2.06-.94-2.06-.94-.94-2.06-.94 2.06-2.06.94zm-11 1L8.5 8.5l.94-2.06 2.06-.94-2.06-.94L8.5 2.5l-.94 2.06-2.06.94zm10 10l.94 2.06.94-2.06 2.06-.94-2.06-.94-.94-2.06-.94 2.06-2.06.94z\"/><path d=\"M17.41 7.96l-1.37-1.37c-.4-.4-.92-.59-1.43-.59-.52 0-1.04.2-1.43.59L10.3 9.45l-7.72 7.72c-.78.78-.78 2.05 0 2.83L4 21.41c.39.39.9.59 1.41.59.51 0 1.02-.2 1.41-.59l7.78-7.78 2.81-2.81c.8-.78.8-2.07 0-2.86zM5.41 20L4 18.59l7.72-7.72 1.47 1.35L5.41 20z\"/>\n",
              "  </svg>\n",
              "      </button>\n",
              "      \n",
              "  <style>\n",
              "    .colab-df-container {\n",
              "      display:flex;\n",
              "      flex-wrap:wrap;\n",
              "      gap: 12px;\n",
              "    }\n",
              "\n",
              "    .colab-df-convert {\n",
              "      background-color: #E8F0FE;\n",
              "      border: none;\n",
              "      border-radius: 50%;\n",
              "      cursor: pointer;\n",
              "      display: none;\n",
              "      fill: #1967D2;\n",
              "      height: 32px;\n",
              "      padding: 0 0 0 0;\n",
              "      width: 32px;\n",
              "    }\n",
              "\n",
              "    .colab-df-convert:hover {\n",
              "      background-color: #E2EBFA;\n",
              "      box-shadow: 0px 1px 2px rgba(60, 64, 67, 0.3), 0px 1px 3px 1px rgba(60, 64, 67, 0.15);\n",
              "      fill: #174EA6;\n",
              "    }\n",
              "\n",
              "    [theme=dark] .colab-df-convert {\n",
              "      background-color: #3B4455;\n",
              "      fill: #D2E3FC;\n",
              "    }\n",
              "\n",
              "    [theme=dark] .colab-df-convert:hover {\n",
              "      background-color: #434B5C;\n",
              "      box-shadow: 0px 1px 3px 1px rgba(0, 0, 0, 0.15);\n",
              "      filter: drop-shadow(0px 1px 2px rgba(0, 0, 0, 0.3));\n",
              "      fill: #FFFFFF;\n",
              "    }\n",
              "  </style>\n",
              "\n",
              "      <script>\n",
              "        const buttonEl =\n",
              "          document.querySelector('#df-98c10507-60bd-4ad2-a185-e70d6c8f5166 button.colab-df-convert');\n",
              "        buttonEl.style.display =\n",
              "          google.colab.kernel.accessAllowed ? 'block' : 'none';\n",
              "\n",
              "        async function convertToInteractive(key) {\n",
              "          const element = document.querySelector('#df-98c10507-60bd-4ad2-a185-e70d6c8f5166');\n",
              "          const dataTable =\n",
              "            await google.colab.kernel.invokeFunction('convertToInteractive',\n",
              "                                                     [key], {});\n",
              "          if (!dataTable) return;\n",
              "\n",
              "          const docLinkHtml = 'Like what you see? Visit the ' +\n",
              "            '<a target=\"_blank\" href=https://colab.research.google.com/notebooks/data_table.ipynb>data table notebook</a>'\n",
              "            + ' to learn more about interactive tables.';\n",
              "          element.innerHTML = '';\n",
              "          dataTable['output_type'] = 'display_data';\n",
              "          await google.colab.output.renderOutput(dataTable, element);\n",
              "          const docLink = document.createElement('div');\n",
              "          docLink.innerHTML = docLinkHtml;\n",
              "          element.appendChild(docLink);\n",
              "        }\n",
              "      </script>\n",
              "    </div>\n",
              "  </div>\n",
              "  "
            ]
          },
          "metadata": {},
          "execution_count": 49
        }
      ]
    },
    {
      "cell_type": "code",
      "source": [
        "# Normalize input \n",
        "scaler = MinMaxScaler()\n",
        "X_train = scaler.fit_transform(X_train)\n",
        "X_test = scaler.transform(X_test)"
      ],
      "metadata": {
        "id": "Z_4lMsnWyaC1"
      },
      "execution_count": 50,
      "outputs": []
    },
    {
      "cell_type": "code",
      "source": [
        "# Convert to tensor and send to GPU\n",
        "device = torch.device('cuda' if torch.cuda.is_available() else 'cpu')\n",
        "X_train = torch.from_numpy(X_train)\n",
        "y_train = torch.from_numpy(y_train.values)\n",
        "X_train.to(device)\n",
        "y_train.to(device)"
      ],
      "metadata": {
        "colab": {
          "base_uri": "https://localhost:8080/"
        },
        "id": "PeS0juisJN7W",
        "outputId": "e45e72cf-8ed9-4e75-9793-21bf706f4181"
      },
      "execution_count": 51,
      "outputs": [
        {
          "output_type": "execute_result",
          "data": {
            "text/plain": [
              "tensor([ 26.7700,  27.4000,  27.6800,  ..., 135.1600, 135.6900, 136.9500],\n",
              "       device='cuda:0', dtype=torch.float64)"
            ]
          },
          "metadata": {},
          "execution_count": 51
        }
      ]
    },
    {
      "cell_type": "code",
      "source": [
        "sequence_length = X_train.shape[0]\n",
        "input_size = X_train.shape[1]\n",
        "\n",
        "reshaped_tensor = X_train.view(sequence_length, 1, input_size)\n",
        "reshaped_tensor.to(device)\n"
      ],
      "metadata": {
        "colab": {
          "base_uri": "https://localhost:8080/"
        },
        "id": "_AQe6zW8iOMU",
        "outputId": "b0c44390-229b-45e7-ab90-36c0b4f39686"
      },
      "execution_count": 52,
      "outputs": [
        {
          "output_type": "execute_result",
          "data": {
            "text/plain": [
              "tensor([[[0.0015, 0.0030, 0.0012,  ..., 0.0043, 0.6235, 0.0000]],\n",
              "\n",
              "        [[0.0040, 0.0076, 0.0048,  ..., 0.0043, 0.6431, 0.0000]],\n",
              "\n",
              "        [[0.0090, 0.0099, 0.0094,  ..., 0.0043, 0.6431, 0.0000]],\n",
              "\n",
              "        ...,\n",
              "\n",
              "        [[0.9706, 0.9782, 0.9804,  ..., 0.9830, 0.0353, 1.0000]],\n",
              "\n",
              "        [[0.9779, 0.9844, 0.9826,  ..., 0.9830, 0.0706, 1.0000]],\n",
              "\n",
              "        [[1.0000, 1.0000, 1.0000,  ..., 0.9830, 0.0706, 1.0000]]],\n",
              "       device='cuda:0', dtype=torch.float64)"
            ]
          },
          "metadata": {},
          "execution_count": 52
        }
      ]
    },
    {
      "cell_type": "code",
      "source": [
        "# FOR PURPOSE OF TESTING\n",
        "# Tensor shape: (Number of samples, sequence length, number of features)\n",
        "# Tensor expected: (Number of days of stock, how many days in parallel to analyze, number of columns in dataset)\n",
        "dum_data = np.array(data[0]['Close'])\n",
        "tr = dum_data[:int(len(X) * 0.7)]\n",
        "ts = dum_data[int(len(X) * 0.7):]\n",
        "\n",
        "tr = scaler.fit_transform(tr.reshape(-1,1))\n",
        "ts = scaler.transform(ts.reshape(-1,1))"
      ],
      "metadata": {
        "id": "LL4xT025MyPb"
      },
      "execution_count": 185,
      "outputs": []
    },
    {
      "cell_type": "code",
      "source": [
        "def transform_sequence(x, seq_len):\n",
        "    # Calculate the number of sequences\n",
        "    num_seqs = len(x) - seq_len + 1\n",
        "\n",
        "    # Create a 2D array of indices for selecting the elements of x\n",
        "    idx = np.arange(seq_len)[None, :] + np.arange(num_seqs)[:, None]\n",
        "\n",
        "    # Use the indices to select the elements of x and reshape the result\n",
        "    data = x[idx].reshape(num_seqs, seq_len, 1)\n",
        "\n",
        "    return data\n",
        "tra = transform_sequence(tr, seq_len=40)\n",
        "tra_y = tra[:, 0]"
      ],
      "metadata": {
        "id": "-uIV8G1LONvB"
      },
      "execution_count": 186,
      "outputs": []
    },
    {
      "cell_type": "code",
      "source": [
        "tra_y.shape"
      ],
      "metadata": {
        "colab": {
          "base_uri": "https://localhost:8080/"
        },
        "id": "z51TmwO9FJit",
        "outputId": "7d89aa2b-224f-4bae-be7f-42e6bebe2efd"
      },
      "execution_count": 156,
      "outputs": [
        {
          "output_type": "execute_result",
          "data": {
            "text/plain": [
              "(1839, 1)"
            ]
          },
          "metadata": {},
          "execution_count": 156
        }
      ]
    },
    {
      "cell_type": "code",
      "source": [
        "def plot_variables_over_time(x, y):\n",
        "    x_time = range(x.shape[0])\n",
        "    y_time = range(x.shape[0], x.shape[0]+y.shape[0])\n",
        "    plt.plot(x_time, x[:, 0], color='black')\n",
        "    plt.plot(y_time, y[:, 0], color='blue')\n",
        "    plt.xlabel('Time')\n",
        "    plt.ylabel('Value')\n",
        "    plt.legend()\n",
        "    plt.show()\n",
        "plot_variables_over_time(tr.reshape(-1,1),ts)"
      ],
      "metadata": {
        "colab": {
          "base_uri": "https://localhost:8080/",
          "height": 501
        },
        "id": "khbVNjjKXMK_",
        "outputId": "f44bdf77-1752-48ff-af7b-88e05b37ee87"
      },
      "execution_count": 187,
      "outputs": [
        {
          "output_type": "stream",
          "name": "stderr",
          "text": [
            "WARNING:matplotlib.legend:No artists with labels found to put in legend.  Note that artists whose label start with an underscore are ignored when legend() is called with no argument.\n"
          ]
        },
        {
          "output_type": "display_data",
          "data": {
            "text/plain": [
              "<Figure size 640x480 with 1 Axes>"
            ],
            "image/png": "[encoded data removed]"
          },
          "metadata": {}
        }
      ]
    },
    {
      "cell_type": "code",
      "source": [
        "tra = torch.from_numpy(tra)\n",
        "tra_y = torch.from_numpy(tra_y)"
      ],
      "metadata": {
        "id": "_-7nKWhR9Cgt"
      },
      "execution_count": 188,
      "outputs": []
    },
    {
      "cell_type": "code",
      "source": [
        "class LSTM(nn.Module):\n",
        "    def __init__(self, input_size, hidden_size, num_layers, output_size):\n",
        "        super(LSTM, self).__init__()\n",
        "        self.num_layers = num_layers\n",
        "        self.hidden_size = hidden_size\n",
        "        self.lstm = nn.LSTM(input_size, hidden_size, num_layers, batch_first=True)\n",
        "        self.fc = nn.Linear(hidden_size, output_size)\n",
        "\n",
        "    def forward(self, x):\n",
        "        h0 = torch.zeros(self.num_layers, x.size(0), self.hidden_size).requires_grad_()\n",
        "        c0 = torch.zeros(self.num_layers, x.size(0), self.hidden_size).requires_grad_()\n",
        "        out, (hn, cn) = self.lstm(x, (h0.detach(), c0.detach()))\n",
        "        out = self.fc(out[:, -1, :]) \n",
        "        return out"
      ],
      "metadata": {
        "id": "MOuFoCbaOpZe"
      },
      "execution_count": 189,
      "outputs": []
    },
    {
      "cell_type": "code",
      "source": [
        "input_size = 1\n",
        "hidden_size = 32\n",
        "num_layers = 1\n",
        "output_size = 1\n",
        "\n",
        "model = LSTM(input_size=input_size, hidden_size=hidden_size, num_layers=num_layers, output_size=output_size)\n",
        "criterion = torch.nn.MSELoss(reduction='mean')\n",
        "optimiser = torch.optim.Adam(model.parameters(), lr=0.01)\n",
        "\n"
      ],
      "metadata": {
        "id": "MyzEmKlE2vR0"
      },
      "execution_count": 190,
      "outputs": []
    },
    {
      "cell_type": "code",
      "source": [
        "import time\n",
        "num_epochs = 70\n",
        "hist = np.zeros(num_epochs)\n",
        "start_time = time.time()\n",
        "lstm = []\n",
        "tra_y = tra_y.float()\n",
        "\n",
        "for t in range(num_epochs):\n",
        "    y_train_pred = model(tra.float())\n",
        "\n",
        "    print(y_train_pred.shape)\n",
        "\n",
        "    loss = criterion(y_train_pred, tra_y)\n",
        "    print(\"Epoch \", t, \"MSE: \", loss.item())\n",
        "    hist[t] = loss.item()\n",
        "    print(loss.dtype)\n",
        "    loss = loss.float()\n",
        "    print(loss.dtype)\n",
        "\n",
        "    optimiser.zero_grad()\n",
        "    loss.backward()\n",
        "    optimiser.step()\n",
        "    \n",
        "training_time = time.time()-start_time\n",
        "print(\"Training time: {}\".format(training_time))"
      ],
      "metadata": {
        "colab": {
          "base_uri": "https://localhost:8080/"
        },
        "id": "h-HivE5rAgDf",
        "outputId": "1b02b3cd-e613-4d9e-a86f-f34e257e930c"
      },
      "execution_count": 191,
      "outputs": [
        {
          "output_type": "stream",
          "name": "stdout",
          "text": [
            "torch.Size([1839, 1])\n",
            "Epoch  0 MSE:  0.18939314782619476\n",
            "torch.float32\n",
            "torch.float32\n",
            "torch.Size([1839, 1])\n",
            "Epoch  1 MSE:  0.1262311190366745\n",
            "torch.float32\n",
            "torch.float32\n",
            "torch.Size([1839, 1])\n",
            "Epoch  2 MSE:  0.08237051218748093\n",
            "torch.float32\n",
            "torch.float32\n",
            "torch.Size([1839, 1])\n",
            "Epoch  3 MSE:  0.052859723567962646\n",
            "torch.float32\n",
            "torch.float32\n",
            "torch.Size([1839, 1])\n",
            "Epoch  4 MSE:  0.04377097636461258\n",
            "torch.float32\n",
            "torch.float32\n",
            "torch.Size([1839, 1])\n",
            "Epoch  5 MSE:  0.06060732901096344\n",
            "torch.float32\n",
            "torch.float32\n",
            "torch.Size([1839, 1])\n",
            "Epoch  6 MSE:  0.05425127223134041\n",
            "torch.float32\n",
            "torch.float32\n",
            "torch.Size([1839, 1])\n",
            "Epoch  7 MSE:  0.04317322373390198\n",
            "torch.float32\n",
            "torch.float32\n",
            "torch.Size([1839, 1])\n",
            "Epoch  8 MSE:  0.037700895220041275\n",
            "torch.float32\n",
            "torch.float32\n",
            "torch.Size([1839, 1])\n",
            "Epoch  9 MSE:  0.03650232404470444\n",
            "torch.float32\n",
            "torch.float32\n",
            "torch.Size([1839, 1])\n",
            "Epoch  10 MSE:  0.03694082424044609\n",
            "torch.float32\n",
            "torch.float32\n",
            "torch.Size([1839, 1])\n",
            "Epoch  11 MSE:  0.03729470446705818\n",
            "torch.float32\n",
            "torch.float32\n",
            "torch.Size([1839, 1])\n",
            "Epoch  12 MSE:  0.0366935171186924\n",
            "torch.float32\n",
            "torch.float32\n",
            "torch.Size([1839, 1])\n",
            "Epoch  13 MSE:  0.03485313057899475\n",
            "torch.float32\n",
            "torch.float32\n",
            "torch.Size([1839, 1])\n",
            "Epoch  14 MSE:  0.03187866881489754\n",
            "torch.float32\n",
            "torch.float32\n",
            "torch.Size([1839, 1])\n",
            "Epoch  15 MSE:  0.02813568152487278\n",
            "torch.float32\n",
            "torch.float32\n",
            "torch.Size([1839, 1])\n",
            "Epoch  16 MSE:  0.024171780794858932\n",
            "torch.float32\n",
            "torch.float32\n",
            "torch.Size([1839, 1])\n",
            "Epoch  17 MSE:  0.020645903423428535\n",
            "torch.float32\n",
            "torch.float32\n",
            "torch.Size([1839, 1])\n",
            "Epoch  18 MSE:  0.018161684274673462\n",
            "torch.float32\n",
            "torch.float32\n",
            "torch.Size([1839, 1])\n",
            "Epoch  19 MSE:  0.016805002465844154\n",
            "torch.float32\n",
            "torch.float32\n",
            "torch.Size([1839, 1])\n",
            "Epoch  20 MSE:  0.015392531640827656\n",
            "torch.float32\n",
            "torch.float32\n",
            "torch.Size([1839, 1])\n",
            "Epoch  21 MSE:  0.011894063092768192\n",
            "torch.float32\n",
            "torch.float32\n",
            "torch.Size([1839, 1])\n",
            "Epoch  22 MSE:  0.006591633893549442\n",
            "torch.float32\n",
            "torch.float32\n",
            "torch.Size([1839, 1])\n",
            "Epoch  23 MSE:  0.002912507625296712\n",
            "torch.float32\n",
            "torch.float32\n",
            "torch.Size([1839, 1])\n",
            "Epoch  24 MSE:  0.0029353287536650896\n",
            "torch.float32\n",
            "torch.float32\n",
            "torch.Size([1839, 1])\n",
            "Epoch  25 MSE:  0.00467285979539156\n",
            "torch.float32\n",
            "torch.float32\n",
            "torch.Size([1839, 1])\n",
            "Epoch  26 MSE:  0.006253451574593782\n",
            "torch.float32\n",
            "torch.float32\n",
            "torch.Size([1839, 1])\n",
            "Epoch  27 MSE:  0.00806693360209465\n",
            "torch.float32\n",
            "torch.float32\n",
            "torch.Size([1839, 1])\n",
            "Epoch  28 MSE:  0.005928822793066502\n",
            "torch.float32\n",
            "torch.float32\n",
            "torch.Size([1839, 1])\n",
            "Epoch  29 MSE:  0.0036179369781166315\n",
            "torch.float32\n",
            "torch.float32\n",
            "torch.Size([1839, 1])\n",
            "Epoch  30 MSE:  0.0023815040476620197\n",
            "torch.float32\n",
            "torch.float32\n",
            "torch.Size([1839, 1])\n",
            "Epoch  31 MSE:  0.0017078667879104614\n",
            "torch.float32\n",
            "torch.float32\n",
            "torch.Size([1839, 1])\n",
            "Epoch  32 MSE:  0.001569643965922296\n",
            "torch.float32\n",
            "torch.float32\n",
            "torch.Size([1839, 1])\n",
            "Epoch  33 MSE:  0.0019202746916562319\n",
            "torch.float32\n",
            "torch.float32\n",
            "torch.Size([1839, 1])\n",
            "Epoch  34 MSE:  0.002437473041936755\n",
            "torch.float32\n",
            "torch.float32\n",
            "torch.Size([1839, 1])\n",
            "Epoch  35 MSE:  0.002771926112473011\n",
            "torch.float32\n",
            "torch.float32\n",
            "torch.Size([1839, 1])\n",
            "Epoch  36 MSE:  0.002824847586452961\n",
            "torch.float32\n",
            "torch.float32\n",
            "torch.Size([1839, 1])\n",
            "Epoch  37 MSE:  0.002716543385758996\n",
            "torch.float32\n",
            "torch.float32\n",
            "torch.Size([1839, 1])\n",
            "Epoch  38 MSE:  0.0025737264659255743\n",
            "torch.float32\n",
            "torch.float32\n",
            "torch.Size([1839, 1])\n",
            "Epoch  39 MSE:  0.0024124328047037125\n",
            "torch.float32\n",
            "torch.float32\n",
            "torch.Size([1839, 1])\n",
            "Epoch  40 MSE:  0.002179518109187484\n",
            "torch.float32\n",
            "torch.float32\n",
            "torch.Size([1839, 1])\n",
            "Epoch  41 MSE:  0.0018536148127168417\n",
            "torch.float32\n",
            "torch.float32\n",
            "torch.Size([1839, 1])\n",
            "Epoch  42 MSE:  0.0015051779337227345\n",
            "torch.float32\n",
            "torch.float32\n",
            "torch.Size([1839, 1])\n",
            "Epoch  43 MSE:  0.0012642736546695232\n",
            "torch.float32\n",
            "torch.float32\n",
            "torch.Size([1839, 1])\n",
            "Epoch  44 MSE:  0.0012064140755683184\n",
            "torch.float32\n",
            "torch.float32\n",
            "torch.Size([1839, 1])\n",
            "Epoch  45 MSE:  0.0012674041790887713\n",
            "torch.float32\n",
            "torch.float32\n",
            "torch.Size([1839, 1])\n",
            "Epoch  46 MSE:  0.0013276259414851665\n",
            "torch.float32\n",
            "torch.float32\n",
            "torch.Size([1839, 1])\n",
            "Epoch  47 MSE:  0.001368638244457543\n",
            "torch.float32\n",
            "torch.float32\n",
            "torch.Size([1839, 1])\n",
            "Epoch  48 MSE:  0.0014394345926120877\n",
            "torch.float32\n",
            "torch.float32\n",
            "torch.Size([1839, 1])\n",
            "Epoch  49 MSE:  0.001510934322141111\n",
            "torch.float32\n",
            "torch.float32\n",
            "torch.Size([1839, 1])\n",
            "Epoch  50 MSE:  0.0014929583994671702\n",
            "torch.float32\n",
            "torch.float32\n",
            "torch.Size([1839, 1])\n",
            "Epoch  51 MSE:  0.0013672119239345193\n",
            "torch.float32\n",
            "torch.float32\n",
            "torch.Size([1839, 1])\n",
            "Epoch  52 MSE:  0.001216786913573742\n",
            "torch.float32\n",
            "torch.float32\n",
            "torch.Size([1839, 1])\n",
            "Epoch  53 MSE:  0.0011245193891227245\n",
            "torch.float32\n",
            "torch.float32\n",
            "torch.Size([1839, 1])\n",
            "Epoch  54 MSE:  0.0010920616332441568\n",
            "torch.float32\n",
            "torch.float32\n",
            "torch.Size([1839, 1])\n",
            "Epoch  55 MSE:  0.0010765136685222387\n",
            "torch.float32\n",
            "torch.float32\n",
            "torch.Size([1839, 1])\n",
            "Epoch  56 MSE:  0.0010654395446181297\n",
            "torch.float32\n",
            "torch.float32\n",
            "torch.Size([1839, 1])\n",
            "Epoch  57 MSE:  0.001078491099178791\n",
            "torch.float32\n",
            "torch.float32\n",
            "torch.Size([1839, 1])\n",
            "Epoch  58 MSE:  0.0011187357595190406\n",
            "torch.float32\n",
            "torch.float32\n",
            "torch.Size([1839, 1])\n",
            "Epoch  59 MSE:  0.0011577151017263532\n",
            "torch.float32\n",
            "torch.float32\n",
            "torch.Size([1839, 1])\n",
            "Epoch  60 MSE:  0.0011659297160804272\n",
            "torch.float32\n",
            "torch.float32\n",
            "torch.Size([1839, 1])\n",
            "Epoch  61 MSE:  0.0011416218476369977\n",
            "torch.float32\n",
            "torch.float32\n",
            "torch.Size([1839, 1])\n",
            "Epoch  62 MSE:  0.0011062382254749537\n",
            "torch.float32\n",
            "torch.float32\n",
            "torch.Size([1839, 1])\n",
            "Epoch  63 MSE:  0.001077728345990181\n",
            "torch.float32\n",
            "torch.float32\n",
            "torch.Size([1839, 1])\n",
            "Epoch  64 MSE:  0.001055192551575601\n",
            "torch.float32\n",
            "torch.float32\n",
            "torch.Size([1839, 1])\n",
            "Epoch  65 MSE:  0.0010316679254174232\n",
            "torch.float32\n",
            "torch.float32\n",
            "torch.Size([1839, 1])\n",
            "Epoch  66 MSE:  0.0010129698785021901\n",
            "torch.float32\n",
            "torch.float32\n",
            "torch.Size([1839, 1])\n",
            "Epoch  67 MSE:  0.0010123471729457378\n",
            "torch.float32\n",
            "torch.float32\n",
            "torch.Size([1839, 1])\n",
            "Epoch  68 MSE:  0.0010297466069459915\n",
            "torch.float32\n",
            "torch.float32\n",
            "torch.Size([1839, 1])\n",
            "Epoch  69 MSE:  0.00104881776496768\n",
            "torch.float32\n",
            "torch.float32\n",
            "Training time: 13.096532344818115\n"
          ]
        }
      ]
    },
    {
      "cell_type": "code",
      "source": [
        "plt.plot(hist, label=\"Training loss\")\n",
        "plt.legend()\n",
        "plt.show()"
      ],
      "metadata": {
        "colab": {
          "base_uri": "https://localhost:8080/",
          "height": 449
        },
        "id": "X4jlY7wjH-Dj",
        "outputId": "ea2d066b-1e8a-436e-d213-3b714620ed36"
      },
      "execution_count": 192,
      "outputs": [
        {
          "output_type": "display_data",
          "data": {
            "text/plain": [
              "<Figure size 640x480 with 1 Axes>"
            ],
            "image/png": "[encoded data removed]"
          },
          "metadata": {}
        }
      ]
    },
    {
      "cell_type": "code",
      "source": [
        "np.shape(y_train_pred)\n",
        "ts = torch.from_numpy(ts)"
      ],
      "metadata": {
        "colab": {
          "base_uri": "https://localhost:8080/"
        },
        "id": "Rp1U3SpoIDS1",
        "outputId": "c06996b0-3bb0-4419-aae0-8d1a0166d104"
      },
      "execution_count": 201,
      "outputs": [
        {
          "output_type": "execute_result",
          "data": {
            "text/plain": [
              "torch.Size([1839, 1])"
            ]
          },
          "metadata": {},
          "execution_count": 201
        }
      ]
    },
    {
      "cell_type": "code",
      "source": [
        "ts = transform_sequence(ts, seq_len=40)\n",
        "ts_y = ts[:, 0]\n",
        "y_test_pred = model(ts.float())"
      ],
      "metadata": {
        "id": "CoiTDMTvIzgx"
      },
      "execution_count": 198,
      "outputs": []
    },
    {
      "cell_type": "code",
      "source": [
        "from sklearn.metrics import mean_squared_error\n",
        "from math import sqrt\n",
        "y_train_pred = scaler.inverse_transform(tra.detach().numpy())\n",
        "y_train = scaler.inverse_transform(tra_y.detach().numpy())\n",
        "y_test_pred = scaler.inverse_transform(y_test_pred.detach().numpy())\n",
        "y_test = scaler.inverse_transform(y_test.detach().numpy())\n",
        "\n",
        "# calculate root mean squared error\n",
        "trainScore = sqrt(mean_squared_error(y_train[:,0], y_train_pred[:,0]))\n",
        "print('Train Score: %.2f RMSE' % (trainScore))\n",
        "testScore = sqrt(mean_squared_error(y_test[:,0], y_test_pred[:,0]))\n",
        "print('Test Score: %.2f RMSE' % (testScore))"
      ],
      "metadata": {
        "colab": {
          "base_uri": "https://localhost:8080/",
          "height": 392
        },
        "id": "G8-T6qOpI5W0",
        "outputId": "8e11508b-ce34-4801-9fcd-d3aeae8101d3"
      },
      "execution_count": 200,
      "outputs": [
        {
          "output_type": "error",
          "ename": "ValueError",
          "evalue": "ignored",
          "traceback": [
            "\u001b[0;31m---------------------------------------------------------------------------\u001b[0m",
            "\u001b[0;31mValueError\u001b[0m                                Traceback (most recent call last)",
            "\u001b[0;32m<ipython-input-200-1e02e6a72783>\u001b[0m in \u001b[0;36m<cell line: 3>\u001b[0;34m()\u001b[0m\n\u001b[1;32m      1\u001b[0m \u001b[0;32mfrom\u001b[0m \u001b[0msklearn\u001b[0m\u001b[0;34m.\u001b[0m\u001b[0mmetrics\u001b[0m \u001b[0;32mimport\u001b[0m \u001b[0mmean_squared_error\u001b[0m\u001b[0;34m\u001b[0m\u001b[0;34m\u001b[0m\u001b[0m\n\u001b[1;32m      2\u001b[0m \u001b[0;32mfrom\u001b[0m \u001b[0mmath\u001b[0m \u001b[0;32mimport\u001b[0m \u001b[0msqrt\u001b[0m\u001b[0;34m\u001b[0m\u001b[0;34m\u001b[0m\u001b[0m\n\u001b[0;32m----> 3\u001b[0;31m \u001b[0my_train_pred\u001b[0m \u001b[0;34m=\u001b[0m \u001b[0mscaler\u001b[0m\u001b[0;34m.\u001b[0m\u001b[0minverse_transform\u001b[0m\u001b[0;34m(\u001b[0m\u001b[0mtra\u001b[0m\u001b[0;34m.\u001b[0m\u001b[0mdetach\u001b[0m\u001b[0;34m(\u001b[0m\u001b[0;34m)\u001b[0m\u001b[0;34m.\u001b[0m\u001b[0mnumpy\u001b[0m\u001b[0;34m(\u001b[0m\u001b[0;34m)\u001b[0m\u001b[0;34m)\u001b[0m\u001b[0;34m\u001b[0m\u001b[0;34m\u001b[0m\u001b[0m\n\u001b[0m\u001b[1;32m      4\u001b[0m \u001b[0my_train\u001b[0m \u001b[0;34m=\u001b[0m \u001b[0mscaler\u001b[0m\u001b[0;34m.\u001b[0m\u001b[0minverse_transform\u001b[0m\u001b[0;34m(\u001b[0m\u001b[0mtra_y\u001b[0m\u001b[0;34m.\u001b[0m\u001b[0mdetach\u001b[0m\u001b[0;34m(\u001b[0m\u001b[0;34m)\u001b[0m\u001b[0;34m.\u001b[0m\u001b[0mnumpy\u001b[0m\u001b[0;34m(\u001b[0m\u001b[0;34m)\u001b[0m\u001b[0;34m)\u001b[0m\u001b[0;34m\u001b[0m\u001b[0;34m\u001b[0m\u001b[0m\n\u001b[1;32m      5\u001b[0m \u001b[0my_test_pred\u001b[0m \u001b[0;34m=\u001b[0m \u001b[0mscaler\u001b[0m\u001b[0;34m.\u001b[0m\u001b[0minverse_transform\u001b[0m\u001b[0;34m(\u001b[0m\u001b[0my_test_pred\u001b[0m\u001b[0;34m.\u001b[0m\u001b[0mdetach\u001b[0m\u001b[0;34m(\u001b[0m\u001b[0;34m)\u001b[0m\u001b[0;34m.\u001b[0m\u001b[0mnumpy\u001b[0m\u001b[0;34m(\u001b[0m\u001b[0;34m)\u001b[0m\u001b[0;34m)\u001b[0m\u001b[0;34m\u001b[0m\u001b[0;34m\u001b[0m\u001b[0m\n",
            "\u001b[0;32m/usr/local/lib/python3.9/dist-packages/sklearn/preprocessing/_data.py\u001b[0m in \u001b[0;36minverse_transform\u001b[0;34m(self, X)\u001b[0m\n\u001b[1;32m    535\u001b[0m         \u001b[0mcheck_is_fitted\u001b[0m\u001b[0;34m(\u001b[0m\u001b[0mself\u001b[0m\u001b[0;34m)\u001b[0m\u001b[0;34m\u001b[0m\u001b[0;34m\u001b[0m\u001b[0m\n\u001b[1;32m    536\u001b[0m \u001b[0;34m\u001b[0m\u001b[0m\n\u001b[0;32m--> 537\u001b[0;31m         X = check_array(\n\u001b[0m\u001b[1;32m    538\u001b[0m             \u001b[0mX\u001b[0m\u001b[0;34m,\u001b[0m \u001b[0mcopy\u001b[0m\u001b[0;34m=\u001b[0m\u001b[0mself\u001b[0m\u001b[0;34m.\u001b[0m\u001b[0mcopy\u001b[0m\u001b[0;34m,\u001b[0m \u001b[0mdtype\u001b[0m\u001b[0;34m=\u001b[0m\u001b[0mFLOAT_DTYPES\u001b[0m\u001b[0;34m,\u001b[0m \u001b[0mforce_all_finite\u001b[0m\u001b[0;34m=\u001b[0m\u001b[0;34m\"allow-nan\"\u001b[0m\u001b[0;34m\u001b[0m\u001b[0;34m\u001b[0m\u001b[0m\n\u001b[1;32m    539\u001b[0m         )\n",
            "\u001b[0;32m/usr/local/lib/python3.9/dist-packages/sklearn/utils/validation.py\u001b[0m in \u001b[0;36mcheck_array\u001b[0;34m(array, accept_sparse, accept_large_sparse, dtype, order, copy, force_all_finite, ensure_2d, allow_nd, ensure_min_samples, ensure_min_features, estimator, input_name)\u001b[0m\n\u001b[1;32m    913\u001b[0m             )\n\u001b[1;32m    914\u001b[0m         \u001b[0;32mif\u001b[0m \u001b[0;32mnot\u001b[0m \u001b[0mallow_nd\u001b[0m \u001b[0;32mand\u001b[0m \u001b[0marray\u001b[0m\u001b[0;34m.\u001b[0m\u001b[0mndim\u001b[0m \u001b[0;34m>=\u001b[0m \u001b[0;36m3\u001b[0m\u001b[0;34m:\u001b[0m\u001b[0;34m\u001b[0m\u001b[0;34m\u001b[0m\u001b[0m\n\u001b[0;32m--> 915\u001b[0;31m             raise ValueError(\n\u001b[0m\u001b[1;32m    916\u001b[0m                 \u001b[0;34m\"Found array with dim %d. %s expected <= 2.\"\u001b[0m\u001b[0;34m\u001b[0m\u001b[0;34m\u001b[0m\u001b[0m\n\u001b[1;32m    917\u001b[0m                 \u001b[0;34m%\u001b[0m \u001b[0;34m(\u001b[0m\u001b[0marray\u001b[0m\u001b[0;34m.\u001b[0m\u001b[0mndim\u001b[0m\u001b[0;34m,\u001b[0m \u001b[0mestimator_name\u001b[0m\u001b[0;34m)\u001b[0m\u001b[0;34m\u001b[0m\u001b[0;34m\u001b[0m\u001b[0m\n",
            "\u001b[0;31mValueError\u001b[0m: Found array with dim 3. None expected <= 2."
          ]
        }
      ]
    },
    {
      "cell_type": "code",
      "source": [
        "class LSTMModel(nn.Module):\n",
        "  \"\"\"\n",
        "\n",
        "  Input_size: Number of features in the training data\n",
        "\n",
        "  Hidden size: Number of cells in each layer of LSTM\n",
        "\n",
        "  Num_layers: Depth of the RNN modelEach layer takes as input the hidden state \n",
        "  output by the previous layer, and produces its own output hidden state. \n",
        "\n",
        "  output_size: How many timesteps we would like to predict for the future\n",
        "  \"\"\"\n",
        "  def __init__(self, input_size, hidden_size, num_layers, output_size):\n",
        "        super(LSTMModel, self).__init__()\n",
        "        self.hidden_size = hidden_size\n",
        "        self.num_layers = num_layers\n",
        "        self.lstm = nn.LSTM(input_size, hidden_size, num_layers, batch_first=True)\n",
        "        self.fc = nn.Linear(hidden_size, output_size)\n",
        "\n",
        "  def forward(self, x):\n",
        "    # Initialize hidden state with zeros\n",
        "    h0 = torch.zeros(self.num_layers, x.size(0), self.hidden_size).to(device)\n",
        "\n",
        "    # Initialize cell state\n",
        "    c0 = torch.zeros(self.num_layers, x.size(0), self.hidden_size).to(device)\n",
        "\n",
        "    # We need to detach as we are doing truncated backpropagation through time (BPTT)\n",
        "    # If we don't, we'll backprop all the way to the start even after going through another batch\n",
        "    out, (hn, cn) = self.lstm(x, (h0.detach(), c0.detach()))\n",
        "\n",
        "    # Index hidden state of last time step\n",
        "    # out.size() --> 100, 32, 100\n",
        "    # out[:, -1, :] --> 100, 100 --> just want last time step hidden states! \n",
        "    out = self.fc(out[:, -1, :])\n",
        "    out.to(device)\n",
        "    # out.size() --> 100, 10\n",
        "    return out"
      ],
      "metadata": {
        "id": "CMxHKa5n9LZ5"
      },
      "execution_count": 57,
      "outputs": []
    },
    {
      "cell_type": "code",
      "source": [
        "input_dim = 10\n",
        "hidden_dim = 32\n",
        "num_layers = 2 \n",
        "output_dim = 1\n",
        "learning_rate = 0.01\n",
        "\n",
        "criterion = torch.nn.MSELoss(reduction='mean')\n",
        "model = LSTMModel(input_size=input_dim, hidden_size=hidden_dim, num_layers=num_layers, output_size=output_dim)\n",
        "model.to(device)\n",
        "optimizer = torch.optim.Adam(model.parameters(), lr=learning_rate)\n",
        "\n",
        "print(model)\n",
        "print(len(list(model.parameters())))\n",
        "for i in range(len(list(model.parameters()))):\n",
        "    print(list(model.parameters())[i].size())"
      ],
      "metadata": {
        "colab": {
          "base_uri": "https://localhost:8080/"
        },
        "id": "xScSujDYfoTv",
        "outputId": "bcb0fed3-c71b-43e8-8c28-d3ef41b54922"
      },
      "execution_count": 58,
      "outputs": [
        {
          "output_type": "stream",
          "name": "stdout",
          "text": [
            "LSTMModel(\n",
            "  (lstm): LSTM(10, 32, num_layers=2, batch_first=True)\n",
            "  (fc): Linear(in_features=32, out_features=1, bias=True)\n",
            ")\n",
            "10\n",
            "torch.Size([128, 10])\n",
            "torch.Size([128, 32])\n",
            "torch.Size([128])\n",
            "torch.Size([128])\n",
            "torch.Size([128, 32])\n",
            "torch.Size([128, 32])\n",
            "torch.Size([128])\n",
            "torch.Size([128])\n",
            "torch.Size([1, 32])\n",
            "torch.Size([1])\n"
          ]
        }
      ]
    },
    {
      "cell_type": "code",
      "source": [
        "\n",
        "num_epochs = 100\n",
        "reshaped_tensor.to(device)\n",
        "for epoch in range(num_epochs):\n",
        "    model.train()\n",
        "    optimizer.zero_grad()\n",
        "    \n",
        "    y_train_pred = model(reshaped_tensor)\n",
        "    loss = criterion(y_train_pred, y_train)\n",
        "    loss.backward()\n",
        "    optimizer.step()\n",
        "\n",
        "    if (epoch+1) % 10 == 0:\n",
        "        print(f'Epoch: {epoch+1}, Loss')"
      ],
      "metadata": {
        "colab": {
          "base_uri": "https://localhost:8080/",
          "height": 375
        },
        "id": "uCHc-Qs-gFBb",
        "outputId": "05981ab3-6e63-4ed3-f596-36013f3f0ffb"
      },
      "execution_count": 59,
      "outputs": [
        {
          "output_type": "error",
          "ename": "RuntimeError",
          "evalue": "ignored",
          "traceback": [
            "\u001b[0;31m---------------------------------------------------------------------------\u001b[0m",
            "\u001b[0;31mRuntimeError\u001b[0m                              Traceback (most recent call last)",
            "\u001b[0;32m<ipython-input-59-41ec9eca70df>\u001b[0m in \u001b[0;36m<cell line: 3>\u001b[0;34m()\u001b[0m\n\u001b[1;32m      5\u001b[0m     \u001b[0moptimizer\u001b[0m\u001b[0;34m.\u001b[0m\u001b[0mzero_grad\u001b[0m\u001b[0;34m(\u001b[0m\u001b[0;34m)\u001b[0m\u001b[0;34m\u001b[0m\u001b[0;34m\u001b[0m\u001b[0m\n\u001b[1;32m      6\u001b[0m \u001b[0;34m\u001b[0m\u001b[0m\n\u001b[0;32m----> 7\u001b[0;31m     \u001b[0my_train_pred\u001b[0m \u001b[0;34m=\u001b[0m \u001b[0mmodel\u001b[0m\u001b[0;34m(\u001b[0m\u001b[0mreshaped_tensor\u001b[0m\u001b[0;34m)\u001b[0m\u001b[0;34m\u001b[0m\u001b[0;34m\u001b[0m\u001b[0m\n\u001b[0m\u001b[1;32m      8\u001b[0m     \u001b[0mloss\u001b[0m \u001b[0;34m=\u001b[0m \u001b[0mcriterion\u001b[0m\u001b[0;34m(\u001b[0m\u001b[0my_train_pred\u001b[0m\u001b[0;34m,\u001b[0m \u001b[0my_train\u001b[0m\u001b[0;34m)\u001b[0m\u001b[0;34m\u001b[0m\u001b[0;34m\u001b[0m\u001b[0m\n\u001b[1;32m      9\u001b[0m     \u001b[0mloss\u001b[0m\u001b[0;34m.\u001b[0m\u001b[0mbackward\u001b[0m\u001b[0;34m(\u001b[0m\u001b[0;34m)\u001b[0m\u001b[0;34m\u001b[0m\u001b[0;34m\u001b[0m\u001b[0m\n",
            "\u001b[0;32m/usr/local/lib/python3.9/dist-packages/torch/nn/modules/module.py\u001b[0m in \u001b[0;36m_call_impl\u001b[0;34m(self, *args, **kwargs)\u001b[0m\n\u001b[1;32m   1499\u001b[0m                 \u001b[0;32mor\u001b[0m \u001b[0m_global_backward_pre_hooks\u001b[0m \u001b[0;32mor\u001b[0m \u001b[0m_global_backward_hooks\u001b[0m\u001b[0;34m\u001b[0m\u001b[0;34m\u001b[0m\u001b[0m\n\u001b[1;32m   1500\u001b[0m                 or _global_forward_hooks or _global_forward_pre_hooks):\n\u001b[0;32m-> 1501\u001b[0;31m             \u001b[0;32mreturn\u001b[0m \u001b[0mforward_call\u001b[0m\u001b[0;34m(\u001b[0m\u001b[0;34m*\u001b[0m\u001b[0margs\u001b[0m\u001b[0;34m,\u001b[0m \u001b[0;34m**\u001b[0m\u001b[0mkwargs\u001b[0m\u001b[0;34m)\u001b[0m\u001b[0;34m\u001b[0m\u001b[0;34m\u001b[0m\u001b[0m\n\u001b[0m\u001b[1;32m   1502\u001b[0m         \u001b[0;31m# Do not call functions when jit is used\u001b[0m\u001b[0;34m\u001b[0m\u001b[0;34m\u001b[0m\u001b[0m\n\u001b[1;32m   1503\u001b[0m         \u001b[0mfull_backward_hooks\u001b[0m\u001b[0;34m,\u001b[0m \u001b[0mnon_full_backward_hooks\u001b[0m \u001b[0;34m=\u001b[0m \u001b[0;34m[\u001b[0m\u001b[0;34m]\u001b[0m\u001b[0;34m,\u001b[0m \u001b[0;34m[\u001b[0m\u001b[0;34m]\u001b[0m\u001b[0;34m\u001b[0m\u001b[0;34m\u001b[0m\u001b[0m\n",
            "\u001b[0;32m<ipython-input-57-b62b944959e0>\u001b[0m in \u001b[0;36mforward\u001b[0;34m(self, x)\u001b[0m\n\u001b[1;32m     27\u001b[0m     \u001b[0;31m# We need to detach as we are doing truncated backpropagation through time (BPTT)\u001b[0m\u001b[0;34m\u001b[0m\u001b[0;34m\u001b[0m\u001b[0m\n\u001b[1;32m     28\u001b[0m     \u001b[0;31m# If we don't, we'll backprop all the way to the start even after going through another batch\u001b[0m\u001b[0;34m\u001b[0m\u001b[0;34m\u001b[0m\u001b[0m\n\u001b[0;32m---> 29\u001b[0;31m     \u001b[0mout\u001b[0m\u001b[0;34m,\u001b[0m \u001b[0;34m(\u001b[0m\u001b[0mhn\u001b[0m\u001b[0;34m,\u001b[0m \u001b[0mcn\u001b[0m\u001b[0;34m)\u001b[0m \u001b[0;34m=\u001b[0m \u001b[0mself\u001b[0m\u001b[0;34m.\u001b[0m\u001b[0mlstm\u001b[0m\u001b[0;34m(\u001b[0m\u001b[0mx\u001b[0m\u001b[0;34m,\u001b[0m \u001b[0;34m(\u001b[0m\u001b[0mh0\u001b[0m\u001b[0;34m.\u001b[0m\u001b[0mdetach\u001b[0m\u001b[0;34m(\u001b[0m\u001b[0;34m)\u001b[0m\u001b[0;34m,\u001b[0m \u001b[0mc0\u001b[0m\u001b[0;34m.\u001b[0m\u001b[0mdetach\u001b[0m\u001b[0;34m(\u001b[0m\u001b[0;34m)\u001b[0m\u001b[0;34m)\u001b[0m\u001b[0;34m)\u001b[0m\u001b[0;34m\u001b[0m\u001b[0;34m\u001b[0m\u001b[0m\n\u001b[0m\u001b[1;32m     30\u001b[0m \u001b[0;34m\u001b[0m\u001b[0m\n\u001b[1;32m     31\u001b[0m     \u001b[0;31m# Index hidden state of last time step\u001b[0m\u001b[0;34m\u001b[0m\u001b[0;34m\u001b[0m\u001b[0m\n",
            "\u001b[0;32m/usr/local/lib/python3.9/dist-packages/torch/nn/modules/module.py\u001b[0m in \u001b[0;36m_call_impl\u001b[0;34m(self, *args, **kwargs)\u001b[0m\n\u001b[1;32m   1499\u001b[0m                 \u001b[0;32mor\u001b[0m \u001b[0m_global_backward_pre_hooks\u001b[0m \u001b[0;32mor\u001b[0m \u001b[0m_global_backward_hooks\u001b[0m\u001b[0;34m\u001b[0m\u001b[0;34m\u001b[0m\u001b[0m\n\u001b[1;32m   1500\u001b[0m                 or _global_forward_hooks or _global_forward_pre_hooks):\n\u001b[0;32m-> 1501\u001b[0;31m             \u001b[0;32mreturn\u001b[0m \u001b[0mforward_call\u001b[0m\u001b[0;34m(\u001b[0m\u001b[0;34m*\u001b[0m\u001b[0margs\u001b[0m\u001b[0;34m,\u001b[0m \u001b[0;34m**\u001b[0m\u001b[0mkwargs\u001b[0m\u001b[0;34m)\u001b[0m\u001b[0;34m\u001b[0m\u001b[0;34m\u001b[0m\u001b[0m\n\u001b[0m\u001b[1;32m   1502\u001b[0m         \u001b[0;31m# Do not call functions when jit is used\u001b[0m\u001b[0;34m\u001b[0m\u001b[0;34m\u001b[0m\u001b[0m\n\u001b[1;32m   1503\u001b[0m         \u001b[0mfull_backward_hooks\u001b[0m\u001b[0;34m,\u001b[0m \u001b[0mnon_full_backward_hooks\u001b[0m \u001b[0;34m=\u001b[0m \u001b[0;34m[\u001b[0m\u001b[0;34m]\u001b[0m\u001b[0;34m,\u001b[0m \u001b[0;34m[\u001b[0m\u001b[0;34m]\u001b[0m\u001b[0;34m\u001b[0m\u001b[0;34m\u001b[0m\u001b[0m\n",
            "\u001b[0;32m/usr/local/lib/python3.9/dist-packages/torch/nn/modules/rnn.py\u001b[0m in \u001b[0;36mforward\u001b[0;34m(self, input, hx)\u001b[0m\n\u001b[1;32m    810\u001b[0m         \u001b[0mself\u001b[0m\u001b[0;34m.\u001b[0m\u001b[0mcheck_forward_args\u001b[0m\u001b[0;34m(\u001b[0m\u001b[0minput\u001b[0m\u001b[0;34m,\u001b[0m \u001b[0mhx\u001b[0m\u001b[0;34m,\u001b[0m \u001b[0mbatch_sizes\u001b[0m\u001b[0;34m)\u001b[0m\u001b[0;34m\u001b[0m\u001b[0;34m\u001b[0m\u001b[0m\n\u001b[1;32m    811\u001b[0m         \u001b[0;32mif\u001b[0m \u001b[0mbatch_sizes\u001b[0m \u001b[0;32mis\u001b[0m \u001b[0;32mNone\u001b[0m\u001b[0;34m:\u001b[0m\u001b[0;34m\u001b[0m\u001b[0;34m\u001b[0m\u001b[0m\n\u001b[0;32m--> 812\u001b[0;31m             result = _VF.lstm(input, hx, self._flat_weights, self.bias, self.num_layers,\n\u001b[0m\u001b[1;32m    813\u001b[0m                               self.dropout, self.training, self.bidirectional, self.batch_first)\n\u001b[1;32m    814\u001b[0m         \u001b[0;32melse\u001b[0m\u001b[0;34m:\u001b[0m\u001b[0;34m\u001b[0m\u001b[0;34m\u001b[0m\u001b[0m\n",
            "\u001b[0;31mRuntimeError\u001b[0m: Input and hidden tensors are not at the same device, found input tensor at cpu and hidden tensor at cuda:0"
          ]
        }
      ]
    },
    {
      "cell_type": "code",
      "source": [
        "# class LSTMModel(nn.Module):\n",
        "#     def __init__(self, input_size, hidden_size, num_layers, output_size):\n",
        "#         super(LSTMModel, self).__init__()\n",
        "#         self.hidden_size = hidden_size\n",
        "#         self.num_layers = num_layers\n",
        "#         self.lstm = nn.LSTM(input_size, hidden_size, num_layers, batch_first=True)\n",
        "#         self.fc = nn.Linear(hidden_size, output_size)\n",
        "\n",
        "#     def forward(self, x):\n",
        "#         h0 = torch.zeros(self.num_layers, x.size(0), self.hidden_size).cuda()\n",
        "#         c0 = torch.zeros(self.num_layers, x.size(0), self.hidden_size).cuda()\n",
        "#         out, _ = self.lstm(x, (h0, c0))\n",
        "#         out = self.fc(out[:, -1, :])\n",
        "#         return out"
      ],
      "metadata": {
        "id": "c3LFTR1bzKwq"
      },
      "execution_count": null,
      "outputs": []
    },
    {
      "cell_type": "code",
      "source": [
        "# class StockPredictor(L.LightningModule):\n",
        "#     def __init__(self, input_size, hidden_size, num_layers, output_size, learning_rate=1e-3):\n",
        "#         super(StockPredictor, self).__init__()\n",
        "#         self.model = LSTMModel(input_size, hidden_size, num_layers, output_size)\n",
        "#         self.loss = nn.MSELoss()\n",
        "#         self.learning_rate = learning_rate\n",
        "\n",
        "#     def forward(self, x):\n",
        "#         return self.model(x)\n",
        "\n",
        "#     def training_step(self, batch, batch_idx):\n",
        "#         x, y = batch\n",
        "#         y_hat = self(x)\n",
        "#         loss = self.loss(y_hat, y)\n",
        "#         self.log(\"train_loss\", loss, prog_bar=True, logger=True)\n",
        "#         return loss\n",
        "\n",
        "#     def validation_step(self, batch, batch_idx):\n",
        "#         x, y = batch\n",
        "#         y_hat = self(x)\n",
        "#         loss = self.loss(y_hat, y)\n",
        "#         self.log(\"val_loss\", loss, prog_bar=True, logger=True)\n",
        "#         return loss\n",
        "\n",
        "#     def test_step(self, batch, batch_idx):\n",
        "#         x, y = batch\n",
        "#         y_hat = self(x)\n",
        "#         loss = self.loss(y_hat, y)\n",
        "#         self.log(\"test_loss\", loss, prog_bar=True, logger=True)\n",
        "#         return loss\n",
        "\n",
        "#     def configure_optimizers(self):\n",
        "#         optimizer = optim.Adam(self.parameters(), lr=self.learning_rate)\n",
        "#         return optimizer\n"
      ],
      "metadata": {
        "id": "qyIjE4670oBw"
      },
      "execution_count": null,
      "outputs": []
    },
    {
      "cell_type": "code",
      "source": [
        "# input_size = X_train.shape[1]  # Number of features\n",
        "# hidden_size = 64  # Adjust based on your preference\n",
        "# num_layers = 2  # Adjust based on your preference\n",
        "# output_size = 1  # We're predicting a single output value (closing price)\n",
        "# print(X_train.shape)\n",
        "\n",
        "# stock_predictor = StockPredictor(input_size, hidden_size, num_layers, output_size)\n",
        "# logger = TensorBoardLogger(save_dir=\"logs\", name=\"stock_predictor\")\n"
      ],
      "metadata": {
        "id": "m9-ZEhpOzUNX"
      },
      "execution_count": null,
      "outputs": []
    },
    {
      "cell_type": "code",
      "source": [
        "# trainer = L.Trainer(\n",
        "#     max_epochs=100,  # Adjust based on your preference\n",
        "#     logger=logger,\n",
        "#     log_every_n_steps=10,  # Adjust based on your preference\n",
        "# )\n",
        "# trainer.fit(stock_predictor, train_dataloader, test_dataloader)\n"
      ],
      "metadata": {
        "id": "GQmwI64cz5Oz"
      },
      "execution_count": null,
      "outputs": []
    },
    {
      "cell_type": "code",
      "source": [
        "trainer.test(stock_predictor, test_dataloaders=test_dataloader)"
      ],
      "metadata": {
        "id": "_0QlDmk01N2N"
      },
      "execution_count": null,
      "outputs": []
    },
    {
      "cell_type": "code",
      "source": [
        "%load_ext tensorboard"
      ],
      "metadata": {
        "id": "jlJfaF5S0aV4"
      },
      "execution_count": null,
      "outputs": []
    },
    {
      "cell_type": "code",
      "source": [
        "%tensorboard --logdir logs"
      ],
      "metadata": {
        "id": "Z8unuU8H0fco"
      },
      "execution_count": null,
      "outputs": []
    }
  ]
}